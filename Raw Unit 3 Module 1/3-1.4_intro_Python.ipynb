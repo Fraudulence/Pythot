{
  "cells": [
    {
      "metadata": {},
      "cell_type": "markdown",
      "source": "# Section 1.4: File System\n* sys.platform\n* os: os.getcwd, os.chdir, os.listdir, os.mkdir, os.rmdir, os.rename\n* os.path: os.path.abspath, os.path.exists, os.path.isfile, os.path.isdir\n\n### Students will be able to:\n* Identify the platform running a Python script ('Linux', 'win32', 'Darwin')\n* Get the current working directory\n* Change the current working directory\n* List the content of the current working directory\n* Create a new directory\n* Remove a directory\n* Rename files and directories\n* Recognize the difference between relative and absolute paths\n* Test whether a path exists\n* Test whether a specific file or directory exists\n"
    },
    {
      "metadata": {},
      "cell_type": "markdown",
      "source": "---\n<font size=\"6\" color=\"#00A0B2\"  face=\"verdana\"> <B>Concepts</B></font>  \n\n\n## Platform Identification\n[![view video](https://iajupyterprodblobs.blob.core.windows.net/imagecontainer/common/play_video.png)](http://edxinteractivepage.blob.core.windows.net/edxpages/f7cff1a7-5601-48a1-95a6-fd1fdfabd20e.html?details=[{\"src\":\"http://jupyternootbookwams.streaming.mediaservices.windows.net/0ff85a85-7e41-4b56-9f8d-d9011225d54c/DEV330x-1_4a_platform.ism/manifest\",\"type\":\"application/vnd.ms-sstr+xml\"}],[{\"src\":\"http://jupyternootbookwams.streaming.mediaservices.windows.net/9d4fe926-4a98-4c1a-9dc4-77d66c648d86/DEV330x-1_4a_platform.vtt\",\"srclang\":\"en\",\"kind\":\"subtitles\",\"label\":\"english\"}])\n\nIn recent years, when you reach the download page of a website, you are directed to download a file that matches your operating system. For example, when using a Windows computer, download links direct you to .exe files; similarly, when using a Mac, you download links direct you to .dmg files. This code awareness makes the user experience more pleasant.\n\nPython scripts can run on different platforms, including Windows, Mac, and Linux. The `sys` module provides access to several system variables, including the platform. If you know the platform your Python code is running on, you may be able to change the behavior of your application to accommodate that platform."
    },
    {
      "metadata": {},
      "cell_type": "markdown",
      "source": "---\n<font size=\"6\" color=\"#00A0B2\"  face=\"verdana\"> <B>Examples</B></font>\n\n### Identifying the platform"
    },
    {
      "metadata": {
        "trusted": true
      },
      "cell_type": "code",
      "source": "import sys\n\nprint(sys.platform)",
      "execution_count": 1,
      "outputs": [
        {
          "output_type": "stream",
          "text": "linux\n",
          "name": "stdout"
        }
      ]
    },
    {
      "metadata": {},
      "cell_type": "markdown",
      "source": "---\n<font size=\"6\" color=\"#00A0B2\"  face=\"verdana\"> <B>Concepts</B></font>  \n\n\n## Directory Operations\n[![view video](https://iajupyterprodblobs.blob.core.windows.net/imagecontainer/common/play_video.png)](http://edxinteractivepage.blob.core.windows.net/edxpages/f7cff1a7-5601-48a1-95a6-fd1fdfabd20e.html?details=[{\"src\":\"http://jupyternootbookwams.streaming.mediaservices.windows.net/f27ecdae-1e25-49cd-9a86-8de1e9bb79b8/DEV330x-1_4b_directory_operation.ism/manifest\",\"type\":\"application/vnd.ms-sstr+xml\"}],[{\"src\":\"http://jupyternootbookwams.streaming.mediaservices.windows.net/b1eac977-5006-4373-9466-223a5a4f42da/DEV330x-1_4b_directory_operations_modified.vtt\",\"srclang\":\"en\",\"kind\":\"subtitles\",\"label\":\"english\"}])\n\nMost operating systems organize files in hierarchical structures. For example, directories (also known as folders) may contain other directories and files. The Python `os` module contains some useful functions to navigate and manipulate files and directories. In the following sections, you will see how to perform some basic directory operations.\n\n#### Finding and changing the current working directory\nWhen navigating the hierarchical file system, you will always be located in a directory. The directory you're in is referred to as the \"current working directory\", or \"cwd\" for short. Python's `os.getcwd()` nethod returns a string containing the current working directory path.\n\nThe working directory can be changed in Python using `os.chdir(path)`, which changes the cwd into `path`, which is a string variable containing a path to the new working directory.\n\nNOTE: When changing a working directory, you can specify `..` as your path. This effectively changes the working directory one level up into the parent directory.\n\n#### Listing the content of a directory\nYou might need to access or read the content of a directory. The `os.listdir()` method returns a list of the files and directories in the current working directory.\n\n#### Creating and removing directories\nIn Python, a new directory can be created manually using `os.mkdir(path)`, where `path` is the path and name of the new directory. Similarly, a directory can be removed using `os.rmdir(path)`, where `path` is the name of the directory to be deleted. Note that `rmdir` can delete only empty directories; if the directory specified by path is not empty, an error will be raised.\n\n#### Renaming files and directories\nMany tasks can be automated by Python. For example, if you want to rename a large number of files to match a predefined pattern, you can use Python's `os.rename(src, dst)` method, in which `src` is a string containing the path of a source file or directory, and `dst` is a string containing the new (destination) path and/or name."
    },
    {
      "metadata": {},
      "cell_type": "markdown",
      "source": "---\n<font size=\"6\" color=\"#00A0B2\"  face=\"verdana\"> <B>Examples</B></font>\n"
    },
    {
      "metadata": {},
      "cell_type": "markdown",
      "source": "### Directory structure\nThe examples in this lesson traverse through the following directory structure. \n\nparent_dir\n    \n    |__  child1_dir\n    |    |\n    |    |_ leaf1.txt\n    |\n    |__ child2_dir\n    |    |\n    |    |_ leaf2.txt\n    |\n    |__ parent_leaf.txt\n    |\n    |__ text_file.txt\n\n#### Directories\nThe directories in this structure are parent_dir, child1_dir, and child2_dir.\n\n#### Files\nThe files in this structure are leaf1.txt, leaf2.txt, parent_leaf.txt, and text_file.txt."
    },
    {
      "metadata": {},
      "cell_type": "markdown",
      "source": "### Working directory\nIn this example, you will change the current working directory to parent_dir, then to child1_dir, then back to parent_dir. You will also see a printout of the current working directory at every step."
    },
    {
      "metadata": {
        "trusted": true
      },
      "cell_type": "code",
      "source": "import os\n\n# Change the current working directory to parent dir\nos.chdir('parent_dir')\nprint('Working directory: ', os.getcwd())\n\n# Change the current working directory to child1 dir\nos.chdir('child1_dir')\nprint('Changed working dir to child1: ', os.getcwd())\n\n# Change the current working directory back to the parent dir\nos.chdir('..')\nprint('Changed working dir back to parent: ', os.getcwd())",
      "execution_count": 2,
      "outputs": [
        {
          "output_type": "error",
          "ename": "FileNotFoundError",
          "evalue": "[Errno 2] No such file or directory: 'parent_dir'",
          "traceback": [
            "\u001b[0;31m---------------------------------------------------------------------------\u001b[0m",
            "\u001b[0;31mFileNotFoundError\u001b[0m                         Traceback (most recent call last)",
            "\u001b[0;32m<ipython-input-2-f52218ca9ab6>\u001b[0m in \u001b[0;36m<module>\u001b[0;34m()\u001b[0m\n\u001b[1;32m      2\u001b[0m \u001b[0;34m\u001b[0m\u001b[0m\n\u001b[1;32m      3\u001b[0m \u001b[0;31m# Change the current working directory to parent dir\u001b[0m\u001b[0;34m\u001b[0m\u001b[0;34m\u001b[0m\u001b[0m\n\u001b[0;32m----> 4\u001b[0;31m \u001b[0mos\u001b[0m\u001b[0;34m.\u001b[0m\u001b[0mchdir\u001b[0m\u001b[0;34m(\u001b[0m\u001b[0;34m'parent_dir'\u001b[0m\u001b[0;34m)\u001b[0m\u001b[0;34m\u001b[0m\u001b[0m\n\u001b[0m\u001b[1;32m      5\u001b[0m \u001b[0mprint\u001b[0m\u001b[0;34m(\u001b[0m\u001b[0;34m'Working directory: '\u001b[0m\u001b[0;34m,\u001b[0m \u001b[0mos\u001b[0m\u001b[0;34m.\u001b[0m\u001b[0mgetcwd\u001b[0m\u001b[0;34m(\u001b[0m\u001b[0;34m)\u001b[0m\u001b[0;34m)\u001b[0m\u001b[0;34m\u001b[0m\u001b[0m\n\u001b[1;32m      6\u001b[0m \u001b[0;34m\u001b[0m\u001b[0m\n",
            "\u001b[0;31mFileNotFoundError\u001b[0m: [Errno 2] No such file or directory: 'parent_dir'"
          ]
        }
      ]
    },
    {
      "metadata": {},
      "cell_type": "markdown",
      "source": "### Directory content\nIn this example, you will list the content of the current working directory (parent_dir)."
    },
    {
      "metadata": {
        "trusted": true
      },
      "cell_type": "code",
      "source": "import os\n\n# Print the current working directory (should be \"parent_dir\")\nprint('The current working directory is:', os.getcwd())\n\n# List the content of the directory (both files and other directories)\nprint('Current directory content: ', os.listdir())",
      "execution_count": 5,
      "outputs": [
        {
          "output_type": "stream",
          "text": "The current working directory is: /home/nbuser/library\nCurrent directory content:  ['3-1.2_intro_Python.ipynb', '3-1.5_Mod01_Practice.ipynb', '3-1.3_intro_Python.ipynb', '.ipynb_checkpoints', '3-1.4_intro_Python.ipynb', '3-1.1_intro_Python.ipynb']\n",
          "name": "stdout"
        }
      ]
    },
    {
      "metadata": {},
      "cell_type": "markdown",
      "source": "### Creating and removing directories\nIn this example, you will create and remove directories."
    },
    {
      "metadata": {
        "trusted": true
      },
      "cell_type": "code",
      "source": "import os\n\n# Print the current working directory (should be \"parent_dir\")\nprint('The current working directory is:', os.getcwd())\n\n# Create a new directory \nos.mkdir('new_child')\nprint('Created new_child dir')\n\n# List the content of the directory\nprint('Current directory content: ', os.listdir())\n\n# Remove the new child directory\nos.rmdir('new_child')\nprint('Removed new_child dir')\n\n# List the content of the directory\nprint('Current directory content: ', os.listdir())",
      "execution_count": 4,
      "outputs": [
        {
          "output_type": "stream",
          "text": "The current working directory is: /home/nbuser/library\nCreated new_child dir\nCurrent directory content:  ['new_child', '3-1.4_intro_Python.ipynb', '3-1.3_intro_Python.ipynb', '.ipynb_checkpoints', '3-1.2_intro_Python.ipynb', '3-1.1_intro_Python.ipynb', '3-1.5_Mod01_Practice.ipynb']\nRemoved new_child dir\nCurrent directory content:  ['3-1.4_intro_Python.ipynb', '3-1.3_intro_Python.ipynb', '.ipynb_checkpoints', '3-1.2_intro_Python.ipynb', '3-1.1_intro_Python.ipynb', '3-1.5_Mod01_Practice.ipynb']\n",
          "name": "stdout"
        }
      ]
    },
    {
      "metadata": {},
      "cell_type": "markdown",
      "source": "### Renaming directories\nIn this example, you will create a new directory, and then change its name."
    },
    {
      "metadata": {
        "trusted": false
      },
      "cell_type": "code",
      "source": "import os\n\n# Print the current working directory (should be \"parent_dir\")\nprint('The current working directory is:', os.getcwd())\n\n# Create a new directory \nos.mkdir('new_child')\nprint('Created new_child dir')\n\n# List the content of the directory\nprint('Current directory content:', os.listdir())\n\n# Rename new_child as old_child\nos.rename('new_child', 'old_child')\nprint('Renamed new_child as old_child')\n# List the content of the dir\nprint('Current directory content: ', os.listdir())\n\n# Remove the old_child dir\nos.rmdir('old_child')\nprint('Removed old_child dir')\nprint('Current directory content: ', os.listdir())",
      "execution_count": null,
      "outputs": []
    },
    {
      "metadata": {},
      "cell_type": "markdown",
      "source": "---\n<font size=\"6\" color=\"#B24C00\"  face=\"verdana\"> <B>Task 1</B></font>\n\n## Directory Operations\n"
    },
    {
      "metadata": {
        "trusted": false
      },
      "cell_type": "code",
      "source": "# [ ] Write a program to:\n# 1) Prompt the user for a directory name\n# 2) Create the directory\n# 3) Verify the directory was created by listing the content of the current working directory\n# 4) Remove the created directory\n# 5) Verify the directory was removed by listing the content of the current working directory\n\n\n",
      "execution_count": null,
      "outputs": []
    },
    {
      "metadata": {
        "trusted": false
      },
      "cell_type": "code",
      "source": "# [ ] Write a program to:\n# 1) Create a directory called \"my_dir\"\n# 2) Change the current working directory to \"my_dir\"\n# 3) Verify you are in the correct directory by displaying the current working directory\n# 4) Change the working directory back to the parent directory\n# 5) Verify you are in the correct directory by displaying the current working directory\n# 6) Rename \"my_dir\" to \"your_dir\"\n# 7) Verify the directory was renamed by listing the content of the current working directory\n# 8) Remove \"your_dir\"\n# 9) Verify the directory was removed by listing the content of the current working directory\n\n\n",
      "execution_count": null,
      "outputs": []
    },
    {
      "metadata": {},
      "cell_type": "markdown",
      "source": "---\n<font size=\"6\" color=\"#00A0B2\"  face=\"verdana\"> <B>Concepts</B></font>  \n\n\n## Path Operations\n[![view video](https://iajupyterprodblobs.blob.core.windows.net/imagecontainer/common/play_video.png)](http://edxinteractivepage.blob.core.windows.net/edxpages/f7cff1a7-5601-48a1-95a6-fd1fdfabd20e.html?details=[{\"src\":\"http://jupyternootbookwams.streaming.mediaservices.windows.net/a37e2766-ff8d-4588-89de-ca68296ed072/DEV330x-1_4c_path_operations.ism/manifest\",\"type\":\"application/vnd.ms-sstr+xml\"}],[{\"src\":\"http://jupyternootbookwams.streaming.mediaservices.windows.net/116a8c79-e90e-456c-abe9-eedcd5a9f44e/DEV330x-1_4c_path_operations.vtt\",\"srclang\":\"en\",\"kind\":\"subtitles\",\"label\":\"english\"}])\n\n#### Relative and absolute paths\nA file or directory has a name and a path, which is just a roadmap to its specific location in the file system. Most operating systems, support two types of paths:\n* Relative paths: path to a file or directory from a specific location (or current working directory)\n* Absolute paths: path to a file or directory from a root. In UNIX flavors, a root is \"/\"; whereas, on Windows machines a root is \"C:\\\"\n\nFor example, consider the UNIX directory structure we have been manipulating:\n\n    /\n    |\n    |__ parent_dir\n        |\n        |__  child1_dir\n        |    |\n        |    |_ leaf1.txt\n        |\n        |__ child2_dir\n        |    |\n        |    |_ leaf2.txt\n        |\n        |__ parent_leaf.txt\n        |\n        |__ text_file.txt\n    \nIf you are currently in parent_dir and trying to get to leaf1.txt, the relative path would be (child1_dir/leaf1.txt). It's a relative path because it is relative to your current location.\n\nThe absolute path to leaf1.txt is (/parent_dir/child1_dir/leaf1.txt), it starts from the root \"/\" all the way to the destination file. It's absolute because it starts from the absolute root.\n\nIn Python, you can use relative or absolute paths; however, it might be useful to convert a relative path into an absolute path using the function `os.path.abspath(path)`. The function returns a string containing the absolute path to a file or directory specified by the relative path passed as an argument.\n\n```python\nIn [1]: import os.path\nIn [2]: os.path.abspath('child1_dir/leaf1.txt')\nOut[2]: '/parent_dir/child1_dir/leaf1.txt'\n```\n\n#### Testing the existence of paths, files, and directories\nThe module `os.path` contains common pathname manipulation functions. For example, `os.path.exists(path)` tests whether `path` (relative or absolute) exists in the file system, `os.path.isfile(path)` returns `True` if `path` (relative or absolute) refers to an existing file, and `os.path.isdir(path)` returns `True` if `path` refers to an existing directory. Other functions in the module allow you to get the size of a file, split and join path names regardless of the operating system, and so on. The Python Documentation site at https://docs.python.org/3/library/os.path.html has more information on the `os.path` module.\n\nNOTE: In UNIX systems, paths are written using a forward slash (/) as separators; however, on Windows systems, paths are written using backslashes (\\\\) as separators. When joining path names, use `os.path.join` and Python will use the appropriate separator for the platform running the script.\n"
    },
    {
      "metadata": {},
      "cell_type": "markdown",
      "source": "---\n<font size=\"6\" color=\"#00A0B2\"  face=\"verdana\"> <B>Examples</B></font>\n\nIn this example, you will get the absolute path to a file and test whether the path exists and if it refers to a file or a directory."
    },
    {
      "metadata": {
        "trusted": true
      },
      "cell_type": "code",
      "source": "import os, os.path\n\n# Print the current working directory (should be \"parent_dir\")\nprint('The current working directory is:', os.getcwd())\n\n# Find the absolute path to child1_dir/leaf1.txt\nabs_path = os.path.abspath('child1_dir/leaf1.txt')\nprint(\"Absolute path to leaf1.txt is: \", abs_path)\n\n# Test whether the path exists\nif(os.path.exists(abs_path)):\n    print(\"Path exists\")\n    \n    # Test to see if it's a file or directory\n    if(os.path.isfile(abs_path)):\n       print(\"It's a file\")\n    elif (os.path.isdir(abs_path)):\n       print(\"It's a dir\")\n    \nelse:\n    print(\"Path doesn't exist\")",
      "execution_count": 9,
      "outputs": [
        {
          "output_type": "stream",
          "text": "The current working directory is: /home/nbuser/library\nAbsolute path to leaf1.txt is:  /home/nbuser/library/child1_dir/leaf1.txt\n",
          "name": "stdout"
        }
      ]
    },
    {
      "metadata": {},
      "cell_type": "markdown",
      "source": "---\n<font size=\"6\" color=\"#B24C00\"  face=\"verdana\"> <B>Task 2</B></font>\n\n## Path Operations\n"
    },
    {
      "metadata": {
        "trusted": false
      },
      "cell_type": "code",
      "source": "# [ ] Write a program that prompts the user for a file or directory name \n# then prints a message verifying if it exists in the current working directory\n\n\n",
      "execution_count": null,
      "outputs": []
    },
    {
      "metadata": {
        "trusted": false
      },
      "cell_type": "code",
      "source": "# [ ] Write a program to print the absolute path of all directories in \"parent_dir\"\n# HINTS:\n# 1) Verify you are inside \"parent_dir\" using os.getcwd()\n# 2) Use os.listdir() to get a list of files and directories in \"parent_dir\"\n# 3) Iterate over the elements of the list and print the absolute paths of all the directories\n\n\n",
      "execution_count": null,
      "outputs": []
    }
  ],
  "metadata": {
    "kernelspec": {
      "name": "python3",
      "display_name": "Python 3",
      "language": "python"
    },
    "language_info": {
      "mimetype": "text/x-python",
      "nbconvert_exporter": "python",
      "name": "python",
      "file_extension": ".py",
      "version": "3.5.4",
      "pygments_lexer": "ipython3",
      "codemirror_mode": {
        "version": 3,
        "name": "ipython"
      }
    }
  },
  "nbformat": 4,
  "nbformat_minor": 2
}