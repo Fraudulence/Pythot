{
  "cells": [
    {
      "metadata": {},
      "cell_type": "markdown",
      "source": "# Section 2.2\n## List Append\n- List Creation\n- List Access\n- **List Append**\n- List Insert\n- List Delete\n\n----- \n\n### Student will be able to\n- Create lists\n- Access items in a list\n- **Add items to the end of a list**\n- Modify and insert items into a list\n- Delete items from a list\n"
    },
    {
      "metadata": {},
      "cell_type": "markdown",
      "source": "## Concept: Appending to Lists\n[![view video](https://iajupyterprodblobs.blob.core.windows.net/imagecontainer/common/play_video.png)]( http://edxinteractivepage.blob.core.windows.net/edxpages/f7cff1a7-5601-48a1-95a6-fd1fdfabd20e.html?details=[{\"src\":\"http://jupyternootbookwams.streaming.mediaservices.windows.net/121939c6-f81e-4787-a7a9-15ab15c69168/Unit2_Section2.2a-Appending_to_Lists.ism/manifest\",\"type\":\"application/vnd.ms-sstr+xml\"}],[{\"src\":\"http://jupyternootbookwams.streaming.mediaservices.windows.net/121939c6-f81e-4787-a7a9-15ab15c69168/Unit2_Section2.2a-Appending_to_Lists.vtt\",\"srclang\":\"en\",\"kind\":\"subtitles\",\"label\":\"english\"}])\n**`.append()`** method adds an item to the end of a list   \n```python\nparty_list.append(\"Alton\")\n```"
    },
    {
      "metadata": {},
      "cell_type": "markdown",
      "source": "### Examples"
    },
    {
      "metadata": {
        "trusted": false
      },
      "cell_type": "code",
      "source": "# [ ] review and run example\n# the list before append\nsample_list = [1, 1, 2]\nprint(\"sample_list before: \", sample_list)\n\nsample_list.append(3)\n# the list after append\nprint(\"sample_list after:  \", sample_list)",
      "execution_count": null,
      "outputs": []
    },
    {
      "metadata": {
        "trusted": false
      },
      "cell_type": "code",
      "source": "# [ ] review and run example\n# append number to sample_list\nprint(\"sample_list start:  \", sample_list)\nsample_list.append(3)\nprint(\"sample_list added:  \", sample_list)\n\n# append again\nsample_list.append(8)\nprint(\"sample_list added:  \", sample_list)\n\n# append again\nsample_list.append(5)\nprint(\"sample_list added:  \", sample_list)\n\n# [ ] run this cell several times in a row \n# [ ] run cell above, then run this cell again",
      "execution_count": null,
      "outputs": []
    },
    {
      "metadata": {
        "trusted": false
      },
      "cell_type": "code",
      "source": "# [ ] review and run example\nmixed_types = [1, \"cat\"]\n# append number\nmixed_types.append(3)\nprint(\"mixed_types list: \", mixed_types)\n\n# append string\nmixed_types.append(\"turtle\")\nprint(\"mixed_types list: \", mixed_types)",
      "execution_count": null,
      "outputs": []
    },
    {
      "metadata": {
        "collapsed": true
      },
      "cell_type": "markdown",
      "source": "## Task 1: `.append()`"
    },
    {
      "metadata": {
        "trusted": true
      },
      "cell_type": "code",
      "source": "# Currency Values\n# [ ] create a list of 3 or more currency denomination values, cur_values\n# cur_values, contains values of coins and paper bills (.01, .05, etc.)\ncurrencyValues = [.01,.05,.1]\n# [ ] print the list\nprint(currencyValues)\n\n# [ ] append an item to the list and print the list\ncurrencyValues.append(.25)\nprint(currencyValues)\n",
      "execution_count": 5,
      "outputs": [
        {
          "output_type": "stream",
          "text": "[0.01, 0.05, 0.1]\n[0.01, 0.05, 0.1, 0.25]\n",
          "name": "stdout"
        }
      ]
    },
    {
      "metadata": {
        "trusted": true
      },
      "cell_type": "code",
      "source": "# Currency Names\n# [ ] create a list of 3 or more currency denomination NAMES, cur_names\n# cur_names contains the NAMES of coins and paper bills (penny, etc.)\ncurrencyNames = [\"Penny\",\"Nickel\",\"Dime\"]\n# [ ] print the list\nprint(currencyNames)\n\n# [ ] append an item to the list and print the list\ncurrencyNames.append(\"Quarter\")\nprint(currencyNames)",
      "execution_count": 6,
      "outputs": [
        {
          "output_type": "stream",
          "text": "['Penny', 'Nickel', 'Dime']\n['Penny', 'Nickel', 'Dime', 'Quarter']\n",
          "name": "stdout"
        }
      ]
    },
    {
      "metadata": {
        "collapsed": true
      },
      "cell_type": "markdown",
      "source": "## Task 2: Append items to a list with `input()` "
    },
    {
      "metadata": {
        "trusted": true
      },
      "cell_type": "code",
      "source": "# [ ] append additional values to the Currency Names list using input()\ncurrencyNames.append(input(\"Input a name\"))\n# [ ] print the appended list\nprint(currencyNames)\n",
      "execution_count": 7,
      "outputs": [
        {
          "output_type": "stream",
          "name": "stdout",
          "text": "Input a nameDollar\n['Penny', 'Nickel', 'Dime', 'Quarter', 'Dollar']\n"
        }
      ]
    },
    {
      "metadata": {},
      "cell_type": "markdown",
      "source": "## Task 3: `while` loop `.append()`\n- define an empty list: **`bday_survey`**\n- get user input, **`bday`**, asking for the day of the month they were born (1-31) or \"q\" to finish\n- using a **`while`** loop\n  - get user input, **`bday`**, asking for the day of the month they were born (1-31) or \"q\" to finish\n  - append the **`bday`** input to the **`bday_survey`** list\n  - repeat input until a user enters **\"q\"** to quit\n- print bday_survey list"
    },
    {
      "metadata": {
        "trusted": true
      },
      "cell_type": "code",
      "source": "# [ ] complete the Birthday Survey task above\nbdaySurvey = []\nbday = input(\"Day of the month of yer bday? Or type 'q' to finish.\")\nwhile bday.lower() != \"q\":\n    bdaySurvey.append(bday)\n    bday = input(\"Day of the month of yer bday? Or type 'q' to finish.\")\nprint(bdaySurvey)",
      "execution_count": 1,
      "outputs": [
        {
          "output_type": "stream",
          "name": "stdout",
          "text": "Day of the month of yer bday? Or type 'q' to finish.5\nDay of the month of yer bday? Or type 'q' to finish.4\nDay of the month of yer bday? Or type 'q' to finish.3\nDay of the month of yer bday? Or type 'q' to finish.2\nDay of the month of yer bday? Or type 'q' to finish.1\nDay of the month of yer bday? Or type 'q' to finish.q\n['5', '4', '3', '2', '1']\n"
        }
      ]
    },
    {
      "metadata": {},
      "cell_type": "markdown",
      "source": "## Task 4: Fix the error\n"
    },
    {
      "metadata": {
        "trusted": true
      },
      "cell_type": "code",
      "source": "# [ ] Fix the Error\nthree_numbers = [1, 1, 2]\nprint(\"an item in the list is: \", three_numbers[2])\nthree_num\n",
      "execution_count": 4,
      "outputs": [
        {
          "output_type": "stream",
          "text": "an item in the list is:  2\n",
          "name": "stdout"
        }
      ]
    },
    {
      "metadata": {},
      "cell_type": "markdown",
      "source": "[Terms of use](http://go.microsoft.com/fwlink/?LinkID=206977) &nbsp; [Privacy & cookies](https://go.microsoft.com/fwlink/?LinkId=521839) &nbsp; © 2017 Microsoft"
    }
  ],
  "metadata": {
    "anaconda-cloud": {},
    "kernelspec": {
      "name": "python2",
      "display_name": "Python 2",
      "language": "python"
    },
    "language_info": {
      "mimetype": "text/x-python",
      "nbconvert_exporter": "python",
      "name": "python",
      "pygments_lexer": "ipython2",
      "version": "2.7.15",
      "file_extension": ".py",
      "codemirror_mode": {
        "version": 2,
        "name": "ipython"
      }
    }
  },
  "nbformat": 4,
  "nbformat_minor": 1
}