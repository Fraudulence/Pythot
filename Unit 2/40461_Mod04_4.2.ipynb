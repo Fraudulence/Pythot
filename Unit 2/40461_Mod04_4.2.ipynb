{
  "cells": [
    {
      "metadata": {},
      "cell_type": "markdown",
      "source": "# Section 4.2\n## File .readlines() and .close() Methods\n- File Read as a list with `.readlines()`\n- File Closing to free resources with `.close()`\n\n----- \n\n### Student will be able to\n- Use `.readlines()` to read text from files as a list of lines\n- Use `.close` to free system resources"
    },
    {
      "metadata": {},
      "cell_type": "markdown",
      "source": "## Concept: `.readlines()`\n[![view video](https://iajupyterprodblobs.blob.core.windows.net/imagecontainer/common/play_video.png)]( http://edxinteractivepage.blob.core.windows.net/edxpages/f7cff1a7-5601-48a1-95a6-fd1fdfabd20e.html?details=[{\"src\":\"http://jupyternootbookwams.streaming.mediaservices.windows.net/0cd43d02-5eac-40b5-ba2d-97f078415ddd/Unit2_Section4.2a-Readlines-Open_Text_as_List.ism/manifest\",\"type\":\"application/vnd.ms-sstr+xml\"}],[{\"src\":\"http://jupyternootbookwams.streaming.mediaservices.windows.net/0cd43d02-5eac-40b5-ba2d-97f078415ddd/Unit2_Section4.2a-Readlines-Open_Text_as_List.vtt\",\"srclang\":\"en\",\"kind\":\"subtitles\",\"label\":\"english\"}])\n\n### File read as a list with .readlines() \nConverts the lines of a file into a **list** of strings.\n\n```python\npoem_lines = poem1.readlines()\n```"
    },
    {
      "metadata": {},
      "cell_type": "markdown",
      "source": "### Examples"
    },
    {
      "metadata": {
        "scrolled": false,
        "trusted": true
      },
      "cell_type": "code",
      "source": "# [ ] Run to download file to notebook\n!curl https://raw.githubusercontent.com/MicrosoftLearning/intropython/master/poem1.txt -o poem1.txt",
      "execution_count": 1,
      "outputs": [
        {
          "output_type": "stream",
          "text": "  % Total    % Received % Xferd  Average Speed   Time    Time     Time  Current\n                                 Dload  Upload   Total   Spent    Left  Speed\n100    56  100    56    0     0    348      0 --:--:-- --:--:-- --:--:--   356\n",
          "name": "stdout"
        }
      ]
    },
    {
      "metadata": {
        "trusted": true
      },
      "cell_type": "code",
      "source": "# [ ] review and run example\n# open address to file\npoem1 = open('poem1.txt', 'r')\n\n# readlines and print as a list\npoem_lines = poem1.readlines()\npoem_lines",
      "execution_count": 2,
      "outputs": [
        {
          "output_type": "execute_result",
          "execution_count": 2,
          "data": {
            "text/plain": "['Loops I repeat\\n',\n 'loops\\n',\n 'loops\\n',\n 'loops\\n',\n 'I repeat\\n',\n 'until I\\n',\n 'break\\n']"
          },
          "metadata": {}
        }
      ]
    },
    {
      "metadata": {
        "trusted": true
      },
      "cell_type": "code",
      "source": "# [ ] review and run example\nfor line in poem_lines:\n    print(line)",
      "execution_count": 3,
      "outputs": [
        {
          "output_type": "stream",
          "text": "Loops I repeat\n\nloops\n\nloops\n\nloops\n\nI repeat\n\nuntil I\n\nbreak\n\n",
          "name": "stdout"
        }
      ]
    },
    {
      "metadata": {
        "collapsed": true
      },
      "cell_type": "markdown",
      "source": "## Task 1: `.readlines()` \n### Open the cities file as a list\n1. **Import a list of cities using curl**  \n  a. Git the list from https://raw.githubusercontent.com/MicrosoftLearning/intropython/master/cities  \n  b. Name the list cities.txt  \n2. **Open cities.txt in read mode using a variable: cities_file**  \n3. **Read cities_file as a list variable: cities_lines using `.readlines()`**\n4. **Print each line of cities_lines by iterating the list**"
    },
    {
      "metadata": {
        "trusted": true
      },
      "cell_type": "code",
      "source": "# [ ] import cities\n!curl https://raw.githubusercontent.com/MicrosoftLearning/intropython/master/cities -o cities.txt\n",
      "execution_count": 26,
      "outputs": [
        {
          "output_type": "stream",
          "text": "  % Total    % Received % Xferd  Average Speed   Time    Time     Time  Current\n                                 Dload  Upload   Total   Spent    Left  Speed\n100    56  100    56    0     0    105      0 --:--:-- --:--:-- --:--:--   108\n",
          "name": "stdout"
        }
      ]
    },
    {
      "metadata": {
        "trusted": true
      },
      "cell_type": "code",
      "source": "# [ ] open cities.txt as cities_file and read the file as a list: cities_lines\ncitiesFile = open('cities.txt','r')\ncitiesLines = citiesFile.readlines()\nprint(citiesLines)",
      "execution_count": 27,
      "outputs": [
        {
          "output_type": "stream",
          "text": "['Beijing\\n', 'Cairo\\n', 'London\\n', 'Nairobi\\n', 'New York City\\n', 'Sydney\\n', 'Tokyo\\n']\n",
          "name": "stdout"
        }
      ]
    },
    {
      "metadata": {
        "trusted": true
      },
      "cell_type": "code",
      "source": "# [ ] use list iteration to print each city in cities_lines list\nfor city in citiesLines:\n    print(city)",
      "execution_count": 28,
      "outputs": [
        {
          "output_type": "stream",
          "text": "Beijing\n\nCairo\n\nLondon\n\nNairobi\n\nNew York City\n\nSydney\n\nTokyo\n\n",
          "name": "stdout"
        }
      ]
    },
    {
      "metadata": {},
      "cell_type": "markdown",
      "source": "## Concept: Working with lists from .readlines()\n[![view video](https://iajupyterprodblobs.blob.core.windows.net/imagecontainer/common/play_video.png)]( http://edxinteractivepage.blob.core.windows.net/edxpages/f7cff1a7-5601-48a1-95a6-fd1fdfabd20e.html?details=[{\"src\":\"http://jupyternootbookwams.streaming.mediaservices.windows.net/ed9b1523-6d69-462c-b18c-01e5423c1e52/Unit2_Section4.2b-Readlines-Remove_Characters.ism/manifest\",\"type\":\"application/vnd.ms-sstr+xml\"}],[{\"src\":\"http://jupyternootbookwams.streaming.mediaservices.windows.net/ed9b1523-6d69-462c-b18c-01e5423c1e52/Unit2_Section4.2b-Readlines-Remove_Characters.vtt\",\"srclang\":\"en\",\"kind\":\"subtitles\",\"label\":\"english\"}])\n###  Remove newline characters from lists created using .readlines()\n```python\nfor line in poem_lines:\n    poem_lines[count] = line[:-1]\n    count += 1\n```\n**`line[:-1]`** sets the end point at the last character of the string, the result is the **`'\\n'`** (newline) character is omitted.\n\n| list item | list item contents | \n|-----|-----|\n| poem_lines[0] | 'Loops I repeat\\n' |  \n| poem_lines[1] | 'loops\\n' |  \n| poem_lines[2] | 'loops\\n' | \n| poem_lines[3] | 'I repeat\\n' | \n|... | ... | "
    },
    {
      "metadata": {},
      "cell_type": "markdown",
      "source": "### Examples\nNote: The examples assume that poem1.txt was imported in the first example above."
    },
    {
      "metadata": {
        "trusted": true
      },
      "cell_type": "code",
      "source": "# [ ] review and run examples\n# [ ] re-open file and read file as a list of strings\npoem1 = open('poem1.txt', 'r')\npoem_lines = poem1.readlines()\nprint(poem_lines)",
      "execution_count": 14,
      "outputs": [
        {
          "output_type": "stream",
          "text": "['Loops I repeat\\n', 'loops\\n', 'loops\\n', 'loops\\n', 'I repeat\\n', 'until I\\n', 'break\\n']\n",
          "name": "stdout"
        }
      ]
    },
    {
      "metadata": {
        "trusted": true
      },
      "cell_type": "code",
      "source": "# [ ] print each list item \nfor line in poem_lines:\n    print(line)",
      "execution_count": 15,
      "outputs": [
        {
          "output_type": "stream",
          "text": "Loops I repeat\n\nloops\n\nloops\n\nloops\n\nI repeat\n\nuntil I\n\nbreak\n\n",
          "name": "stdout"
        }
      ]
    },
    {
      "metadata": {
        "trusted": true
      },
      "cell_type": "code",
      "source": "# [ ] remove the last character of each list item, which is \"\\n\"\ncount = 0\n\nfor line in poem_lines:\n    poem_lines[count] = line[:-1]\n    count += 1\n\nprint(poem_lines)",
      "execution_count": 16,
      "outputs": [
        {
          "output_type": "stream",
          "text": "['Loops I repeat', 'loops', 'loops', 'loops', 'I repeat', 'until I', 'break']\n",
          "name": "stdout"
        }
      ]
    },
    {
      "metadata": {
        "trusted": true
      },
      "cell_type": "code",
      "source": "# [ ] print each list item \nfor line in poem_lines:\n    print(line)",
      "execution_count": 17,
      "outputs": [
        {
          "output_type": "stream",
          "text": "Loops I repeat\nloops\nloops\nloops\nI repeat\nuntil I\nbreak\n",
          "name": "stdout"
        }
      ]
    },
    {
      "metadata": {
        "collapsed": true
      },
      "cell_type": "markdown",
      "source": "## Task 2: Remove newline characters from cities lists created using .readlines()\n- This task assumes that cites.txt has been imported in Task 1 above\n- In Task 1, the cities were printed with a blank line between each city - this task removes the blank lines\n"
    },
    {
      "metadata": {
        "trusted": true
      },
      "cell_type": "code",
      "source": "# [ ] re-open file and read file as a list of strings \n# [ ] open cities.txt as cities_file and read the file as a list: cities_lines\ncitiesFile = open('cities.txt','r')\ncitiesLines = citiesFile.readlines()\nprint(citiesLines)",
      "execution_count": 66,
      "outputs": [
        {
          "output_type": "stream",
          "text": "['Beijing\\n', 'Cairo\\n', 'London\\n', 'Nairobi\\n', 'New York City\\n', 'Sydney\\n', 'Tokyo\\n']\n",
          "name": "stdout"
        }
      ]
    },
    {
      "metadata": {
        "trusted": true
      },
      "cell_type": "code",
      "source": "# [ ] remove the last character, \"\\n\", of each cities_lines list item \ncount = 0\nfor line in citiesLines:\n    citiesLines[count] = line[:-1]\n    count+=1\nprint(citiesLines)",
      "execution_count": 65,
      "outputs": [
        {
          "output_type": "stream",
          "text": "['Beijing', 'Cairo', 'London', 'Nairobi', 'New York City', 'Sydney', 'Tokyo']\n",
          "name": "stdout"
        }
      ]
    },
    {
      "metadata": {
        "trusted": true
      },
      "cell_type": "code",
      "source": "# [ ] print each list item in cities_lines\nfor line in citiesLines:\n    print(line)",
      "execution_count": 67,
      "outputs": [
        {
          "output_type": "stream",
          "text": "Beijing\n\nCairo\n\nLondon\n\nNairobi\n\nNew York City\n\nSydney\n\nTokyo\n\n",
          "name": "stdout"
        }
      ]
    },
    {
      "metadata": {},
      "cell_type": "markdown",
      "source": "## Concept: `.close()`\n[![view video](https://iajupyterprodblobs.blob.core.windows.net/imagecontainer/common/play_video.png)]( http://edxinteractivepage.blob.core.windows.net/edxpages/f7cff1a7-5601-48a1-95a6-fd1fdfabd20e.html?details=[{\"src\":\"http://jupyternootbookwams.streaming.mediaservices.windows.net/50a925e8-25e2-4bfa-936b-e2d181af36f0/Unit2_Section4.2c-File_Close_Method.ism/manifest\",\"type\":\"application/vnd.ms-sstr+xml\"}],[{\"src\":\"http://jupyternootbookwams.streaming.mediaservices.windows.net/50a925e8-25e2-4bfa-936b-e2d181af36f0/Unit2_Section4.2c-File_Close_Method.vtt\",\"srclang\":\"en\",\"kind\":\"subtitles\",\"label\":\"english\"}])\n### File .close() method frees resources \nThe file.close() method removes the reference created by the file open() function. \n\n```python  \npoem1.close()\n```  "
    },
    {
      "metadata": {},
      "cell_type": "markdown",
      "source": "### Examples  \nNote: The examples assume that poem1.txt was imported in the first example above."
    },
    {
      "metadata": {
        "trusted": true
      },
      "cell_type": "code",
      "source": "# [ ] review and run example: open and readlines of poem1.txt\npoem1 = open('poem1.txt', 'r')",
      "execution_count": 68,
      "outputs": []
    },
    {
      "metadata": {
        "trusted": true
      },
      "cell_type": "code",
      "source": "# [ ] review and run example: readlines breaks if file is no longer open\n\npoem_lines = poem1.readlines()\nprint(poem_lines)",
      "execution_count": 72,
      "outputs": [
        {
          "output_type": "error",
          "ename": "ValueError",
          "evalue": "I/O operation on closed file.",
          "traceback": [
            "\u001b[0;31m---------------------------------------------------------------------------\u001b[0m",
            "\u001b[0;31mValueError\u001b[0m                                Traceback (most recent call last)",
            "\u001b[0;32m<ipython-input-72-1c08364ef78f>\u001b[0m in \u001b[0;36m<module>\u001b[0;34m()\u001b[0m\n\u001b[1;32m      1\u001b[0m \u001b[0;31m# [ ] review and run example: readlines breaks if file is no longer open\u001b[0m\u001b[0;34m\u001b[0m\u001b[0;34m\u001b[0m\u001b[0m\n\u001b[1;32m      2\u001b[0m \u001b[0;34m\u001b[0m\u001b[0m\n\u001b[0;32m----> 3\u001b[0;31m \u001b[0mpoem_lines\u001b[0m \u001b[0;34m=\u001b[0m \u001b[0mpoem1\u001b[0m\u001b[0;34m.\u001b[0m\u001b[0mreadlines\u001b[0m\u001b[0;34m(\u001b[0m\u001b[0;34m)\u001b[0m\u001b[0;34m\u001b[0m\u001b[0m\n\u001b[0m\u001b[1;32m      4\u001b[0m \u001b[0mprint\u001b[0m\u001b[0;34m(\u001b[0m\u001b[0mpoem_lines\u001b[0m\u001b[0;34m)\u001b[0m\u001b[0;34m\u001b[0m\u001b[0m\n",
            "\u001b[0;31mValueError\u001b[0m: I/O operation on closed file."
          ]
        }
      ]
    },
    {
      "metadata": {
        "trusted": true
      },
      "cell_type": "code",
      "source": "# [ ] review and run example: Close poem1\npoem1.close()\n",
      "execution_count": 71,
      "outputs": []
    },
    {
      "metadata": {
        "collapsed": true
      },
      "cell_type": "markdown",
      "source": "## Task 3: File .close() \nWrite each item in its own cell.\n- Open cities.txt as cities_file  \n- Read the lines as cities_lines\n- Print the cities that **start with the letter \"D\" or greater**  \n- Close cities_file\n- Test that file is closed"
    },
    {
      "metadata": {
        "trusted": true
      },
      "cell_type": "code",
      "source": "# [ ] open cities.txt as cities_file\ncitiesFile = open('cities.txt','r')\n",
      "execution_count": 75,
      "outputs": []
    },
    {
      "metadata": {
        "trusted": true
      },
      "cell_type": "code",
      "source": "# [ ] read the lines as cities_lines\ncitiesLines = citiesFile.readlines()\n",
      "execution_count": 76,
      "outputs": []
    },
    {
      "metadata": {
        "trusted": true
      },
      "cell_type": "code",
      "source": "# [ ] print the cities that start with the letter \"D\" or greater\nfor city in citiesLines:\n    if city[0:1] >= \"D\":\n        print(city[:-1], \"starts with 'D' or greater\")\n    else:\n        print(city[:-1], \"doesn't start with 'D' or greater\")\n",
      "execution_count": 79,
      "outputs": [
        {
          "output_type": "stream",
          "text": "Beijing doesn't start with 'D' or greater\nCairo doesn't start with 'D' or greater\nLondon starts with 'D' or greater\nNairobi starts with 'D' or greater\nNew York City starts with 'D' or greater\nSydney starts with 'D' or greater\nTokyo starts with 'D' or greater\n",
          "name": "stdout"
        }
      ]
    },
    {
      "metadata": {
        "trusted": true
      },
      "cell_type": "code",
      "source": "# [ ] test that file is closed\nprint(citiesFile)\n",
      "execution_count": 81,
      "outputs": [
        {
          "output_type": "stream",
          "text": "<_io.TextIOWrapper name='cities.txt' mode='r' encoding='UTF-8'>\n",
          "name": "stdout"
        }
      ]
    },
    {
      "metadata": {
        "trusted": false
      },
      "cell_type": "code",
      "source": "# [ ] close cities_file\ncitiesFile.close()\n\n",
      "execution_count": null,
      "outputs": []
    },
    {
      "metadata": {
        "collapsed": true
      },
      "cell_type": "markdown",
      "source": "## Task 4: readlines() poem2  \nWrite each item in its own cell.\n- Import https://raw.githubusercontent.com/MicrosoftLearning/intropython/master/poem2.txt as poem2.txt  \n- Open poem2.txt as poem2_file in read mode\n- Create a list of strings, called poem2_lines, from each line of poem2_text (use **.readlines()**)  \n- Remove the newline character for each list item in poem2_lines  \n- Print the poem2 lines in reverse order  "
    },
    {
      "metadata": {
        "trusted": true
      },
      "cell_type": "code",
      "source": "# [ ] import https://raw.githubusercontent.com/MicrosoftLearning/intropython/master/poem2.txt as poem2.txt\n!curl https://raw.githubusercontent.com/MicrosoftLearning/intropython/master/poem2.txt -o poem2.txt\n",
      "execution_count": 22,
      "outputs": [
        {
          "output_type": "stream",
          "text": "  % Total    % Received % Xferd  Average Speed   Time    Time     Time  Current\n                                 Dload  Upload   Total   Spent    Left  Speed\n100    57  100    57    0     0    238      0 --:--:-- --:--:-- --:--:--   241\n",
          "name": "stdout"
        }
      ]
    },
    {
      "metadata": {
        "trusted": true
      },
      "cell_type": "code",
      "source": "# [ ] open poem2.txt as poem2_text in read mode\npoem2Text = open('poem2.txt','r')\n",
      "execution_count": 23,
      "outputs": []
    },
    {
      "metadata": {
        "trusted": true
      },
      "cell_type": "code",
      "source": "# [ ] create a list of strings, called poem2_lines, from each line of poem2_text\npoem2Lines = poem2Text.readlines()\nprint(poem2Lines)",
      "execution_count": 24,
      "outputs": [
        {
          "output_type": "stream",
          "text": "['while True\\n', 'I loop\\n', 'True\\n', 'loop\\n', 'True\\n', 'loop\\n', 'not True\\n', 'False\\n', 'end\\n']\n",
          "name": "stdout"
        }
      ]
    },
    {
      "metadata": {
        "trusted": true
      },
      "cell_type": "code",
      "source": "# [ ] remove the newline character for each list item in poem2_lines\ncount = 0\nfor line in poem2Lines:\n    poem2Lines[count] = line[:-1]\n    count+=1\nprint(poem2Lines)\n",
      "execution_count": 25,
      "outputs": [
        {
          "output_type": "stream",
          "text": "['while True', 'I loop', 'True', 'loop', 'True', 'loop', 'not True', 'False', 'end']\n",
          "name": "stdout"
        }
      ]
    },
    {
      "metadata": {
        "trusted": true
      },
      "cell_type": "code",
      "source": "# [ ] print the poem2 lines in reverse order\nprint(poem2Lines[:-1])\n",
      "execution_count": 26,
      "outputs": [
        {
          "output_type": "stream",
          "text": "['while True', 'I loop', 'True', 'loop', 'True', 'loop', 'not True', 'False']\n",
          "name": "stdout"
        }
      ]
    },
    {
      "metadata": {},
      "cell_type": "markdown",
      "source": "[Terms of use](http://go.microsoft.com/fwlink/?LinkID=206977) &nbsp; [Privacy & cookies](https://go.microsoft.com/fwlink/?LinkId=521839) &nbsp; © 2017 Microsoft"
    }
  ],
  "metadata": {
    "anaconda-cloud": {},
    "kernelspec": {
      "name": "python3",
      "display_name": "Python 3",
      "language": "python"
    },
    "language_info": {
      "mimetype": "text/x-python",
      "nbconvert_exporter": "python",
      "name": "python",
      "pygments_lexer": "ipython3",
      "version": "3.5.4",
      "file_extension": ".py",
      "codemirror_mode": {
        "version": 3,
        "name": "ipython"
      }
    }
  },
  "nbformat": 4,
  "nbformat_minor": 1
}