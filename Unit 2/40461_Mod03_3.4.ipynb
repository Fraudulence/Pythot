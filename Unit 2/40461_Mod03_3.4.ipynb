{
  "cells": [
    {
      "metadata": {},
      "cell_type": "markdown",
      "source": "# Section 3.4\n# Between Strings and Lists\n- for in: `for` loop using `in`\n- for range: `for range(start,stop,step)` \n- More list methods: `.extend()`, `+, .reverse(), .sort()` \n- **Strings to lists,`.split()`, and list to strings, `.join()`**\n- **List cast & `print(\"hello\", end='')`**\n\n\n----- \n\n### Student will be able to\n- Iterate through lists using `for` with `in`\n- Use `for range()` in looping operations \n- Use list methods `.extend()`, `+, .reverse(), .sort()` \n- **Convert between lists and strings using  `.split()` and `.join()`**\n- **Cast strings to lists / direct multiple print outputs to a single line**"
    },
    {
      "metadata": {},
      "cell_type": "markdown",
      "source": "## Concept: Converting a string to a list with `.split()`\n[![view video](https://iajupyterprodblobs.blob.core.windows.net/imagecontainer/common/play_video.png)]( http://edxinteractivepage.blob.core.windows.net/edxpages/f7cff1a7-5601-48a1-95a6-fd1fdfabd20e.html?details=[{\"src\":\"http://jupyternootbookwams.streaming.mediaservices.windows.net/1a076a9c-842f-455f-91bf-48db837842e8/Unit2_Section3.4a-Split_on_Breaks.ism/manifest\",\"type\":\"application/vnd.ms-sstr+xml\"}],[{\"src\":\"http://jupyternootbookwams.streaming.mediaservices.windows.net/1a076a9c-842f-455f-91bf-48db837842e8/Unit2_Section3.4a-Split_on_Breaks.vtt\",\"srclang\":\"en\",\"kind\":\"subtitles\",\"label\":\"english\"}])\n### `.split()`  by default, splits a string at spaces (\" \") to create a list\n```python\ntip = \"Notebooks can be exported as .pdf\"\ntip_words = tip.split()\n\nfor word in tip_words:\n    print(word)\n```"
    },
    {
      "metadata": {},
      "cell_type": "markdown",
      "source": "### Examples"
    },
    {
      "metadata": {
        "trusted": false
      },
      "cell_type": "code",
      "source": "# [ ] review and run example\ntip = \"Notebooks can be exported as .pdf\"\ntip_words = tip.split()\n\nprint(\"STRING:\", tip)\nprint(\"LIST:\", tip_words, \"\\n\")\n\nfor word in tip_words:\n    print(word)",
      "execution_count": null,
      "outputs": []
    },
    {
      "metadata": {
        "trusted": true
      },
      "cell_type": "code",
      "source": "# [ ] review and run example\nrhyme = \"London bridge is falling down\"\n\nrhyme_words = rhyme.split()\n\nrhyme_words.reverse()\n\nfor word in rhyme_words:\n    print(word)",
      "execution_count": 1,
      "outputs": [
        {
          "output_type": "stream",
          "text": "down\nfalling\nis\nbridge\nLondon\n",
          "name": "stdout"
        }
      ]
    },
    {
      "metadata": {
        "collapsed": true
      },
      "cell_type": "markdown",
      "source": "## Task 1: Using `.split()`"
    },
    {
      "metadata": {
        "trusted": true
      },
      "cell_type": "code",
      "source": "# [ ] split the string(rhyme) into a list of words (rhyme_words)\n# [ ] print each word on it's own line\nrhyme = 'Jack and Jill went up the hill To fetch a pail of water' \nrhymeWords = rhyme.split()\nfor word in rhymeWords:\n    print(word)\n",
      "execution_count": 4,
      "outputs": [
        {
          "output_type": "stream",
          "text": "Jack\nand\nJill\nwent\nup\nthe\nhill\nTo\nfetch\na\npail\nof\nwater\n",
          "name": "stdout"
        }
      ]
    },
    {
      "metadata": {
        "trusted": true
      },
      "cell_type": "code",
      "source": "# [ ] split code_tip into a list and print the first and every other word\ncode_tip = \"Python uses spaces for indentation\"\nsplitter = code_tip.split()\nlength = len(code_tip.split())\nfor i in range(0,length,2):\n    print(splitter[i])",
      "execution_count": 10,
      "outputs": [
        {
          "output_type": "stream",
          "text": "Python\nspaces\nindentation\n",
          "name": "stdout"
        }
      ]
    },
    {
      "metadata": {},
      "cell_type": "markdown",
      "source": "## Concept: `.split('-')`\n[![view video](https://iajupyterprodblobs.blob.core.windows.net/imagecontainer/common/play_video.png)]( http://edxinteractivepage.blob.core.windows.net/edxpages/f7cff1a7-5601-48a1-95a6-fd1fdfabd20e.html?details=[{\"src\":\"http://jupyternootbookwams.streaming.mediaservices.windows.net/55d37e65-fb49-4bf5-87f8-fb987d3ce7a4/Unit2_Section3.4b-Split_on_Strings.ism/manifest\",\"type\":\"application/vnd.ms-sstr+xml\"}],[{\"src\":\"http://jupyternootbookwams.streaming.mediaservices.windows.net/55d37e65-fb49-4bf5-87f8-fb987d3ce7a4/Unit2_Section3.4b-Split_on_Strings.vtt\",\"srclang\":\"en\",\"kind\":\"subtitles\",\"label\":\"english\"}])\n### To split on characters other than \" \" (space), provide `.split()` a string argument to use as break points\n```python \ncode_tip = \"Python-uses-spaces-for-indentation\"\ntip_words = code_tip.split('-')\n```"
    },
    {
      "metadata": {},
      "cell_type": "markdown",
      "source": "### Examples\n#### `.split('-') : split with an argument"
    },
    {
      "metadata": {
        "trusted": true
      },
      "cell_type": "code",
      "source": "# [ ] review and run example\ncode_tip = \"Python-uses-spaces-for-indentation\"\ntip_words = code_tip.split('-')\n\nprint(tip_words)",
      "execution_count": 11,
      "outputs": [
        {
          "output_type": "stream",
          "text": "['Python', 'uses', 'spaces', 'for', 'indentation']\n",
          "name": "stdout"
        }
      ]
    },
    {
      "metadata": {
        "trusted": true
      },
      "cell_type": "code",
      "source": "# [ ] review and run example - study the list print output\ncode_tip = \"Python uses spaces for indentation\"\n\n# split on \"a\"\ntip_words = code_tip.split('a')\nprint(code_tip)\nprint(tip_words)",
      "execution_count": 12,
      "outputs": [
        {
          "output_type": "stream",
          "text": "Python uses spaces for indentation\n['Python uses sp', 'ces for indent', 'tion']\n",
          "name": "stdout"
        }
      ]
    },
    {
      "metadata": {
        "trusted": true
      },
      "cell_type": "code",
      "source": "# [ ] review and run example\n# triple quotes ''' ''' preserve formatting such as spaces and line breaks\nbig_quote = \"\"\"Jack and Jill went up the hill\nTo fetch a pail of water\nJack fell down and broke his crown\nAnd Jill came tumbling after\"\"\"\n\n# split on line breaks (\\n)\nquote_lines = big_quote.split('\\n')\nprint(quote_lines, '\\n')\n\n# print the list in reverse with index slicing\nfor line in quote_lines[::-1]:\n    print(line)\n",
      "execution_count": 13,
      "outputs": [
        {
          "output_type": "stream",
          "text": "['Jack and Jill went up the hill', 'To fetch a pail of water', 'Jack fell down and broke his crown', 'And Jill came tumbling after'] \n\nAnd Jill came tumbling after\nJack fell down and broke his crown\nTo fetch a pail of water\nJack and Jill went up the hill\n",
          "name": "stdout"
        }
      ]
    },
    {
      "metadata": {
        "collapsed": true
      },
      "cell_type": "markdown",
      "source": "## Task 2: `.split()`"
    },
    {
      "metadata": {
        "trusted": true
      },
      "cell_type": "code",
      "source": "# [ ] split poem into a list of phrases by splitting on \"*\" a\n# [ ] print each phrase on a new line in title case\npoem = \"Write code frequently*Save code frequently*Comment code frequently*Study code frequently*\"\npoemWords = poem.split(\"*\")\nprint(poemWords)",
      "execution_count": 14,
      "outputs": [
        {
          "output_type": "stream",
          "text": "['Write code frequently', 'Save code frequently', 'Comment code frequently', 'Study code frequently', '']\n",
          "name": "stdout"
        }
      ]
    },
    {
      "metadata": {},
      "cell_type": "markdown",
      "source": "# &nbsp;\n<font size=\"6\" color=\"#00A0B2\"  face=\"verdana\"> <B></B></font>  \n\n## Concept: Build a string from a list\n### `.join()`\n[![view video](https://iajupyterprodblobs.blob.core.windows.net/imagecontainer/common/play_video.png)]( http://edxinteractivepage.blob.core.windows.net/edxpages/f7cff1a7-5601-48a1-95a6-fd1fdfabd20e.html?details=[{\"src\":\"http://jupyternootbookwams.streaming.mediaservices.windows.net/57decc97-801f-4f7e-8ab6-69a47cf1be7b/Unit2_Section3.4c-Build_using_Join_Sequence.ism/manifest\",\"type\":\"application/vnd.ms-sstr+xml\"}],[{\"src\":\"http://jupyternootbookwams.streaming.mediaservices.windows.net/57decc97-801f-4f7e-8ab6-69a47cf1be7b/Unit2_Section3.4c-Build_using_Join_Sequence.vtt\",\"srclang\":\"en\",\"kind\":\"subtitles\",\"label\":\"english\"}])\n### `.join()` is a method applied to a separator string and iterates through its argument\n```python\ntip_words = ['Notebooks', 'can', 'be', 'exported', 'as', '.pdf'] \n\n\" \".join(tip_words)\n```\nA space (\" \") is the separator that gets injected between the objects in the argument (the list \"tip_words\")."
    },
    {
      "metadata": {},
      "cell_type": "markdown",
      "source": "### Examples: `.join()`"
    },
    {
      "metadata": {
        "trusted": true
      },
      "cell_type": "code",
      "source": "# [ ] review and run example\ntip_words = ['Notebooks', 'can', 'be', 'exported', 'as', '.pdf'] \n\n# join tip_words objects with spaces\nprint(\" \".join(tip_words))",
      "execution_count": 15,
      "outputs": [
        {
          "output_type": "stream",
          "text": "Notebooks can be exported as .pdf\n",
          "name": "stdout"
        }
      ]
    },
    {
      "metadata": {
        "trusted": false
      },
      "cell_type": "code",
      "source": "# [ ] review and run example\nno_space = \"\"\nletters = [\"P\", \"y\", \"t\", \"h\", \"o\", \"n\"]\nprint(no_space.join(letters))",
      "execution_count": null,
      "outputs": []
    },
    {
      "metadata": {
        "trusted": false
      },
      "cell_type": "code",
      "source": "# [ ] review and run example - .join() iterates through sequences\ndash = \"-\"\nspace = \" \"\nword = \"Iteration\"\nellipises = \"...\"\n\ndash_join = dash.join(word)\nprint(dash_join)\nprint(space.join(word))\nprint(ellipises.join(word))",
      "execution_count": null,
      "outputs": []
    },
    {
      "metadata": {
        "collapsed": true
      },
      "cell_type": "markdown",
      "source": "## Task 3: `.join()`"
    },
    {
      "metadata": {
        "trusted": true,
        "scrolled": true
      },
      "cell_type": "code",
      "source": "# [ ] .join() letters list objects with an Asterisk: \"*\"\nletters = [\"A\", \"s\", \"t\", \"e\", \"r\", \"i\", \"s\", \"k\"]\nnoSpace = \"\"\nprint(noSpace.join(letters))\n",
      "execution_count": 16,
      "outputs": [
        {
          "output_type": "stream",
          "text": "Asterisk\n",
          "name": "stdout"
        }
      ]
    },
    {
      "metadata": {
        "collapsed": true
      },
      "cell_type": "markdown",
      "source": "## Task 4 (program): Choose the separator\n- get user input on what to use to join words (\" \", *, -, etc...) - store in variable: separator\n- join pharse_words with the separator and print"
    },
    {
      "metadata": {
        "trusted": true
      },
      "cell_type": "code",
      "source": "# [ ] complete Choose the separator\nphrase_words = ['Jack', 'and', 'Jill', 'went', 'up', 'the', 'hill', 'To', 'fetch', 'a', 'pail', 'of', 'water']\nnoSpace = input(\"How do you wanna join words?\")\nprint(noSpace.join(phrase_words))",
      "execution_count": 19,
      "outputs": [
        {
          "output_type": "stream",
          "name": "stdout",
          "text": "How do you wanna join words? *\nJack *and *Jill *went *up *the *hill *To *fetch *a *pail *of *water\n"
        }
      ]
    },
    {
      "metadata": {},
      "cell_type": "markdown",
      "source": "## Concept: More Python string tools\n[![view video](https://iajupyterprodblobs.blob.core.windows.net/imagecontainer/common/play_video.png)]( http://edxinteractivepage.blob.core.windows.net/edxpages/f7cff1a7-5601-48a1-95a6-fd1fdfabd20e.html?details=[{\"src\":\"http://jupyternootbookwams.streaming.mediaservices.windows.net/aa6eaea3-a3cb-41d8-aee3-280d01a9f4f0/Unit2_Section3.4d-Useful_String_Tricks.ism/manifest\",\"type\":\"application/vnd.ms-sstr+xml\"}],[{\"src\":\"http://jupyternootbookwams.streaming.mediaservices.windows.net/aa6eaea3-a3cb-41d8-aee3-280d01a9f4f0/Unit2_Section3.4d-Useful_String_Tricks.vtt\",\"srclang\":\"en\",\"kind\":\"subtitles\",\"label\":\"english\"}])\n### Cast a string to a list of characters  \n```python\nhello_letters = list(\"Hello\")\n```\n### Print to the same line with multiple print statements (`end=`)\nOr insert any character as an end in print(\"String\", end=\"+\").\n```python\nprint('Hello', end = '')\nprint('world')\n```"
    },
    {
      "metadata": {},
      "cell_type": "markdown",
      "source": "### Examples"
    },
    {
      "metadata": {
        "trusted": true
      },
      "cell_type": "code",
      "source": "# [ ] review and run example\nhello_letters = list(\"Hello\")\nprint(hello_letters)",
      "execution_count": 20,
      "outputs": [
        {
          "output_type": "stream",
          "text": "['H', 'e', 'l', 'l', 'o']\n",
          "name": "stdout"
        }
      ]
    },
    {
      "metadata": {
        "trusted": false
      },
      "cell_type": "code",
      "source": "# [ ] review and run example\n# cast sting to list\nword_letters = list(\"concatenates\")\n\n# .join() concatenates the list\n# print on same line setting the end character\nprint('~'.join(word_letters))",
      "execution_count": null,
      "outputs": []
    },
    {
      "metadata": {
        "trusted": true
      },
      "cell_type": "code",
      "source": "# [ ] review and run example\nprint(\"Hello \", end = '')\nprint(\"world\")",
      "execution_count": 21,
      "outputs": [
        {
          "output_type": "stream",
          "text": "Hello world\n",
          "name": "stdout"
        }
      ]
    },
    {
      "metadata": {
        "trusted": false
      },
      "cell_type": "code",
      "source": "# [ ] review and run example\n# This  is the default print end\nprint(\"Hello World!\", end=\"\\n\")\nprint('still something to learn about print()')",
      "execution_count": null,
      "outputs": []
    },
    {
      "metadata": {
        "trusted": false
      },
      "cell_type": "code",
      "source": "# [ ] review and run example\n# end inserts any valid str character: A-z, 0-9,!,@,*,\\n,\\t or ''(empty string)...\nfor letter in \"Concatenation\":\n    print(letter, end='*')",
      "execution_count": null,
      "outputs": []
    },
    {
      "metadata": {},
      "cell_type": "markdown",
      "source": "## Task 5: `end=\" \" ` configuration in printing\n`print('The String', end='')`"
    },
    {
      "metadata": {
        "trusted": true
      },
      "cell_type": "code",
      "source": "# [ ] use 3 print() statements to output text to one line \n# [ ] separate the lines by using \"- \" (dash space)\nprint(\"WHAT \", end = '')\nprint(\"IS \", end = '')\nprint(\"IT \" ,end = '')\n\n",
      "execution_count": 25,
      "outputs": [
        {
          "output_type": "stream",
          "text": "WHAT IS IT ",
          "name": "stdout"
        }
      ]
    },
    {
      "metadata": {},
      "cell_type": "markdown",
      "source": "## Task 6: cast str to list\n`Msg_characters = list(\"Always test your code\")`"
    },
    {
      "metadata": {
        "trusted": true,
        "scrolled": true
      },
      "cell_type": "code",
      "source": "# [ ] create a string (fact) of 20 or more characters and cast to a list (fact_letters)\n# [ ] iterate fact, printing each char on one line, except for spaces print a new line\nfact = \"Is it crazy how saying sentences backwards creates backwards sentences saying how crazy it is?\"\nfactLetters = list(fact)\nfor i in fact:\n    if i == ' ':\n        print()\n    else:\n        print(i)\n",
      "execution_count": 32,
      "outputs": [
        {
          "output_type": "stream",
          "text": "I\ns\n\ni\nt\n\nc\nr\na\nz\ny\n\nh\no\nw\n\ns\na\ny\ni\nn\ng\n\ns\ne\nn\nt\ne\nn\nc\ne\ns\n\nb\na\nc\nk\nw\na\nr\nd\ns\n\nc\nr\ne\na\nt\ne\ns\n\nb\na\nc\nk\nw\na\nr\nd\ns\n\ns\ne\nn\nt\ne\nn\nc\ne\ns\n\ns\na\ny\ni\nn\ng\n\nh\no\nw\n\nc\nr\na\nz\ny\n\ni\nt\n\ni\ns\n?\n",
          "name": "stdout"
        }
      ]
    },
    {
      "metadata": {
        "collapsed": true
      },
      "cell_type": "markdown",
      "source": "## Task 7 (program): Add the digits\n- Create a 20 digit string, and cast to a list\n- Then add all the digits as integers\n- Print the equation and answer  \n\nHint: use cast to sum the digits, and .join() to create the equation (1+2+3+...)"
    },
    {
      "metadata": {
        "trusted": true
      },
      "cell_type": "code",
      "source": "# [ ] create add the digits\ndigits = list(\"4206669116913378008135\")\nSum = 0\n\nprint(\"+\".join(digits),\"=\")\n\nfor i in range(len(digits)):\n    digits[i] = int(digits[i])\n    Sum += digits[i]\n\nprint(Sum)",
      "execution_count": 2,
      "outputs": [
        {
          "output_type": "stream",
          "text": "4+2+0+6+6+6+9+1+1+6+9+1+3+3+7+8+0+0+8+1+3+5 =\n89\n",
          "name": "stdout"
        }
      ]
    },
    {
      "metadata": {
        "trusted": true
      },
      "cell_type": "code",
      "source": "tip = 'Strings are a sequence of characters'\n\ntipList = tip.split()\nprint(tipList)\ntipList = list(tip)\nprint(tipList)\n\ntipList = tip[0:-1]\nprint(tipList)\n",
      "execution_count": 6,
      "outputs": [
        {
          "output_type": "stream",
          "text": "['Strings', 'are', 'a', 'sequence', 'of', 'characters']\n['S', 't', 'r', 'i', 'n', 'g', 's', ' ', 'a', 'r', 'e', ' ', 'a', ' ', 's', 'e', 'q', 'u', 'e', 'n', 'c', 'e', ' ', 'o', 'f', ' ', 'c', 'h', 'a', 'r', 'a', 'c', 't', 'e', 'r', 's']\nStrings are a sequence of character\n",
          "name": "stdout"
        }
      ]
    },
    {
      "metadata": {
        "collapsed": true
      },
      "cell_type": "markdown",
      "source": "[Terms of use](http://go.microsoft.com/fwlink/?LinkID=206977) &nbsp; [Privacy & cookies](https://go.microsoft.com/fwlink/?LinkId=521839) &nbsp; © 2017 Microsoft"
    }
  ],
  "metadata": {
    "anaconda-cloud": {},
    "kernelspec": {
      "name": "python3",
      "display_name": "Python 3",
      "language": "python"
    },
    "language_info": {
      "mimetype": "text/x-python",
      "nbconvert_exporter": "python",
      "name": "python",
      "pygments_lexer": "ipython3",
      "version": "3.5.4",
      "file_extension": ".py",
      "codemirror_mode": {
        "version": 3,
        "name": "ipython"
      }
    }
  },
  "nbformat": 4,
  "nbformat_minor": 1
}