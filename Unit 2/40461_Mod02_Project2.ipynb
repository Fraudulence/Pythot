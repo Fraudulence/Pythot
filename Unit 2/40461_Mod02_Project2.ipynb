{
  "cells": [
    {
      "metadata": {},
      "cell_type": "markdown",
      "source": "#  Module 2 Project  \n\nCourse 40461: Introduction to Python, Unit 2\n\nThis is an activity based on the Module 2 Lab, which you may have already completed.\n\n| Important Assignment Requirements |  \n|:-------------------------------|  \n| **NOTE:** This program requires creating a function using **`def`** and **`return`**, using **`print`** output, **`input`**, **`if`**, **`in`** keywords, **`.append()`**, **`.pop()`**, **`.remove()`** list methods.  As well as other standard Python. |   \n\n## Program: list-o-matic  \nThis program takes string input and checks if that string is in a list of strings.    \n- If the string is in the list it removes the first instance from list  \n- If the string is not in the list the input gets appended to the list  \n- If the string is empty then the last item is popped from the list \n- If the **list becomes empty** the program ends  \n- If the user enters \"quit\" then the program ends  \n\nThe program has two parts:  \n- **program flow** which can be modified to ask for a specific type of item.  This is the programmers choice.  Add a list of fish, trees, books, movies, songs.... your choice.  \n- **list-o-matic** Function which takes arguments of a string and a list.  The function modifies the list and returns a message as seen below.  \n\n![TODO: upload image to blob](https://q4tiyg-ch3302.files.1drv.com/y4mkvwrxHSIqinTvp_nNGFiMn_yyJ0dsEtCzPpG_hsFMRdyEED4ExPdsWmbdPIKRpgU25VxFIUAGBdz0yzqumtxw7wy_pAJMJ3MeZ6PJQKyej6UwN6N6zOmnRq6106aqvXJB43RKRJgB2oMmidb9Zl0OBjmvFVowm-XtD2wUW5bJrgd4LS8I5Nso_vXqfpNCANRYcKe4WnjIWds4KoV4sjPIg?width=717&height=603&cropmode=none)\n\n**[ ]** initialize a list with several strings at the beginning of the program flow and follow the flow chart and output examples\n\n *example input/output*  \n ```\nlook at all the animals ['cat', 'goat', 'cat']\nenter the name of an animal: horse\n1 instance of horse appended to list\n\nlook at all the animals ['cat', 'goat', 'cat', 'horse']\nenter the name of an animal: cat\n1 instance of cat removed from list\n\nlook at all the animals ['goat', 'cat', 'horse']\nenter the name of an animal: cat\n1 instance of cat removed from list\n\nlook at all the animals ['goat', 'horse']\nenter the name of an animal:          (<-- entered empty string)\nhorse popped from list\n\nlook at all the animals ['goat']\nenter the name of an animal:          (<-- entered empty string)\ngoat popped from list\n\nGoodbye!\n```  \n\n*example 2*\n```\nlook at all the animals ['cat', 'goat', 'cat']\nenter the name of an animal: Quit\nGoodbye!\n```  \n\n"
    },
    {
      "metadata": {
        "trusted": true
      },
      "cell_type": "code",
      "source": "#Dylan the Villain Lang\n# [] create list-o-matic\nanimalList = [\"dog\", \"horse\",\"dog\"]\nprint(\"Look at my list of animals: \" + str(animalList))\n\ndef list_o_matic(string):\n    if string == \"\":\n        string = animalList.pop()\n        print(string.lower() + \" popped from list\")\n        return animalList.pop()\n    elif string.lower() in animalList:\n        print(string.lower() + \" has been removed from list\")\n        return animalList.remove(string)\n    else:\n        print(\"1 instance of \" + string.lower() + \" appended to list\")\n        return animalList.append(string)\n\nwhile animalList:\n    newAnimal = input(\"Enter any type of Animal or Q to quit: \")\n    if newAnimal.upper() == \"Q\":\n        print(\"Goodbye, and thanks for all of the animals!\")\n        break\n    else:\n        print(\"Look at my list of animals: \" + str(animalList))\n        list_o_matic(newAnimal)\n        print(animalList)\nprint(\"I have no more Animals.\")\n\n\n\n",
      "execution_count": 8,
      "outputs": [
        {
          "output_type": "stream",
          "text": "Look at my list of animals: ['dog', 'horse', 'dog']\nEnter any type of Animal or Q to quit: dog\nLook at my list of animals: ['dog', 'horse', 'dog']\ndog has been removed from list\n['horse', 'dog']\nEnter any type of Animal or Q to quit: horse\nLook at my list of animals: ['horse', 'dog']\nhorse has been removed from list\n['dog']\nEnter any type of Animal or Q to quit: cat\nLook at my list of animals: ['dog']\n1 instance of cat appended to list\n['dog', 'cat']\nEnter any type of Animal or Q to quit: dog\nLook at my list of animals: ['dog', 'cat']\ndog has been removed from list\n['cat']\nEnter any type of Animal or Q to quit: cat\nLook at my list of animals: ['cat']\ncat has been removed from list\n[]\nI have no more Animals.\n",
          "name": "stdout"
        }
      ]
    },
    {
      "metadata": {
        "trusted": true
      },
      "cell_type": "code",
      "source": "# [] create list-o-matic\nanimalList = [\"dog\", \"horse\",\"dog\"]\nprint(\"Look at my list of animals: \" + str(animalList))\n\ndef list_o_matic(string):\n    if string == \"\":\n        string = animalList.pop()\n        print(string.lower() + \" popped from list\")\n        return animalList.pop()\n    elif string.lower() in animalList:\n        print(string.lower() + \" has been removed from list\")\n        return animalList.remove(string)\n    else:\n        print(\"1 instance of \" + string.lower() + \" appended to list\")\n        return animalList.append(string)\n\nwhile animalList:\n    newAnimal = input(\"Enter any type of Animal or Q to quit: \")\n    if newAnimal.upper() == \"Q\":\n        print(\"Goodbye, and thanks for all of the animals!\")\n        break\n    else:\n        print(\"Look at my list of animals: \" + str(animalList))\n        list_o_matic(newAnimal)\n        print(animalList)\nprint(\"I have no more Animals.\")\n\n",
      "execution_count": 6,
      "outputs": [
        {
          "output_type": "stream",
          "text": "Look at my list of animals: ['dog', 'horse', 'dog']\nEnter any type of Animal or Q to quit: q\nGoodbye, and thanks for all of the animals!\nI have no more Animals.\n",
          "name": "stdout"
        }
      ]
    },
    {
      "metadata": {},
      "cell_type": "markdown",
      "source": "[Terms of use](http://go.microsoft.com/fwlink/?LinkID=206977) &nbsp; [Privacy & cookies](https://go.microsoft.com/fwlink/?LinkId=521839) &nbsp; © 2017 Microsoft"
    }
  ],
  "metadata": {
    "anaconda-cloud": {},
    "kernelspec": {
      "name": "python3",
      "display_name": "Python 3",
      "language": "python"
    },
    "language_info": {
      "mimetype": "text/x-python",
      "nbconvert_exporter": "python",
      "name": "python",
      "pygments_lexer": "ipython3",
      "version": "3.5.4",
      "file_extension": ".py",
      "codemirror_mode": {
        "version": 3,
        "name": "ipython"
      }
    }
  },
  "nbformat": 4,
  "nbformat_minor": 1
}