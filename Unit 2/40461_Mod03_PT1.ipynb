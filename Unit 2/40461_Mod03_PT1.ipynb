{
  "cells": [
    {
      "metadata": {
        "trusted": true
      },
      "cell_type": "code",
      "source": "#Dylan The Villain Lang Period 4 11/16/19 U2M3 Test\n\ndef madLibMaker(wordList):\n    day = wordList.pop()\n    noun2 = wordList.pop()\n    place = wordList.pop()\n    adj = wordList.pop()\n    noun1 = wordList.pop()\n    sentence = \"The \"+ noun1 +\" is getting very \"+ adj +\" when going to \"+ place +\" with \"+ noun2 +\" on \"+ day+\".\"\n    return sentence\nsentenceMaker = input(\"Enter a noun, an adjective, a place, a second noun and a day of the week – in that order. Enter “q” to quit.\")\nwhile sentenceMaker.lower() != \"q\":\n    words = sentenceMaker.split(\" \")\n    length = len(words)\n    if length < 5:\n        sentenceMaker = input(\"Not enough parameters. Please try again with 5 parameters.\")\n    elif length > 5:\n        sentenceMaker = input(\"Too many parameters. Please try again with 5 parameters.\")\n    else:\n        print(madLibMaker(words))\n        sentenceMaker = input(\"Enter a noun, an adjective, a place, a second noun and a day of the week – in that order. Enter “q” to quit.\") \nprint(\"Goodbye\")",
      "execution_count": 1,
      "outputs": [
        {
          "output_type": "stream",
          "name": "stdout",
          "text": "Enter a noun, an adjective, a place, a second noun and a day of the week – in that order. Enter “q” to quit.dog\nNot enough parameters. Please try again with 5 parameters.cat cat cat cat cat cat\nToo many parameters. Please try again with 5 parameters.dog tall home cat Sunday\nThe dog is getting very tall when going to home with cat on Sunday.\nEnter a noun, an adjective, a place, a second noun and a day of the week – in that order. Enter “q” to quit.q\nGoodbye\n"
        }
      ]
    },
    {
      "metadata": {
        "trusted": true
      },
      "cell_type": "code",
      "source": "#Dylan the Villain Lang\ndef updateFlavors(op,flav,FirstFlavors):\n    if op == \"add\":\n        FirstFlavors.append(flav)\n        print(flav + \" has been added to the list\")\n        return FirstFlavors\n    elif op == \"remove\":\n        if flav.lower() in FirstFlavors:\n            FirstFlavors.remove(flav)\n            print(flav.lower() + \" has been removed from the list\")\n            return FirstFlavors\n        else:\n            print(\"There are no such flavors named as: \",flav)\n\nflavors = []\nfor i in range(0,3):\n    flavor = input(\"Input a flavor type.\")\n    flavors.append(flavor)\n    print(flavors)\nuser = input(\"Enter 'add', 'remove' to add or remove a flavor from the ice cream flavor list or “q” to quit.\")\nwhile user.lower() != \"q\":\n    if user.lower() == \"add\":\n        moreFlavors = input(\"Input another flavor.\")\n        print(updateFlavors(user,moreFlavors,flavors))\n        user = input(\"Enter 'add', 'remove' to add or remove a flavor from the ice cream flavor list or “q” to quit.\")\n    elif user.lower() == \"remove\":\n        lessFlavors = input(\"Input a flavor to remove.\")\n        print(updateFlavors(user,lessFlavors,flavors))\n        user = input(\"Enter 'add', 'remove' to add or remove a flavor from the ice cream flavor list or “q” to quit.\")\n    else:\n        user = input(\"Enter 'add', 'remove' to add or remove a flavor from the ice cream flavor list or “q” to quit. You may not put anything else.\")\nprint(\"Goodbye\")",
      "execution_count": 2,
      "outputs": [
        {
          "output_type": "stream",
          "name": "stdout",
          "text": "Input a flavor type.vanilla\n['vanilla']\nInput a flavor type.mint\n['vanilla', 'mint']\nInput a flavor type.chocolate\n['vanilla', 'mint', 'chocolate']\nEnter 'add', 'remove' to add or remove a flavor from the ice cream flavor list or “q” to quit.add\nInput another flavor.cookies\ncookies has been added to the list\n['vanilla', 'mint', 'chocolate', 'cookies']\nEnter 'add', 'remove' to add or remove a flavor from the ice cream flavor list or “q” to quit.remove\nInput a flavor to remove.cookies\ncookies has been removed from the list\n['vanilla', 'mint', 'chocolate']\nEnter 'add', 'remove' to add or remove a flavor from the ice cream flavor list or “q” to quit.q\nGoodbye\n"
        }
      ]
    }
  ],
  "metadata": {
    "kernelspec": {
      "name": "python36",
      "display_name": "Python 3.6",
      "language": "python"
    },
    "language_info": {
      "mimetype": "text/x-python",
      "nbconvert_exporter": "python",
      "name": "python",
      "pygments_lexer": "ipython3",
      "version": "3.6.6",
      "file_extension": ".py",
      "codemirror_mode": {
        "version": 3,
        "name": "ipython"
      }
    }
  },
  "nbformat": 4,
  "nbformat_minor": 2
}