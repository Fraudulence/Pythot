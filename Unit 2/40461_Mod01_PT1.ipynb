{
  "cells": [
    {
      "metadata": {
        "trusted": true
      },
      "cell_type": "code",
      "source": "#Dylan the Villain lang 10-25-19 4 U2M1 Test\ndef encrypt(message):\n    newMessage = \"\"\n    for e in message:\n        if e.lower() == 'a':\n            newMessage += '!'\n        elif e.lower() == 'e':\n            newMessage += '@'\n        elif e.lower() == 'i':\n            newMessage += '#'\n        elif e.lower() == 'o':\n            newMessage += '$'\n        elif e.lower() == 'u':\n            newMessage += '%'\n        else:\n            newMessage += e\n    print(newMessage)\ndef decrypt(message):\n    newMessage = \"\"\n    for d in message:\n        if d.lower() == '!':\n            newMessage += 'a'\n        elif d.lower() == '@':\n            newMessage += 'e'\n        elif d.lower() == '#':\n            newMessage += 'i'\n        elif d.lower() == '$':\n            newMessage += 'o'\n        elif d.lower() == '%':\n            newMessage += 'u'\n        else:\n            newMessage += d\n    print(newMessage)\n\nfunction = input(\"Enter 'e' for encrypt, 'd' for decrypt, or 'q' to quit.\")\nwhile function.lower() != \"q\":\n    if function.lower() == 'e':\n        message = input(\"Enter the message to encrypt.\")\n        encrypt(message)\n        function = input(\"Enter 'e' for encrypt, 'd' for decrypt, or 'q' to quit.\")\n    elif function.lower() == 'd':\n        message = input(\"Enter the message to decrypt.\")\n        decrypt(message)\n        function = input(\"Enter 'e' for encrypt, 'd' for decrypt, or 'q' to quit.\")\n    else:\n        function = input(\"Enter 'e' for encrypt, 'd' for decrypt, or 'q' to quit.\")\n",
      "execution_count": 1,
      "outputs": [
        {
          "output_type": "stream",
          "name": "stdout",
          "text": "Enter 'e' for encrypt, 'd' for decrypt, or 'q' to quit.e\nEnter the message to encrypt.OOF\n$$F\nEnter 'e' for encrypt, 'd' for decrypt, or 'q' to quit.e\nEnter the message to encrypt.Happy Halloween OOF UFF YIFF\nH!ppy H!ll$w@@n $$F %FF Y#FF\nEnter 'e' for encrypt, 'd' for decrypt, or 'q' to quit.H!ppy H!ll$w@@n $$F %FF Y#FF\nEnter 'e' for encrypt, 'd' for decrypt, or 'q' to quit.d\nEnter the message to decrypt.H!ppy H!ll$w@@n $$F %FF Y#FF\nHappy Halloween ooF uFF YiFF\nEnter 'e' for encrypt, 'd' for decrypt, or 'q' to quit.q\n"
        }
      ]
    },
    {
      "metadata": {
        "trusted": true
      },
      "cell_type": "code",
      "source": "",
      "execution_count": null,
      "outputs": []
    }
  ],
  "metadata": {
    "kernelspec": {
      "name": "python36",
      "display_name": "Python 3.6",
      "language": "python"
    },
    "language_info": {
      "mimetype": "text/x-python",
      "nbconvert_exporter": "python",
      "name": "python",
      "pygments_lexer": "ipython3",
      "version": "3.6.6",
      "file_extension": ".py",
      "codemirror_mode": {
        "version": 3,
        "name": "ipython"
      }
    }
  },
  "nbformat": 4,
  "nbformat_minor": 2
}