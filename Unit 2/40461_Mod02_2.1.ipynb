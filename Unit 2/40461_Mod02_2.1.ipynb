{
  "cells": [
    {
      "metadata": {},
      "cell_type": "markdown",
      "source": "# Section 2.1\n## List Sequences\n- **List Creation**\n- **List Access**\n- List Append\n- List Insert\n- List Delete\n\n----- \n\n### Student will be able to\n- **Create lists**\n- **Access items in a list**\n- Add items to the end of a list\n- Modify and insert items into a list\n- Delete items from a list"
    },
    {
      "metadata": {},
      "cell_type": "markdown",
      "source": "## Concept: Creating Lists\n[![view video](https://iajupyterprodblobs.blob.core.windows.net/imagecontainer/common/play_video.png)]( http://edxinteractivepage.blob.core.windows.net/edxpages/f7cff1a7-5601-48a1-95a6-fd1fdfabd20e.html?details=[{\"src\":\"http://jupyternootbookwams.streaming.mediaservices.windows.net/933c4e57-93ae-4660-8725-6eff3987dd1c/Unit2_Section2.1a-Creating_Lists.ism/manifest\",\"type\":\"application/vnd.ms-sstr+xml\"}],[{\"src\":\"http://jupyternootbookwams.streaming.mediaservices.windows.net/933c4e57-93ae-4660-8725-6eff3987dd1c/Unit2_Section2.1a-Creating_Lists.vtt\",\"srclang\":\"en\",\"kind\":\"subtitles\",\"label\":\"english\"}])\nA simple lists contains **comma separated** objects enclosed in **square brackets**.\n```python\nempty_list = [ ]\nsample_list = [1, 1, 2, 3, 3, 3, 3, 4, 5, 5, 5, 5, 5]\n```\n\nList object types are not restricted so a mix of object types can be in single list\n```python\nmixed_list = [1, 1, \"one\", \"two\", 2.0, sample_list, \"Hello World\"]\n```"
    },
    {
      "metadata": {},
      "cell_type": "markdown",
      "source": "### Examples"
    },
    {
      "metadata": {
        "trusted": true
      },
      "cell_type": "code",
      "source": "# [ ] review and run example\n# define list of strings\nft_bones = [\"calcaneus\", \"talus\", \"cuboid\", \"navicular\", \"lateral cuneiform\", \"intermediate cuneiform\", \"medial cuneiform\"]\n\n# display type information\nprint(\"ft_bones: \", type(ft_bones))\n\n# print the list\nprint(ft_bones)",
      "execution_count": 3,
      "outputs": [
        {
          "output_type": "stream",
          "text": "ft_bones:  <class 'list'>\n['calcaneus', 'talus', 'cuboid', 'navicular', 'lateral cuneiform', 'intermediate cuneiform', 'medial cuneiform']\n",
          "name": "stdout"
        }
      ]
    },
    {
      "metadata": {
        "trusted": true
      },
      "cell_type": "code",
      "source": "# [ ] review and run example\n# define list of integers\nage_survey = [12, 14, 12, 29, 12, 14, 12, 12, 13, 12, 14, 13, 13, 46, 13, 12, 12, 13, 13, 12, 12]\n\n# display type information\nprint(\"age_survey: \", type(age_survey))\n\n# print the list\nprint(age_survey)",
      "execution_count": 6,
      "outputs": [
        {
          "output_type": "stream",
          "text": "age_survey:  <class 'list'>\n[12, 14, 12, 29, 12, 14, 12, 12, 13, 12, 14, 13, 13, 46, 13, 12, 12, 13, 13, 12, 12]\n",
          "name": "stdout"
        }
      ]
    },
    {
      "metadata": {
        "trusted": true
      },
      "cell_type": "code",
      "source": "# [ ] review and run example\n# define list of mixed data type\nmixed_list = [1, 34, 0.999, \"dog\", \"cat\", ft_bones, age_survey]\n\n# display type information\nprint(\"mixed_list: \", type(mixed_list))\n\n# print the list\nprint(mixed_list)",
      "execution_count": 7,
      "outputs": [
        {
          "output_type": "stream",
          "text": "mixed_list:  <class 'list'>\n[1, 34, 0.999, 'dog', 'cat', ['calcaneus', 'talus', 'cuboid', 'navicular', 'lateral cuneiform', 'intermediate cuneiform', 'medial cuneiform'], [12, 14, 12, 29, 12, 14, 12, 12, 13, 12, 14, 13, 13, 46, 13, 12, 12, 13, 13, 12, 12]]\n",
          "name": "stdout"
        }
      ]
    },
    {
      "metadata": {
        "collapsed": true
      },
      "cell_type": "markdown",
      "source": "## Task 1: Create Lists"
    },
    {
      "metadata": {
        "trusted": true
      },
      "cell_type": "code",
      "source": "# [ ] create team_names list and populate with 3-5 team name strings\nteamNames = [\"Joker\",\"Crow\",\"Insatiable Suffering\",\"English Deficiency\",\"Dream\"]\n# [ ] print the list\nprint(teamNames)\n",
      "execution_count": 2,
      "outputs": [
        {
          "output_type": "stream",
          "text": "['Joker', 'Crow', 'Insatiable Suffering', 'English Deficiency', 'Dream']\n",
          "name": "stdout"
        }
      ]
    },
    {
      "metadata": {
        "trusted": true
      },
      "cell_type": "code",
      "source": "# [ ] Create a list mix_list with numbers and strings with 4-6 items\nmixList = [\"Memes\",420,69,\"DNA of the soul\"]\n# [ ] print the list\nprint(mixList)\n",
      "execution_count": 5,
      "outputs": [
        {
          "output_type": "stream",
          "text": "['Memes', 420, 69, 'DNA of the soul']\n",
          "name": "stdout"
        }
      ]
    },
    {
      "metadata": {},
      "cell_type": "markdown",
      "source": "## Concept: List Access \n[![view video](https://iajupyterprodblobs.blob.core.windows.net/imagecontainer/common/play_video.png)]( http://edxinteractivepage.blob.core.windows.net/edxpages/f7cff1a7-5601-48a1-95a6-fd1fdfabd20e.html?details=[{\"src\":\"http://jupyternootbookwams.streaming.mediaservices.windows.net/efc23682-3b15-4c73-afe0-77067fac2769/Unit2_Section2.1b-Accessing_Lists.ism/manifest\",\"type\":\"application/vnd.ms-sstr+xml\"}],[{\"src\":\"http://jupyternootbookwams.streaming.mediaservices.windows.net/efc23682-3b15-4c73-afe0-77067fac2769/Unit2_Section2.1b-Accessing_Lists.vtt\",\"srclang\":\"en\",\"kind\":\"subtitles\",\"label\":\"english\"}])\n### Counting like a computer\n#### To access a list we need to count like a computer, and that means starting with zero (0)\nLists give an **index** number to each list item.\n\n- first element in a list is index 0\n- second element in a list is index 1\n\nTo access the first item in a list use the list name, followed by square brackets containing the index number.\n```python\nage_survey[0]\n```\n"
    },
    {
      "metadata": {},
      "cell_type": "markdown",
      "source": "### Examples\n\n|run previous examples before running the examples below|\n|-----------------------------------------------------------|\n"
    },
    {
      "metadata": {
        "trusted": true
      },
      "cell_type": "code",
      "source": "# [ ] review and run example\nprint(ft_bones[0], \"is the 1st bone on the list\")\nprint(ft_bones[2], \"is the 3rd bone on the list\")\nprint(ft_bones[-1], \"is the last bone on the list\")",
      "execution_count": 8,
      "outputs": [
        {
          "output_type": "stream",
          "text": "calcaneus is the 1st bone on the list\ncuboid is the 3rd bone on the list\nmedial cuneiform is the last bone on the list\n",
          "name": "stdout"
        }
      ]
    },
    {
      "metadata": {
        "trusted": true
      },
      "cell_type": "code",
      "source": "# [ ] review and run example\nprint(ft_bones[1], \"is connected to the\",ft_bones[3])",
      "execution_count": 9,
      "outputs": [
        {
          "output_type": "stream",
          "text": "talus is connected to the navicular\n",
          "name": "stdout"
        }
      ]
    },
    {
      "metadata": {
        "trusted": true
      },
      "cell_type": "code",
      "source": "# [ ] review and run example\nthree_ages_sum = age_survey[0] + age_survey[1] + age_survey[2]\nprint(\"The first three ages total\", three_ages_sum)",
      "execution_count": 10,
      "outputs": [
        {
          "output_type": "stream",
          "text": "The first three ages total 38\n",
          "name": "stdout"
        }
      ]
    },
    {
      "metadata": {
        "collapsed": true
      },
      "cell_type": "markdown",
      "source": "## Task 2"
    },
    {
      "metadata": {
        "trusted": true
      },
      "cell_type": "code",
      "source": "# [ ] Create a list, streets, that lists the name of 5 street name strings\nstreets = [\"Joker\",\"Skull\",\"Crow\",\"Fox\",\"Oracle\"]\n# [ ] print a message that there is \"No Parking\" on index 0 or index 4 streets\nprint(\"There is no parking on\",streets[0])\n",
      "execution_count": 14,
      "outputs": [
        {
          "output_type": "stream",
          "text": "There is no parking on Joker\n",
          "name": "stdout"
        }
      ]
    },
    {
      "metadata": {
        "trusted": true
      },
      "cell_type": "code",
      "source": "# [ ] Create a list, num_2_add, made of 5 different numbers between 0 - 25\nnum2Add = [911,69,420,666,1337]\n# [ ] print the sum of the numbers\nSum = num2Add[0]+num2Add[1]+num2Add[2]+num2Add[4]+num2Add[3]\nprint(Sum)",
      "execution_count": 20,
      "outputs": [
        {
          "output_type": "stream",
          "text": "3403\n",
          "name": "stdout"
        }
      ]
    },
    {
      "metadata": {
        "collapsed": true
      },
      "cell_type": "markdown",
      "source": "## Task 3: Fix the errors"
    },
    {
      "metadata": {
        "trusted": true
      },
      "cell_type": "code",
      "source": "# [ ] Review & Run, but ***Do Not Edit*** this code cell\n# [ ] Fix the error by only editing and running the block below\n\nprint(\" Total of checks 3 & 4 = $\", pay_checks[2] + pay_checks[3])\n",
      "execution_count": 2,
      "outputs": [
        {
          "output_type": "stream",
          "text": "(' Total of checks 3 & 4 = $', 1577)\n",
          "name": "stdout"
        }
      ]
    },
    {
      "metadata": {
        "trusted": true
      },
      "cell_type": "code",
      "source": "# [ ] Fix the error above by creating and running code in this cell\npay_checks = [420,69,666,911]\n",
      "execution_count": 1,
      "outputs": []
    },
    {
      "metadata": {},
      "cell_type": "markdown",
      "source": "[Terms of use](http://go.microsoft.com/fwlink/?LinkID=206977) &nbsp; [Privacy & cookies](https://go.microsoft.com/fwlink/?LinkId=521839) &nbsp; © 2017 Microsoft"
    }
  ],
  "metadata": {
    "anaconda-cloud": {},
    "kernelspec": {
      "name": "python2",
      "display_name": "Python 2",
      "language": "python"
    },
    "language_info": {
      "mimetype": "text/x-python",
      "nbconvert_exporter": "python",
      "name": "python",
      "pygments_lexer": "ipython2",
      "version": "2.7.15",
      "file_extension": ".py",
      "codemirror_mode": {
        "version": 2,
        "name": "ipython"
      }
    }
  },
  "nbformat": 4,
  "nbformat_minor": 1
}