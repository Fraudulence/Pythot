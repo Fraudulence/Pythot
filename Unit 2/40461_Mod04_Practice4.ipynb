{
  "cells": [
    {
      "metadata": {},
      "cell_type": "markdown",
      "source": "# Module 4 Lab\n## Working with Files Practice\n\n-----\n\n### Student will be able to\n \n- Import files into Jupyter Notebooks  \n- Open and **`.read()`** local files in memory   \n- **`.read()`** a specific number of characters  \n- Use **`.readlines()`** to read data from file as a **list** of lines  \n- Use **`.readlines()`** to read data from file as a **list** of lines   \n- Use **`.readline()`** to read data from file a line at a time   \n- Use **`.strip()`** to remove new line characters  \n- `.write()` data to a new local file  \n- Use **`.seek()`** to set file read or write location  \n- Use file append mode  "
    },
    {
      "metadata": {
        "collapsed": true
      },
      "cell_type": "markdown",
      "source": "## Task 1: Order the Rainbow\n#### Open the rainbow file, then put in a list and print in alphabetical order\nDownload and open the file  \n- Download list of rainbow colors, as `rainbow.txt`, using `curl` \n  https://raw.githubusercontent.com/MicrosoftLearning/intropython/master/rainbow. \n- Open rainbow.txt in read mode using a variable: rainbow_file.\n "
    },
    {
      "metadata": {
        "trusted": true
      },
      "cell_type": "code",
      "source": "# [ ] import https://raw.githubusercontent.com/MicrosoftLearning/intropython/master/rainbow as rainbow.txt\n!curl https://raw.githubusercontent.com/MicrosoftLearning/intropython/master/rainbow -o rainbow.txt\n",
      "execution_count": 9,
      "outputs": [
        {
          "output_type": "stream",
          "text": "  % Total    % Received % Xferd  Average Speed   Time    Time     Time  Current\n                                 Dload  Upload   Total   Spent    Left  Speed\n100    43  100    43    0     0    209      0 --:--:-- --:--:-- --:--:--   212\n",
          "name": "stdout"
        }
      ]
    },
    {
      "metadata": {},
      "cell_type": "markdown",
      "source": "\n- Read rainbow_file as a list variable: rainbow_colors using `.readlines()`.    \n"
    },
    {
      "metadata": {
        "trusted": true
      },
      "cell_type": "code",
      "source": "# [ ]  Open rainbow.txt in read mode & read as list with .readlines()\nrainbowFile = open('rainbow.txt','r')\nrainbowLine = rainbowFile.readlines()\nrainbowLine",
      "execution_count": 10,
      "outputs": [
        {
          "output_type": "execute_result",
          "execution_count": 10,
          "data": {
            "text/plain": "['red\\n', 'orange\\n', 'yellow\\n', 'green\\n', 'blue\\n', 'indigo\\n', 'violet\\n']"
          },
          "metadata": {}
        }
      ]
    },
    {
      "metadata": {},
      "cell_type": "markdown",
      "source": "1. Sort the rainbow_lines list alphabetically.\n2. Print each line of rainbow_lines by iterating the sorted list.\n3. Close rainbow_file."
    },
    {
      "metadata": {
        "trusted": true
      },
      "cell_type": "code",
      "source": "# [ ] sort rainbow_colors list, iterate the list to print each color\nfor line in rainbowLine:\n    print(line)\n",
      "execution_count": 11,
      "outputs": [
        {
          "output_type": "stream",
          "text": "red\n\norange\n\nyellow\n\ngreen\n\nblue\n\nindigo\n\nviolet\n\n",
          "name": "stdout"
        }
      ]
    },
    {
      "metadata": {
        "collapsed": true
      },
      "cell_type": "markdown",
      "source": "## Task 2: The Weather\nCreate a program that reads from a file to display city name and average temperature in Celsius. \n\n- Use `!curl` to download https://raw.githubusercontent.com/MicrosoftLearning/intropython/master/world_temp_mean.csv as `mean_temp.txt`.  \n  \n"
    },
    {
      "metadata": {
        "trusted": true
      },
      "cell_type": "code",
      "source": "# [ ] The Weather: import world_mean_team.csv as mean_temp.txt\n!curl https://raw.githubusercontent.com/MicrosoftLearning/intropython/master/world_temp_mean.csv -o mean_temp.txt\n",
      "execution_count": 12,
      "outputs": [
        {
          "output_type": "stream",
          "text": "  % Total    % Received % Xferd  Average Speed   Time    Time     Time  Current\n                                 Dload  Upload   Total   Spent    Left  Speed\n100   222  100   222    0     0   1364      0 --:--:-- --:--:-- --:--:--  1423\n",
          "name": "stdout"
        }
      ]
    },
    {
      "metadata": {},
      "cell_type": "markdown",
      "source": "1. Open the file in `'r'` mode.  \n2. Read the first line of text into a variable called: `  headings` and `print()`.    \n3. Convert `headings` to a list using **`.split(',')`** which splits on each comma, `print()` the list.  "
    },
    {
      "metadata": {
        "trusted": true
      },
      "cell_type": "code",
      "source": "# [ ] The Weather: open file, read/print first line, convert line to list (splitting on comma)\nmean_temp = open('mean_temp.txt', 'r')\nread_line = mean_temp.readline()\nheading = read_line.split(',')\nprint('Heading list: ',heading)\n\n\ncity_temp = mean_temp.readline() # goes to the next line\n\n",
      "execution_count": 13,
      "outputs": [
        {
          "output_type": "stream",
          "text": "Heading list:  ['city', 'country', 'month ave: highest high', 'month ave: lowest low\\n']\n",
          "name": "stdout"
        }
      ]
    },
    {
      "metadata": {},
      "cell_type": "markdown",
      "source": "#### Use a while loop to read the remaining lines from the file  \n  1. Assign remainging lines to a **`city_temp`** variable.  \n  2. Convert the city_temp to a list using **`.split(',')`** for each **`.readline()`** in the loop.  \n  3. Print each city & the highest monthly average temperature.   \n  4. Close mean_temps.\n\n>Tips & Hints:   \n- Use the print output of **`headings`** to determine the city_temp indexes to use.  \n- \"month ave: highest high\" for Bejing is 30.9 Celsius.\n- Convert `city_temp` to lists with `.split(',')`.\n"
    },
    {
      "metadata": {
        "trusted": true
      },
      "cell_type": "code",
      "source": "# [ ] The Weather: use while loop to print city and highest monthly average temp in celsius\nwhile city_temp:\n    city_info = city_temp.split(',') # This is the list \n    print(city_info[0] + ': ' + city_info[2])\n    city_temp = mean_temp.readline() # go to the next line at the end of the while loop\nmean_temp.close()",
      "execution_count": 14,
      "outputs": [
        {
          "output_type": "stream",
          "text": "Beijing: 30.9\nCairo: 34.7\nLondon: 23.5\nNairobi: 26.3\nNew York City: 28.9\nSydney: 26.5\nTokyo: 30.8\n",
          "name": "stdout"
        }
      ]
    },
    {
      "metadata": {
        "collapsed": true
      },
      "cell_type": "markdown",
      "source": "## Task 3: Random pi  guessing\nCreate random appearing numbers by reading digits of pi.\n*Note: Numbers only \"appear\" random.*\n\n- Download https://raw.githubusercontent.com/MicrosoftLearning/intropython/master/digits_of_pi as pi.txt."
    },
    {
      "metadata": {
        "trusted": true
      },
      "cell_type": "code",
      "source": "# [ ] use curl to download https://raw.githubusercontent.com/MicrosoftLearning/intropython/master/digits_of_pi as pi.txt\n!curl https://raw.githubusercontent.com/MicrosoftLearning/intropython/master/digits_of_pi -o pi.txt\n",
      "execution_count": 15,
      "outputs": [
        {
          "output_type": "stream",
          "text": "  % Total    % Received % Xferd  Average Speed   Time    Time     Time  Current\n                                 Dload  Upload   Total   Spent    Left  Speed\n100   303  100   303    0     0   2074      0 --:--:-- --:--:-- --:--:--  2295\n",
          "name": "stdout"
        }
      ]
    },
    {
      "metadata": {},
      "cell_type": "markdown",
      "source": "#### Set up the project files and intitial values  \n1. Open pi.tx in read mode, the file has a single line of text \"3.14....\".  \n2. Get user name as input and say \"hi\".\n3. Use the length of `name` for variable called `seed`.\n4. Use `.seek()` with the value of `seed` to set the initial pointer location reading the file.\n5. Create a variable `digit` and assign it the value of reading one character from the file.\n6. Get `guess` variable value from users `input`  - \"enter a single digit guess or \"q\" to quit\".\n7. Initialize `correct` and `wrong` counter variables to **`0`**  (zero)."
    },
    {
      "metadata": {
        "trusted": true
      },
      "cell_type": "code",
      "source": "# [ ] Set up the project files and initial values\npiFile = open('pi.txt','r')\n#piText = piFile.readline()\ncorrect = 0\nwrong = 0\nname = input(\"Identify yerself.\")\nprint(\"Hi\",name)\nseed = len(name)\npiFile.seek(seed)\ndigit = piFile.read(seed)\n#while guess.isdigit():\nguess = input(\"Enter a single digit guess or 'q' to quit.\")",
      "execution_count": 26,
      "outputs": [
        {
          "output_type": "stream",
          "name": "stdout",
          "text": "Identify yerself.Joker\nHi Joker\nEnter a single digit guess or 'q' to quit.5\n"
        }
      ]
    },
    {
      "metadata": {},
      "cell_type": "markdown",
      "source": "#### Create a while loop that tests that `guess` is a *digit* string\nThen in the loop:\n1. If `digit` ( read from pi file) is \"**.**\" read the next character for digit.\n2. Else if `digit` is \"\\n\" increment `seed` and use `seed` to set the pointer uing .`seek()`.\n3. Else see if `guess` is equal to `digit`.\n  a. If `guess` equals `digit`: print \"correct\" and increment the varible named `correct`.\n  b. If `guess` not equal `digit`: print \"incorrect\" and increment the variable named `wrong`.\n  \n**End the while loop** when user enters any non-digit(s) for `guess`, like \"q\".  \n- Print `correct` and `wrong` values within a message to the user.\n- Close the pi file."
    },
    {
      "metadata": {
        "trusted": true
      },
      "cell_type": "code",
      "source": "while guess.isdigit():\n    if digit == \".\":\n        digit = pi.read(1)\n    elif digit == \"\\n\":\n        seed += 1\n        pi.seek(seed)\n        digit = pi.read(1)\n    else:\n        if int(guess) == int(digit):\n            print(guess, \"is correct\")\n            correct += 1\n        else:\n            print(\"Sorry, number is\", digit, \"not\", guess)\n            wrong += 1\n    guess = input(\"enter another digit guess or \\\"q\\\": \")\n    digit = piFile.read(1)\n    \nprint(\"\\nThanks for playing\\nNumber Correct:\", correct, \"\\nNumber Incorrect:\", wrong)\npiFile.close()",
      "execution_count": 27,
      "outputs": [
        {
          "output_type": "stream",
          "text": "Sorry, number is 59265 not 5\nenter another digit guess or \"q\": 5\nSorry, number is 3 not 5\nenter another digit guess or \"q\": 2\nSorry, number is 5 not 2\nenter another digit guess or \"q\": 6\nSorry, number is 8 not 6\nenter another digit guess or \"q\": 8\nSorry, number is 9 not 8\nenter another digit guess or \"q\": 3\nSorry, number is 7 not 3\nenter another digit guess or \"q\": q\n\nThanks for playing\nNumber Correct: 0 \nNumber Incorrect: 6\n",
          "name": "stdout"
        }
      ]
    },
    {
      "metadata": {
        "trusted": true
      },
      "cell_type": "code",
      "source": "",
      "execution_count": null,
      "outputs": []
    },
    {
      "metadata": {
        "collapsed": true
      },
      "cell_type": "markdown",
      "source": "[Terms of use](http://go.microsoft.com/fwlink/?LinkID=206977) &nbsp; [Privacy & cookies](https://go.microsoft.com/fwlink/?LinkId=521839) &nbsp; © 2017 Microsoft"
    }
  ],
  "metadata": {
    "anaconda-cloud": {},
    "kernelspec": {
      "name": "python3",
      "display_name": "Python 3",
      "language": "python"
    },
    "language_info": {
      "mimetype": "text/x-python",
      "nbconvert_exporter": "python",
      "name": "python",
      "file_extension": ".py",
      "version": "3.5.4",
      "pygments_lexer": "ipython3",
      "codemirror_mode": {
        "version": 3,
        "name": "ipython"
      }
    }
  },
  "nbformat": 4,
  "nbformat_minor": 1
}