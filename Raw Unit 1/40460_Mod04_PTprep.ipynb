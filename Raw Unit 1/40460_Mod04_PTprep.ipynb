{
  "cells": [
    {
      "metadata": {
        "trusted": true
      },
      "cell_type": "code",
      "source": "#Dylan the Villain Lang\ndef season(timeYear):\n    if timeYear.lower() == \"winter\":\n        print(\"Very cold.\")\n    elif timeYear.lower() == \"spring\":\n        print(\"Flowers blooming.\")\n    elif timeYear.lower() == \"summer\":\n        print(\"Very hot.\")\n    elif timeYear.lower() == \"fall\":\n        print(\"Leaves falling.\")\n    else:\n        print(\"What\")\nwhile True:    \n    print(\"Type 'exit' to exit.\",\"\\n\",\"Winter\",\"\\n\",\"Spring\",\"\\n\",\"Summer\",\"\\n\",\"Fall\")\n    message = input(\"Enter the season of the year.\")\n    if message.lower() == \"exit\":\n        break\n    elif message.lower() == \"summer\" or message.lower() == \"fall\" or message.lower() == \"spring\" or message.lower() == \"winter\":\n        season(message)\n    else:\n        print(\"Invalid season. Please enter a season.\")",
      "execution_count": 3,
      "outputs": [
        {
          "output_type": "stream",
          "text": "Type 'exit' to exit. \n Winter \n Spring \n Summer \n Fall\nEnter the season of the year.spring\nFlowers blooming.\nType 'exit' to exit. \n Winter \n Spring \n Summer \n Fall\nEnter the season of the year.summer\\\nInvalid season. Please enter a season.\nType 'exit' to exit. \n Winter \n Spring \n Summer \n Fall\nEnter the season of the year.fall\nLeaves falling.\nType 'exit' to exit. \n Winter \n Spring \n Summer \n Fall\nEnter the season of the year.winter\nVery cold.\nType 'exit' to exit. \n Winter \n Spring \n Summer \n Fall\nEnter the season of the year.a\nInvalid season. Please enter a season.\nType 'exit' to exit. \n Winter \n Spring \n Summer \n Fall\nEnter the season of the year.exit\n",
          "name": "stdout"
        }
      ]
    },
    {
      "metadata": {
        "trusted": true
      },
      "cell_type": "code",
      "source": "def multiply(factor1,scaleFactor):\n    product = int(factor1)*int(scaleFactor)\n    print(product)\nnumber = input(\"Input an integer.\")\nif number.isdigit():\n    letter = input(\"Input a letter (D,Q,T)\")\n    if letter.isalpha():\n        if letter.lower() == \"d\":\n            value = 2\n            multiply(number,value)\n        elif letter.lower() == \"t\":\n            value = 3\n            multiply(number,value)\n        elif letter.lower() == \"q\":\n            value = 4\n            multiply(number,value)\n        else:\n            letter = input(\"Input a VALID letter (D,Q,T)\")\n    else:\n        letter = input(\"Input a VALID letter\")\nelse:\n    number = input(\"Input a VALID integer.\")",
      "execution_count": 4,
      "outputs": [
        {
          "output_type": "stream",
          "name": "stdout",
          "text": "Input an integer.5\nInput a letter (D,Q,T)q\n20\n"
        }
      ]
    },
    {
      "metadata": {
        "trusted": true
      },
      "cell_type": "code",
      "source": "",
      "execution_count": null,
      "outputs": []
    }
  ],
  "metadata": {
    "kernelspec": {
      "name": "python36",
      "display_name": "Python 3.6",
      "language": "python"
    },
    "language_info": {
      "mimetype": "text/x-python",
      "nbconvert_exporter": "python",
      "name": "python",
      "pygments_lexer": "ipython3",
      "version": "3.6.6",
      "file_extension": ".py",
      "codemirror_mode": {
        "version": 3,
        "name": "ipython"
      }
    }
  },
  "nbformat": 4,
  "nbformat_minor": 2
}