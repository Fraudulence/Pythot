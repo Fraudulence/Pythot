{
  "cells": [
    {
      "metadata": {
        "collapsed": true
      },
      "cell_type": "markdown",
      "source": "#  Module 3 Project  \nCourse 40460: Introduction to Python, Unit 1 \n\nThe activity is based on Modules 1 - 3 and is similar to the Jupyter Notebook for Module 3 practice, which you may have completed.\n\n> **NOTE:** This program requires the use of **`if, elif, else`**, and casting between strings and numbers. The program should use the various code syntax covered in Module 3.  \n>  \n>The program must result in print output using numeric input similar to that shown in the sample below.\n\n## Program: Cheese Order    \n\n- Set values for maximum and minimum order variables  \n- Set value for price variable\n- Get order_amount input and cast to a number  \n- Check order_amount and give message checking against  \n  - over maximum\n  - under minimum\n- Else within maximum and minimum give message with calculated price \n\n\nSample input and output:\n```\nEnter cheese order weight (numeric value): 113\n113.0 is more than currently available stock\n```\n\n```\nEnter cheese order weight (numeric value): .15\n0.15 is below minimum order amount\n```  \n\n```\nEnter cheese order weight (numeric value): 2\n2.0 costs $15.98\n```  "
    },
    {
      "metadata": {
        "trusted": true
      },
      "cell_type": "code",
      "source": "# [ ] create, call and test Cheese Order\ndef cheeseOrder(weight):\n    if float(weight) < minimum:\n        print(weight,\"is below minimum order amount.\")\n    elif float(weight) > maximum:\n        print(weight,\"is above maximum order amount.\")\n    elif float(weight) > minimum and int(weight) < maximum:\n        print(float(weight),\"lbs costs $\",float(weight)*7.99)\n    else:\n        print(\"Invalid weight.\")\nminimum = .25\nmaximum = 100\norderAmt = input(\"Enter cheese order weight (numeric value): \")\ncheeseOrder(orderAmt)",
      "execution_count": 2,
      "outputs": [
        {
          "output_type": "stream",
          "name": "stdout",
          "text": "Enter cheese order weight (numeric value): 23\n23.0 lbs costs $ 183.77\n"
        }
      ]
    },
    {
      "metadata": {},
      "cell_type": "markdown",
      "source": "[Terms of use](http://go.microsoft.com/fwlink/?LinkID=206977) &nbsp; [Privacy & cookies](https://go.microsoft.com/fwlink/?LinkId=521839) &nbsp; © 2017 Microsoft"
    }
  ],
  "metadata": {
    "anaconda-cloud": {},
    "kernelspec": {
      "name": "python3",
      "display_name": "Python 3",
      "language": "python"
    },
    "language_info": {
      "mimetype": "text/x-python",
      "nbconvert_exporter": "python",
      "name": "python",
      "pygments_lexer": "ipython3",
      "version": "3.5.4",
      "file_extension": ".py",
      "codemirror_mode": {
        "version": 3,
        "name": "ipython"
      }
    }
  },
  "nbformat": 4,
  "nbformat_minor": 1
}