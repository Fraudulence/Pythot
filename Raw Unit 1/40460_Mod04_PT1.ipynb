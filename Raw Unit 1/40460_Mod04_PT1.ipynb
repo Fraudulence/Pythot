{
  "cells": [
    {
      "metadata": {
        "trusted": true
      },
      "cell_type": "code",
      "source": "#Dylan the Villain Lang, Period 3, 10-18-19, Unit 1 Final Test\n\ndef shape(draw):\n    if draw.lower() == \"line\":\n        print(\"****************\")\n    elif draw.lower() == \"square\":\n\n        print(\"I can't draw a square\")\n    elif draw.lower() == \"rectangle\":\n        print(\"I can't draw a rectangle\")\n    else:\n        print(\"I can't draw a triangle\")\nline = 0\nrectangle = 0\ntriangle = 0\nsquare = 0\nwhile True:\n    print(\"Rectangle\",\"\\n\",\"Square\",\"\\n\",\"Line\",\"\\n\",\"Triangle\")\n    name = input(\"Input a shape name.\")\n    if name.lower() == \"exit\":\n        break\n    elif name.lower() == \"line\":\n        line = line + 1\n        shape(name)\n    elif name.lower() == \"square\":\n        square = square + 1\n        shape(name)\n    elif name.lower() == \"rectangle\":\n        rectangle = rectangle + 1\n        shape(name)\n    elif name.lower() == \"triangle\":\n        triangle = triangle + 1\n        shape(name)\nprint(\"Line counter:\",line)\nprint(\"Square counter:\",square)\nprint(\"Rectangle counter:\",rectangle)\nprint(\"Triangle counter:\",triangle)",
      "execution_count": 5,
      "outputs": [
        {
          "output_type": "stream",
          "text": "Rectangle \n Square \n Line \n Triangle\nInput a shape name.triangle\nI can't draw a triangle\nRectangle \n Square \n Line \n Triangle\nInput a shape name.line\n****************\nRectangle \n Square \n Line \n Triangle\nInput a shape name.square\nI can't draw a square\nRectangle \n Square \n Line \n Triangle\nInput a shape name.exit\nLine counter: 1\nSquare counter: 1\nRectangle counter: 0\nTriangle counter: 1\n",
          "name": "stdout"
        }
      ]
    },
    {
      "metadata": {
        "trusted": true
      },
      "cell_type": "code",
      "source": "def doMeth(num1,num2,operator):\n    if operation == \"+\":\n        result = int(num1)+int(num2)\n    elif operation == \"-\":\n        result = int(num1)-int(num2)\n    elif operation == \"+\":\n        result = int(num1)*int(num2)\n    else:\n        result = int(num1)/int(num2)\n    return result\n#int1 = input(\"Enter an integer value.\")\n#while int1.isdigit() == False:\n#    int1 = input(\"Enter an integer value.\")\n#int2 = input(\"Enter an integer value.\")\n#while int2.isdigit() == False:\n#    int2 = input(\"Enter an integer value.\")\n#operation = input(\"Enter an operation.\")\n#while operation != \"+\" or operation != \"*\" or operation != \"-\" or operation != \"/\":\n#    operation = input(\"Enter an operation.\") \n#print(int1,operation,int2,doMeth(int1,int2,operation))\nadd = 0\nsubtract = 0\nmultiply = 0\ndivide = 0\nwhile True:\n    int1 = input(\"Enter an integer value.\")\n    if int1.isdigit() == False:\n        int1 = input(\"Enter an integer value.\")\n    else:\n        int2 = input(\"Enter an integer value.\")\n        if int2.isdigit() == False:\n            int2 = input(\"Enter an integer value.\")\n        else: \n            operation = input(\"Enter an operation.\")\n            if operation != \"+\":\n                add+=1\n                print(int1,operation,int2,\"=\",doMeth(int1,int2,operation))\n            elif operation != \"-\":\n                subtract+=1\n                print(int1,operation,int2,\"=\",doMeth(int1,int2,operation))\n            elif operation != \"*\":\n                multiply+=1\n                print(int1,operation,int2,\"=\",doMeth(int1,int2,operation))\n            elif operation != \"/\":\n                divide+=1\n                print(int1,operation,int2,\"=\",doMeth(int1,int2,operation))\n            else:\n                print(\"You didn't input a valid operation.\")\n            #operation != \"*\" or operation != \"-\" or operation != \"/\":\n            break\n    #operation = input(\"Enter an operation.\")   ",
      "execution_count": 1,
      "outputs": [
        {
          "output_type": "stream",
          "name": "stdout",
          "text": "Enter an integer value.2\nEnter an integer value.4\nEnter an operation./\n2 / 4 = 0.5\n"
        }
      ]
    }
  ],
  "metadata": {
    "kernelspec": {
      "name": "python36",
      "display_name": "Python 3.6",
      "language": "python"
    },
    "language_info": {
      "mimetype": "text/x-python",
      "nbconvert_exporter": "python",
      "name": "python",
      "pygments_lexer": "ipython3",
      "version": "3.6.6",
      "file_extension": ".py",
      "codemirror_mode": {
        "version": 3,
        "name": "ipython"
      }
    }
  },
  "nbformat": 4,
  "nbformat_minor": 2
}