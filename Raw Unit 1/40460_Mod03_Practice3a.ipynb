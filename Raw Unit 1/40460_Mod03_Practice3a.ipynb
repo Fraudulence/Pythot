{
  "cells": [
    {
      "metadata": {},
      "cell_type": "markdown",
      "source": "# Lab 3a\n## Conditionals Practice\n\n-----\n\n### Student will be able to\n- **Control code flow with `if`... `else` conditional logic**  \n  - Using Boolean string methods (`.isupper(), .isalpha(), startswith()...`)  \n  - Using comparision (`>, <, >=, <=, ==, !=`)  \n  - Using Strings in comparisons  "
    },
    {
      "metadata": {},
      "cell_type": "markdown",
      "source": "## `if else`\n"
    },
    {
      "metadata": {
        "trusted": true
      },
      "cell_type": "code",
      "source": "# [ ] input avariable: age as digit and cast to int\n# if age greater than or equal to 12 then print message on age in 10 years \n# or else print message \"It is good to be\" age\nage = input(\"Enter an age\")\nif int(age) >= 12:\n    newAge = int(age)+10\n    print(\"You will be this age in 10 years: \",newAge)\nelse:\n    print(\"It's good to be\",age)\n\n",
      "execution_count": null,
      "outputs": []
    },
    {
      "metadata": {
        "trusted": true
      },
      "cell_type": "code",
      "source": "# [ ] input a number \n# - if number is NOT a digit cast to int\n# - print number \"greater than 100 is\" True/False\nnumber = input(\"Input a number.\")\nif number.isdigit() == True and int(number) > 100:\n    print(\"Greater than 100 is\",True)\nelif number.isdigit() == True and int(number) <= 100:\n    print(\"Greater than 100 is\",False)\nelse:\n    print(\"Invalid number.\")",
      "execution_count": null,
      "outputs": []
    },
    {
      "metadata": {},
      "cell_type": "markdown",
      "source": "### Guessing a letter A-Z  \n**check_guess()** takes two string arguments: **letter and guess** (both expect single alphabetical character)   \n    - If guess is not an alpha character print invalid and return False\n    - Test and print if guess is \"high\" or \"low\" and return False\n    - Test and print if guess is \"correct\" and return True"
    },
    {
      "metadata": {
        "trusted": true
      },
      "cell_type": "code",
      "source": "# [ ] create check_guess()\n# call with test\ndef checkGuess(letter,guess):\n    if letter.isalpha() == True and guess.isalpha() == True:\n        if guess > letter:\n            print(\"Your guess is too high\")\n            return False\n        elif guess < letter:\n            print(\"Your guess is too low\")\n            return False\n        elif guess == letter:\n            print(\"Your guess is correct\")\n            return True\n    else:\n        return False\n    \nletterToGuess = \"f\"\nyourGuess = input(\"What is your guess?\")\ncheckGuess(letterToGuess,yourGuess)",
      "execution_count": 2,
      "outputs": [
        {
          "output_type": "stream",
          "name": "stdout",
          "text": "What is your guess?f\nYour guess is correct\n"
        },
        {
          "output_type": "execute_result",
          "execution_count": 2,
          "data": {
            "text/plain": "True"
          },
          "metadata": {}
        }
      ]
    },
    {
      "metadata": {
        "trusted": true
      },
      "cell_type": "code",
      "source": "",
      "execution_count": null,
      "outputs": []
    },
    {
      "metadata": {
        "trusted": true
      },
      "cell_type": "code",
      "source": "# [ ] call check_guess with user input\nletterToGuess = input(\"Put in the letter to guess\")\nyourGuess = input(\"What is your guess?\")\ncheckGuess(letterToGuess,yourGuess)",
      "execution_count": 3,
      "outputs": [
        {
          "output_type": "stream",
          "name": "stdout",
          "text": "Put in the letter to guessf\nWhat is your guess?b\nYour guess is too low\n"
        },
        {
          "output_type": "execute_result",
          "execution_count": 3,
          "data": {
            "text/plain": "False"
          },
          "metadata": {}
        }
      ]
    },
    {
      "metadata": {},
      "cell_type": "markdown",
      "source": "### Letter Guess\n**Create letter_guess() function that gives the user three guesses**\n- Take a letter character argument for the answer letter\n- Get user input for letter guess  \n- Call check_guess() with answer and guess\n- End letter_guess if \n    - check_guess() equals True, return True  \n    - or after 3 failed attempts, return False"
    },
    {
      "metadata": {
        "trusted": true
      },
      "cell_type": "code",
      "source": "# [ ] create letter_guess() function, call the function to test\n#def letterGuess(letter):\n#    if checkGuess(letterAns,guess) == True:\n #       return True\n  #  elif checkGuess(letterAns,guess) == False:\n   #     i = 1\n    #    if i == 1 or i == 2:\n     #       i = i + 1\n      #      letterGuess = input(\"What letter shall you guess next?\")\n       #     checkGuess(letterAns,letterGuess)\n        #    letterGuess(letterGuess)\n    #else:\n     #   return False\n    \n        \n#letterAns = input(\"What should the letter answer be?\")\n#guess = input(\"What letter shall you guess?\")\n#i = 0\n\n#if checkGuess(letterAns,guess) == False:\n #   letterGuess(guess)\n    \ndef letterGuess(letter):\n    #if checkGuess(letterAns,guess) == True:\n    #    return True\n    #if checkGuess(letterAns,guess) == False:\n        #i = 0\n        i=+1\n        if i < 3:\n            letter = input(\"What letter shall you guess next?\")\n            if checkGuess(letterAns.lower(),letter.lower()) == False:\n                \n                    letterGuess(letter.lower())\n            #elif checkGuess(letterAns,letter) == True:\n                #return True\n        #else:\n            return False\n    \n        \nletterAns = input(\"What should the letter answer be?\")\nguess = input(\"What letter shall you guess?\")\ni=0\nif checkGuess(letterAns.lower(),guess.lower()) == False:\n    i+=1\n    letterGuess(guess.lower())",
      "execution_count": 8,
      "outputs": [
        {
          "output_type": "stream",
          "name": "stdout",
          "text": "What should the letter answer be?f\nWhat letter shall you guess?b\nYour guess is too low\nWhat letter shall you guess next?c\nYour guess is too low\nWhat letter shall you guess next?b\nYour guess is too low\nWhat letter shall you guess next?n\nYour guess is too high\nWhat letter shall you guess next?m\nYour guess is too high\nWhat letter shall you guess next?f\nYour guess is correct\n"
        }
      ]
    },
    {
      "metadata": {
        "trusted": true
      },
      "cell_type": "code",
      "source": "",
      "execution_count": null,
      "outputs": []
    },
    {
      "metadata": {
        "trusted": true
      },
      "cell_type": "code",
      "source": "",
      "execution_count": null,
      "outputs": []
    },
    {
      "metadata": {},
      "cell_type": "markdown",
      "source": "### Pet Conversation\n**Ask the user for a sentence about a pet and then reply**  \n- Get user input in variable: about_pet\n- Using a series of **if** statements, respond with appropriate conversation\n  - Check if \"dog\" is in the string about_pet (sample reply \"Ah, a dog\")\n  - Check if \"cat\" is in the string about_pet\n  - Check if 1 or more animal is in string about_pet\n- No need for **else**'s\n- Finish by thanking for the story"
    },
    {
      "metadata": {
        "trusted": true
      },
      "cell_type": "code",
      "source": "# [ ] complete pet conversation\ndef petConvo(pet):\n    if 'dog' in pet.lower() and 'cat' in pet.lower():\n        print(\"Ah, you have more than one pet.\")\n    elif 'dog' in pet:\n        print(\"Ah, a dog. They love to play fetch.\")\n    elif 'cat' in pet:\n        print(\"Ah, a cat. They hate water.\")\naboutPet = input(\"Input a pet.\")\npetConvo(aboutPet)\nprint(\"Thanks for the story!\")",
      "execution_count": 17,
      "outputs": [
        {
          "output_type": "stream",
          "name": "stdout",
          "text": "Input a pet.cat\nAh, a cat. They hate water.\nThanks for the story!\n"
        }
      ]
    },
    {
      "metadata": {
        "collapsed": true
      },
      "cell_type": "markdown",
      "source": "[Terms of use](http://go.microsoft.com/fwlink/?LinkID=206977) &nbsp; [Privacy & cookies](https://go.microsoft.com/fwlink/?LinkId=521839) &nbsp; © 2017 Microsoft"
    },
    {
      "metadata": {
        "trusted": true
      },
      "cell_type": "code",
      "source": "",
      "execution_count": null,
      "outputs": []
    }
  ],
  "metadata": {
    "anaconda-cloud": {},
    "kernelspec": {
      "name": "python3",
      "display_name": "Python 3",
      "language": "python"
    },
    "language_info": {
      "mimetype": "text/x-python",
      "nbconvert_exporter": "python",
      "name": "python",
      "file_extension": ".py",
      "version": "3.5.4",
      "pygments_lexer": "ipython3",
      "codemirror_mode": {
        "version": 3,
        "name": "ipython"
      }
    }
  },
  "nbformat": 4,
  "nbformat_minor": 1
}