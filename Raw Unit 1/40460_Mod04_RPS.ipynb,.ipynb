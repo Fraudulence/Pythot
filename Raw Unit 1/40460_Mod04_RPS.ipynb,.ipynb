{
  "cells": [
    {
      "metadata": {
        "trusted": true
      },
      "cell_type": "code",
      "source": "import random\n\n#Rock = 1, paper = 2, scissors = 3\nuser = input(\"Input rock, paper, or scissors.\")\ncomputer = random.randint(1,3)\nif int(computer) == 1:\n    choice = \"rock\"\n    if user.lower.startswith() == \"r\":\n        print(\"It's a draw.\")\n    elif user.lower.startswith() == \"s\":\n        print(\"You lose.\")\n    else:\n        print(\"You win.\")\nelif int(computer) == 2:\n    choice = \"scissors\"\n    if user.lower.startswith() == \"r\":\n        print(\"You win.\")\n    elif user.lower.startswith() == \"s\":\n        print(\"It's a draw.\")\n    else:\n        print(\"You lose.\")\nelse:\n    choice = \"paper\"\n    if user.lower.startswith() == \"r\":\n        print(\"You lose.\")\n    elif user.lower.startswith() == \"s\":\n        print(\"You win.\")\n    else:\n        print(\"It's a draw\")\nprint(\"The computer chose\",choice)\n",
      "execution_count": null,
      "outputs": []
    },
    {
      "metadata": {
        "trusted": true
      },
      "cell_type": "code",
      "source": "",
      "execution_count": null,
      "outputs": []
    }
  ],
  "metadata": {
    "kernelspec": {
      "name": "python36",
      "display_name": "Python 3.6",
      "language": "python"
    },
    "language_info": {
      "mimetype": "text/x-python",
      "nbconvert_exporter": "python",
      "name": "python",
      "pygments_lexer": "ipython3",
      "version": "3.6.6",
      "file_extension": ".py",
      "codemirror_mode": {
        "version": 3,
        "name": "ipython"
      }
    }
  },
  "nbformat": 4,
  "nbformat_minor": 2
}