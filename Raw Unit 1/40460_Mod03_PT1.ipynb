{
  "cells": [
    {
      "metadata": {
        "trusted": true
      },
      "cell_type": "code",
      "source": "#Not made by Dylan The Villain Lang, Period 4, 10/3/19, Test 3\n",
      "execution_count": null,
      "outputs": []
    },
    {
      "metadata": {
        "trusted": true
      },
      "cell_type": "code",
      "source": "#Question 2\ndef iceCream(flavor,scoops):\n    if flavor.lower() == \"chocolate\":\n        print(\"Chocolate is my favorite too. You are getting\",scoops,\"scoops.\")\n    elif flavor.lower() == \"strawberry\":\n        print(\"You are getting\",scoops,\"scoops of Strawberry. Sweet!\")\n    elif flavor.lower() == \"vanilla\":\n        print(\"Vanilla is awesome! You are getting\",scoops,\"scoops.\")\n    else:\n        print(\"You would like\",number,\"scoops of\",flavor)\ntypes = input(\"Enter the flavor\")\nnumber = input(\"Enter number of scoops\")\niceCream(types,number)",
      "execution_count": 2,
      "outputs": [
        {
          "output_type": "stream",
          "name": "stdout",
          "text": "Enter the flavorvanilla\nEnter number of scoops5\nVanilla is awesome! You are getting 5 scoops.\n"
        }
      ]
    },
    {
      "metadata": {
        "trusted": true
      },
      "cell_type": "code",
      "source": "#Question 1\n# [ ] create check_guess()\n# call with test\ndef checkGuess(guess):\n    if guess.isdigit() == True:\n        if int(guess) > numberToGuess:\n            return \"Your guess is too high\"\n        elif int(guess) < numberToGuess:\n            return \"Your guess is too low\"\n        elif int(guess) == numberToGuess:\n            return \"Your guess is correct\"\n    else:\n        return \"Not a number\"\n    \nnumberToGuess = 5\nyourGuess = input(\"What is your guess?\")\ncheckGuess(yourGuess)",
      "execution_count": 1,
      "outputs": [
        {
          "output_type": "stream",
          "name": "stdout",
          "text": "What is your guess?4\n"
        },
        {
          "output_type": "execute_result",
          "execution_count": 1,
          "data": {
            "text/plain": "'Your guess is too low'"
          },
          "metadata": {}
        }
      ]
    },
    {
      "metadata": {
        "trusted": true
      },
      "cell_type": "code",
      "source": "",
      "execution_count": null,
      "outputs": []
    },
    {
      "metadata": {
        "trusted": true
      },
      "cell_type": "code",
      "source": "",
      "execution_count": null,
      "outputs": []
    }
  ],
  "metadata": {
    "kernelspec": {
      "name": "python36",
      "display_name": "Python 3.6",
      "language": "python"
    },
    "language_info": {
      "mimetype": "text/x-python",
      "nbconvert_exporter": "python",
      "name": "python",
      "pygments_lexer": "ipython3",
      "version": "3.6.6",
      "file_extension": ".py",
      "codemirror_mode": {
        "version": 3,
        "name": "ipython"
      }
    }
  },
  "nbformat": 4,
  "nbformat_minor": 2
}