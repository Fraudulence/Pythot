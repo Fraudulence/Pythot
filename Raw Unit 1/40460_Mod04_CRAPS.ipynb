{
  "cells": [
    {
      "metadata": {
        "trusted": true
      },
      "cell_type": "code",
      "source": "#Dylan The Villain Lang\nimport random\ndef diceRoll():\n    dice1 = random.randint(1,6)\n    dice2 = random.randint(1,6)\n    total = dice1+dice2\n    return total\n\nroll = diceRoll()\nif roll == 7 or roll == 11:\n    print(\"You rolled a\",roll,\"YOU WIN!\")\nelif roll == 2 or roll == 3 or roll == 12:\n    print(\"You rolled a\",diceRoll,\"... YOU LOSE!\")\nelse:\n    print(\"You rolled a\",roll,\". Must get a\",roll,\"to win, or get a 7 to lose.\")\n    point = roll\n    while roll != 7 or roll != point:\n        roll = diceRoll()\n        if roll == 7:\n            print(\"You rolled a\",roll,\"... that is a shame.\")\n            break\n        elif roll == point:\n            print(\"You rolled a\",roll,\"! YOU GOT MATCH POINT!\")\n            break",
      "execution_count": 61,
      "outputs": [
        {
          "output_type": "stream",
          "text": "You rolled a 6 . Must get a 6 to win, or get a 7 to lose.\nYou rolled a 6 ! YOU GOT MATCH POINT!\n",
          "name": "stdout"
        }
      ]
    },
    {
      "metadata": {
        "trusted": true
      },
      "cell_type": "code",
      "source": "",
      "execution_count": null,
      "outputs": []
    }
  ],
  "metadata": {
    "kernelspec": {
      "name": "python36",
      "display_name": "Python 3.6",
      "language": "python"
    },
    "language_info": {
      "mimetype": "text/x-python",
      "nbconvert_exporter": "python",
      "name": "python",
      "pygments_lexer": "ipython3",
      "version": "3.6.6",
      "file_extension": ".py",
      "codemirror_mode": {
        "version": 3,
        "name": "ipython"
      }
    }
  },
  "nbformat": 4,
  "nbformat_minor": 2
}