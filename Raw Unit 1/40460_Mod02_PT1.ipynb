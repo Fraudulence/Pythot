{
  "cells": [
    {
      "metadata": {
        "trusted": true
      },
      "cell_type": "code",
      "source": "#Dylan The Villain Lang, Test 2, Period 4\n\n#Q1\ndef signature():\n    print(\"Created by: Dylan The Villain Lang\")\n\n#Q2\nsignature()\n\n",
      "execution_count": 7,
      "outputs": [
        {
          "output_type": "stream",
          "text": "Created by: Dylan The Villain Lang\n",
          "name": "stdout"
        }
      ]
    },
    {
      "metadata": {
        "trusted": true
      },
      "cell_type": "code",
      "source": "#Q3\ndef signature(name):\n    print(\"Created by:\",name)\n\n#Q4\nwho = input(\"Input your name.\")\nsignature(who)\n\n",
      "execution_count": 8,
      "outputs": [
        {
          "output_type": "stream",
          "name": "stdout",
          "text": "Input your name.Joker\nCreated by: Joker\n"
        }
      ]
    },
    {
      "metadata": {
        "trusted": true
      },
      "cell_type": "code",
      "source": "#Q5\ndef signature(name):\n    string = \"Created by: \" + name\n    return string\n\n#Q6\nwho = input(\"Input your name.\")\nsignature(who)\n\n",
      "execution_count": 9,
      "outputs": [
        {
          "output_type": "stream",
          "name": "stdout",
          "text": "Input your name.Crow\n"
        },
        {
          "output_type": "execute_result",
          "execution_count": 9,
          "data": {
            "text/plain": "'Created by: Crow'"
          },
          "metadata": {}
        }
      ]
    },
    {
      "metadata": {
        "trusted": true
      },
      "cell_type": "code",
      "source": "#Q7\ndef signature(name = \"Awesome programmer\"):\n    string = \"Created by: \" + name\n    return string\n\n#Q8\nsignature()\n\n",
      "execution_count": 10,
      "outputs": [
        {
          "output_type": "execute_result",
          "execution_count": 10,
          "data": {
            "text/plain": "'Created by: Awesome programmer'"
          },
          "metadata": {}
        }
      ]
    },
    {
      "metadata": {
        "trusted": true
      },
      "cell_type": "code",
      "source": "#Q7\ndef signature(name = \"Awesome programmer\"):\n    string = \"Created by: \" + name\n    return string\n\n#Q9\ninputName = input(\"Input your name.\")\nsignature(inputName)\n\n",
      "execution_count": 11,
      "outputs": [
        {
          "output_type": "stream",
          "name": "stdout",
          "text": "Input your name.Fox\n"
        },
        {
          "output_type": "execute_result",
          "execution_count": 11,
          "data": {
            "text/plain": "'Created by: Fox'"
          },
          "metadata": {}
        }
      ]
    },
    {
      "metadata": {
        "trusted": true
      },
      "cell_type": "code",
      "source": "#Q10\ndef avgTest(test1,test2,test3):\n    return (int(test1) + int(test2) + int(test3))/3 \n\n#Q11\nscore1 = input(\"Input a test score.\")\nscore2 = input(\"Input a test score.\")\nscore3 = input(\"Input a test score.\")\navgTest(score1,score2,score3)",
      "execution_count": 12,
      "outputs": [
        {
          "output_type": "stream",
          "name": "stdout",
          "text": "Input a test score.69\nInput a test score.42\nInput a test score.7\n"
        },
        {
          "output_type": "execute_result",
          "execution_count": 12,
          "data": {
            "text/plain": "39.333333333333336"
          },
          "metadata": {}
        }
      ]
    },
    {
      "metadata": {
        "trusted": true
      },
      "cell_type": "code",
      "source": "",
      "execution_count": null,
      "outputs": []
    },
    {
      "metadata": {
        "trusted": true
      },
      "cell_type": "code",
      "source": "",
      "execution_count": null,
      "outputs": []
    },
    {
      "metadata": {
        "trusted": true
      },
      "cell_type": "code",
      "source": "",
      "execution_count": null,
      "outputs": []
    }
  ],
  "metadata": {
    "kernelspec": {
      "name": "python3",
      "display_name": "Python 3",
      "language": "python"
    },
    "language_info": {
      "mimetype": "text/x-python",
      "nbconvert_exporter": "python",
      "name": "python",
      "pygments_lexer": "ipython3",
      "version": "3.5.4",
      "file_extension": ".py",
      "codemirror_mode": {
        "version": 3,
        "name": "ipython"
      }
    }
  },
  "nbformat": 4,
  "nbformat_minor": 2
}