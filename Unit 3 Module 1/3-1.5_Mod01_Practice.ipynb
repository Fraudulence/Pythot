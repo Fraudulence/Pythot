{
  "cells": [
    {
      "metadata": {},
      "cell_type": "markdown",
      "source": "# Module 1 Practice\n\n### Students will be able to:\n\n## 3-1.1 Using Python Modules\n* Import different Python modules\n* Compute mathematical expressions using functions from the math module\n* Recognize the effect of operator precedence\n* Round real numbers into the nearest integer\n* Generate (pseudo-)random integers\n* Select a random element from a list\n* Shuffle the elements of a list\n\n##  3-1.2 Working with Date and Time\n* Assign and modify a time object (variable)\n* Assign and modify a date object (variable)\n* Get the current local date\n* Assign and modify a datetime object (variable)\n* Split a datetime object into separate time and date objects\n* Combine time and date objects into datetime objects\n* Display a datetime object as a formatted string\n\n## 3-1.3 Date and Time Arithmetic\n\n* Create timedelta objects\n* Use timedelta objects to perform date arithmetic\n* Compare two datetime objects\n* Build a useful application using timedelta arithmetic\n\n## 3-1.4 File System\n\n* Identify the platform running a Python script ('Linux', 'win32', 'Darwin')\n* Get the current working directory\n* Change the current working directory\n* List the content of the current working directory\n* Create a new directory\n* Remove a directory\n* Rename files and/or directories\n* Recognize the difference between a relative path and an absolute path\n* Test if a path exists\n* Test if a specific file or directory exists"
    },
    {
      "metadata": {},
      "cell_type": "markdown",
      "source": "---\n<font size=\"6\" color=\"#B24C00\"  face=\"verdana\"> <B>Task 1</B></font>\n\n## `math` module\n"
    },
    {
      "metadata": {
        "collapsed": true,
        "trusted": false
      },
      "cell_type": "code",
      "source": "# [ ] Use the math module to display an accurate value for pi\n\n",
      "execution_count": null,
      "outputs": []
    },
    {
      "metadata": {
        "trusted": true
      },
      "cell_type": "code",
      "source": "# [ ] Write a program to:\n# 1) find all the numbers in a list that are divisible by 3\n# 2) display the square root of these numbers\n# 3) use a rounding function to display the square roots while ignoring the decimal fraction\n\nlst = [23, 45, 65, 2345, 42, 76, 37, 87, 647, 35, 37 ,39, 898, 92, 18]\nfor i in lst:\n    if i%3 == 0:\n        print(i,\"is divisible by 3.\")",
      "execution_count": 6,
      "outputs": [
        {
          "output_type": "stream",
          "text": "45 is divisible by 3.\n42 is divisible by 3.\n87 is divisible by 3.\n39 is divisible by 3.\n18 is divisible by 3.\n",
          "name": "stdout"
        }
      ]
    },
    {
      "metadata": {},
      "cell_type": "markdown",
      "source": "---\n<font size=\"6\" color=\"#B24C00\"  face=\"verdana\"> <B>Task 2</B></font>\n\n## Mathematical operators\n"
    },
    {
      "metadata": {},
      "cell_type": "markdown",
      "source": "### Coin calculators\n\nIn the following exercises, you will develop functions to count the number of coins in a certain dollar amount. You will then use these functions to write a program that can calculate the change due to a customer in coins."
    },
    {
      "metadata": {},
      "cell_type": "markdown",
      "source": "#### Quarters"
    },
    {
      "metadata": {
        "trusted": true
      },
      "cell_type": "code",
      "source": "# [ ] Complete the function `quarters_count` so it calculates and prints the number of quarters in `input_cents`\n# The function input `input_cents` should be in cents \n# The function should print the number of calculated quarters in `input_cents`\n# The function should return the number of remaining cents `remaining_cents` (which is less than 25, why?)\n# HINT: You might want to use % and // operators\n\ndef quarters_count(input_cents):\n    if input_cents % 25 == 0:\n        print(input_cents//25,'quarter\\s')\n    else:\n        print(input_cents//25,'quarter\\s and',input_cents%25,'remaining cents')\n    \n\n# test with $2\n# Output should be: 8 quarter\\s\ndollars = 2\ntotal_cents = dollars * 100\nremaining_cents = quarters_count(total_cents)\n\n# test with $5.30\n# Output should be: 21.0 quarter\\s\ndollars = 5.30\ntotal_cents = dollars * 100\nremaining_cents = quarters_count(total_cents)\n\n# test with $9.49\n# Output should be: 37.0 quarter\\s\ndollars = 9.49\ntotal_cents = dollars * 100\nremaining_cents = quarters_count(total_cents)",
      "execution_count": 19,
      "outputs": [
        {
          "output_type": "stream",
          "text": "8 quarter\\s\n21.0 quarter\\s and 5.0 remaining cents\n37.0 quarter\\s and 24.0 remaining cents\n",
          "name": "stdout"
        }
      ]
    },
    {
      "metadata": {},
      "cell_type": "markdown",
      "source": "#### Dimes"
    },
    {
      "metadata": {
        "trusted": true
      },
      "cell_type": "code",
      "source": "# [ ] Complete the function `dimes_count` so it calculates and prints the number of dimes in `input_cents`\n# The function input `input_cents` should be in cents \n# The function should print the number of calculated dimes in `input_cents`\n# The function should return the number of remaining cents `remaining_cents` (which is less than 10, why?)\n# HINT: You might want to use % and // operators\n\ndef dimes_count(input_cents):\n    if input_cents % 10 == 0:\n        print(input_cents//10,'dime\\s')\n    else:\n        print(input_cents//10,'dime\\s and',input_cents%10,'remaining cents')\n\n# test with $2\n# Output should be: 20 dime\\s\ndollars = 2\ntotal_cents = dollars * 100\nremaining_cents = dimes_count(total_cents)\n\n# test with $5.30\n# Output should be: 53.0 dime\\s\ndollars = 5.30\ntotal_cents = dollars * 100\nremaining_cents = dimes_count(total_cents)\n\n# test with $9.49\n# Output should be: 94.0 dime\\s\ndollars = 9.49\ntotal_cents = dollars * 100\nremaining_cents = dimes_count(total_cents)",
      "execution_count": 20,
      "outputs": [
        {
          "output_type": "stream",
          "text": "20 dime\\s\n53.0 dime\\s\n94.0 dime\\s and 9.0 remaining cents\n",
          "name": "stdout"
        }
      ]
    },
    {
      "metadata": {},
      "cell_type": "markdown",
      "source": "#### Nickels"
    },
    {
      "metadata": {
        "trusted": true
      },
      "cell_type": "code",
      "source": "# [ ] Complete the function `nickels_count` so it calculates and prints the number of nickels in `input_cents`\n# The function input `input_cents` should be in cents \n# The function should print the number of calculated nickels in `input_cents`\n# The function should return the number of remaining cents `remaining_cents` (which is less than 5, why?)\n# HINT: You might want to use % and // operators\n\ndef nickels_count(input_cents):\n    if input_cents % 5 == 0:\n        print(input_cents//5,'nickel\\s')\n    else:\n        print(input_cents//5,'nickle\\s and',input_cents%5,'remaining cents')\n\n# test with $2\n# Output should be: 40 nickel\\s\ndollars = 2\ntotal_cents = dollars * 100\nremaining_cents = nickels_count(total_cents)\n\n# test with $5.30\n# Output should be: 106.0 nickel\\s\ndollars = 5.30\ntotal_cents = dollars * 100\nremaining_cents = nickels_count(total_cents)\n\n# test with $9.49\n# Output should be: 189.0 nickel\\s\ndollars = 9.49\ntotal_cents = dollars * 100\nremaining_cents = nickels_count(total_cents)",
      "execution_count": 21,
      "outputs": [
        {
          "output_type": "stream",
          "text": "40 nickel\\s\n106.0 nickel\\s\n189.0 nickle\\s and 4.0 remaining cents\n",
          "name": "stdout"
        }
      ]
    },
    {
      "metadata": {},
      "cell_type": "markdown",
      "source": "#### Change calculator"
    },
    {
      "metadata": {
        "trusted": true
      },
      "cell_type": "code",
      "source": "# [ ] Complete the function `coins_due` to calculate and print the change due to a customer in coins\n#\n# The function `coins_due` has 2 inputs:\n#      - `amount_paid`: Amount paid by a customer (in cents)\n#      - `item_price`: Purchase price of an item\n#\n# The function should print:\n#      - The number of quarters due\n#      - The number of dimes due\n#      - The number of nickels due\n#      - The number of cents due\n#      \n# The function does not need to return anything\n#\n# HINT: Use the functions you developed before `quarters_count`, `dimes_count`, `nickels_count`\n\n\ndef quarters_count(input_cents):\n    print(input_cents // 25,'quarter\\s')\n    if input_cents % 25 == 0:\n        pass\n    else:\n        dimes_count(input_cents - (input_cents // 25)*25)\n\ndef dimes_count(input_cents):\n    print(input_cents//10,'dime\\s')\n    if input_cents % 10 == 0:\n        pass\n    else:\n        nickels_count(input_cents - (input_cents // 10)*10)\n\ndef nickels_count(input_cents):\n    print(input_cents // 5,'nickel\\s')\n    if input_cents < 5:\n        print('{} cents'.format(input_cents))\n\ndef coins_due(amount_paid, item_price):\n    change = amount_paid - item_price\n    if change != 0:\n        print(\"Change due:\")        \n        quarters_count(change)\n    else:\n        print('Nie ma co wydawać')\n\n# Test case:\n# amount paid = $10, item price = $5.37\n# Output should be: \n#    Change due:\n#    18.0 quarter\\s\n#    1.0 dime\\s\n#    0.0 nickel\\s\n#    3.0 cent\\s\n\namount_paid = 10 * 100 # in cents\nitem_price = 5.37 * 100 # in cents\ncoins_due(amount_paid, item_price)",
      "execution_count": 22,
      "outputs": [
        {
          "output_type": "stream",
          "text": "Change due:\n18.0 quarter\\s\n1.0 dime\\s\n0.0 nickel\\s\n3.0 cents\n",
          "name": "stdout"
        }
      ]
    },
    {
      "metadata": {},
      "cell_type": "markdown",
      "source": "---\n<font size=\"6\" color=\"#B24C00\"  face=\"verdana\"> <B>Task 3</B></font>\n\n## Random numbers\n"
    },
    {
      "metadata": {},
      "cell_type": "markdown",
      "source": "### Probability of a die roll\n\nIt is possible to mathematically predict the probability (or chance) of getting a certain die roll; however, in this exercise you will use Python to do it without math. The trick is to roll a die a large number of times and count how many times we get a certain roll. You can, then, divide the count by the large number to get the probability. For a fair 6-sided die, the chance of getting any of its faces is about 16.6%"
    },
    {
      "metadata": {
        "trusted": true
      },
      "cell_type": "code",
      "source": "# [ ] Complete the following program to display the probability of a certain die roll\n\nfrom random import randint\n\ndef die_roller():\n    return randint(1, 6)\n\nrolls = 100000\narray = []\nnums = [1,2,3,4,5,6]\nprobability = []\n\nfor i in range(x):\n    array.append(die_roller())\n\nfor i in nums:\n    probability.append(array.count(i)/rolls)\n\nprint(probability)",
      "execution_count": 29,
      "outputs": [
        {
          "output_type": "stream",
          "text": "[0.16589, 0.16694, 0.16744, 0.16552, 0.16788, 0.16633]\n",
          "name": "stdout"
        }
      ]
    },
    {
      "metadata": {},
      "cell_type": "markdown",
      "source": "### Roll till you get 11\n\nIn this exercise, you will count the number of times you need to roll a set of 2 dice till you get a roll sum of 11."
    },
    {
      "metadata": {
        "trusted": true
      },
      "cell_type": "code",
      "source": "# [ ] Complete the following program so you can count the number of times needed to get a roll sum of 11\n\nfrom random import randint\n\ndef die_roller():\n    return randint(1, 6)\n\ndef roll_sum():\n    return die_roller() + die_roller()\n\ncount = 0\nx = 0\n\nwhile x != 11:\n    count += 1\n    x = roll_sum()\n\nprint(count)",
      "execution_count": 36,
      "outputs": [
        {
          "output_type": "stream",
          "text": "37\n",
          "name": "stdout"
        }
      ]
    },
    {
      "metadata": {},
      "cell_type": "markdown",
      "source": "### Pick a candy\n\nIn this exercise, you will write a program to randomly select a candy from a box."
    },
    {
      "metadata": {
        "trusted": true
      },
      "cell_type": "code",
      "source": "# [ ] Complete the function `pick_candy` so it returns a candy from box at random\nimport random\n\ndef pick_candy():\n    box = [\"Taffy\", \"Brownie\", \"Cookie\", \"Candy bar\", \"Chocolate\", \"Lollipop\", \"Gingerbread\", \"Marshmallow\"]\n    return random.choice(box)\n\nprint(pick_candy())",
      "execution_count": 37,
      "outputs": [
        {
          "output_type": "stream",
          "text": "Lollipop\n",
          "name": "stdout"
        }
      ]
    },
    {
      "metadata": {},
      "cell_type": "markdown",
      "source": "### Shuffle a sorted list"
    },
    {
      "metadata": {
        "trusted": true
      },
      "cell_type": "code",
      "source": "# [ ] Write a program to shuffle the following sorted list\nimport random\n\nlst = [3, 5, 9, 29, 35, 59, 62, 69, 102, 394, 594, 1993]\n\nrandom.shuffle(lst)\n\nprint(lst)",
      "execution_count": 38,
      "outputs": [
        {
          "output_type": "stream",
          "text": "[9, 394, 5, 3, 69, 1993, 594, 35, 62, 102, 29, 59]\n",
          "name": "stdout"
        }
      ]
    },
    {
      "metadata": {},
      "cell_type": "markdown",
      "source": "---\n<font size=\"6\" color=\"#B24C00\"  face=\"verdana\"> <B>Task 4</B></font>\n\n## Working with date and time\n"
    },
    {
      "metadata": {},
      "cell_type": "markdown",
      "source": "### Current date and time"
    },
    {
      "metadata": {
        "trusted": true
      },
      "cell_type": "code",
      "source": "# [ ] Write a program that displays the current time as (HH:MM AM/PM) (example 02:28 PM)\nfrom datetime import datetime\ndzis = datetime.now()\nprint(dzis.strftime('%I:%M %p'))",
      "execution_count": 50,
      "outputs": [
        {
          "output_type": "stream",
          "text": "06:58 PM\n",
          "name": "stdout"
        }
      ]
    },
    {
      "metadata": {
        "trusted": true
      },
      "cell_type": "code",
      "source": "# [ ] Write a program that displays the current time as (HH:MM:SS) (example 14:28:10)\nfrom datetime import datetime\ndzis = datetime.now()\nprint(dzis.strftime('%I:%M:%S'))",
      "execution_count": 40,
      "outputs": [
        {
          "output_type": "stream",
          "text": "06:55:26\n",
          "name": "stdout"
        }
      ]
    },
    {
      "metadata": {
        "trusted": true
      },
      "cell_type": "code",
      "source": "# [ ] Write a program that displays the current date as (Friday, December 15, 2017)\nfrom datetime import date\ndzis = date.today()\nprint(dzis.strftime('%A, %B %m, %Y'))",
      "execution_count": 41,
      "outputs": [
        {
          "output_type": "stream",
          "text": "Friday, December 12, 2019\n",
          "name": "stdout"
        }
      ]
    },
    {
      "metadata": {},
      "cell_type": "markdown",
      "source": "### American VS European date format\n\nIn the United States, the date is formatted as Month/Day/Year; whereas, in Europe the date is formatted as Day/Month/Year. In this exercise, you will write two functions that will display a `datetime` object in the American or European format."
    },
    {
      "metadata": {
        "trusted": true
      },
      "cell_type": "code",
      "source": "# [ ] Complete the functions `american_format(d)` and `european_format(d)` to display the datetime object d in the proper format\n\nfrom datetime import datetime\n\ndef american_format(d):\n    return d.strftime('%m/%d/%Y')\n    \ndef european_format(d):\n    return d.strftime('%d/%m/%Y')\n    \n# test\nd = datetime(month = 2, year = 2012, day = 13)\n\nprint(\"American format:\", american_format(d))\nprint(\"European format:\", european_format(d))\n",
      "execution_count": 42,
      "outputs": [
        {
          "output_type": "stream",
          "text": "American format: 02/13/2012\nEuropean format: 13/02/2012\n",
          "name": "stdout"
        }
      ]
    },
    {
      "metadata": {},
      "cell_type": "markdown",
      "source": "### Birthday days"
    },
    {
      "metadata": {
        "trusted": true
      },
      "cell_type": "code",
      "source": "# [ ] Write a program to display a list of all your birthdays from the day you were born till 2025.\n# You should also show the weekdays so you can see which of them was (or will be) on a weekend\nfrom datetime import date\nbirth = date(year=2000, month=5, day=28)\n\nwhile birth.year <= 2025:\n    if birth.weekday() >=5:\n        print(birth, '- Weekend!')\n    else:\n        print(birth)\n    birth = birth.replace(year=birth.year+1)",
      "execution_count": 18,
      "outputs": [
        {
          "output_type": "stream",
          "text": "2000-05-28 - Weekend!\n2001-05-28\n2002-05-28\n2003-05-28\n2004-05-28\n2005-05-28 - Weekend!\n2006-05-28 - Weekend!\n2007-05-28\n2008-05-28\n2009-05-28\n2010-05-28\n2011-05-28 - Weekend!\n2012-05-28\n2013-05-28\n2014-05-28\n2015-05-28\n2016-05-28 - Weekend!\n2017-05-28 - Weekend!\n2018-05-28\n2019-05-28\n2020-05-28\n2021-05-28\n2022-05-28 - Weekend!\n2023-05-28 - Weekend!\n2024-05-28\n2025-05-28\n",
          "name": "stdout"
        }
      ]
    },
    {
      "metadata": {},
      "cell_type": "markdown",
      "source": "---\n<font size=\"6\" color=\"#B24C00\"  face=\"verdana\"> <B>Task 5</B></font>\n\n## Date and Time Arithmetic\n"
    },
    {
      "metadata": {},
      "cell_type": "markdown",
      "source": "### `timedelta`"
    },
    {
      "metadata": {
        "trusted": true
      },
      "cell_type": "code",
      "source": "# Write a program to find out how many minutes are in a 4-week period\n# Hint: Use a timedelta object and the total_seconds() method\nfrom datetime import timedelta\n\ndt = timedelta(weeks=4)\nprint(dt.total_seconds()/60)",
      "execution_count": 44,
      "outputs": [
        {
          "output_type": "stream",
          "text": "40320.0\n",
          "name": "stdout"
        }
      ]
    },
    {
      "metadata": {},
      "cell_type": "markdown",
      "source": "### Date arithmetic"
    },
    {
      "metadata": {
        "trusted": true
      },
      "cell_type": "code",
      "source": "# [ ] Write a program to compute the number of days remaining in the current year\nimport datetime\ndt = date(year=2018, month=12, day=31)\ndt_now = date.today()\ndiff = dt - dt_now\nprint(diff.days)",
      "execution_count": 54,
      "outputs": [
        {
          "output_type": "stream",
          "text": "-340\n",
          "name": "stdout"
        }
      ]
    },
    {
      "metadata": {},
      "cell_type": "markdown",
      "source": "### Comparing `datetime` objects"
    },
    {
      "metadata": {
        "trusted": true
      },
      "cell_type": "code",
      "source": "# [ ] Complete the program below to find out if July 4th is within 10 days of today's date,\n# if it is, find out if has passed or not\n\nfrom datetime import datetime\n\n# get today's date\ntodays_date = datetime.today()\n\n# 4th of July of current year\njuly_4th = datetime(month = 7, day = 4, year = todays_date.year)\n\ndays_difference = todays_date - july_4th\n\nif abs(days_difference.days) <= 10:\n    print('4\\'th of July was near todays\\'s date')\nelif days_difference.days == 0:\n    print('It is today!')\nelse:\n    print('Not even close!')",
      "execution_count": 55,
      "outputs": [
        {
          "output_type": "stream",
          "text": "Not even close!\n",
          "name": "stdout"
        }
      ]
    },
    {
      "metadata": {},
      "cell_type": "markdown",
      "source": "---\n<font size=\"6\" color=\"#B24C00\"  face=\"verdana\"> <B>Task 6</B></font>\n\n## File System\n"
    },
    {
      "metadata": {},
      "cell_type": "markdown",
      "source": "### Directory operations"
    },
    {
      "metadata": {
        "trusted": true
      },
      "cell_type": "code",
      "source": "# [ ] Complete the following program to:\n# 1) navigate to `parent_dir` directory (if not already in it)\n# 2) create a new directory called `practice_1`\n# 3) change the working directory to `practice_1`\n# 4) display the current working directory to verify you are in the correct location\n# 5) create a new directory called `practice_2`\n# 6) verify that `practice_2` was created by listing the content of the current directory\n# 7) rename `practice_2` as `sub_practice_2`\n# 8) verify the name was successful changed by listing the content of the current directory\n# 9) remove `sub_practice_2`\n# 10) change working directory to the parent directory using `..`\n# 11) remove `practice_1`\n# 12) verify your current working directory and display its content\n\nimport os, os.path\n\n# 1) navigate to `parent_dir` directory (if not already in it)\nif('parent_dir' not in os.getcwd()):\n    # Changing the current working directory to parent dir\n    print(\"Changing working dir to parent_dir\")\n    os.chdir('parent_dir')\n    print(\"Current working directory:\", os.getcwd())\n\n# 2) create a new directory called `practice_1`\nos.mkdir('practice_1')\n\n# 3) change the working directory to `practice_1`\nos.chdir('practice_1')\n\n\n# 4) display the current working directory to verify you are in the correct location\nprint(os.getcwd())\n\n# 5) create a new directory called `practice_2`\nos.mkdir('practice_2')\n\n\n# 6) verify that `practice_2` was created by listing the content of the current directory\nprint(os.listdir())\n\n# 7) rename `practice_2` as `sub_practice_2`\nos.rename('practice_2', 'sub_practice_2')\n\n\n# 8) verify the name was successful changed by listing the content of the current directory\nprint(os.listdir())\n\n# 9) remove `sub_practice_2`\nos.rmdir('sub_practice_2')\n\n\n# 10) change working directory to the parent directory using `..`\nos.chdir('..')\n\n\n# 11) remove `practice_1`\nos.rmdir('practice_1')\n\n\n# 12) verify your current working directory and display its content\nprint(\"Current working directory:\", os.getcwd())\nprint(os.listdir())",
      "execution_count": 58,
      "outputs": [
        {
          "output_type": "stream",
          "text": "/home/nbuser/library/parent_dir/randoms_directory/practice_1\n['practice_2']\n['sub_practice_2']\nCurrent working directory: /home/nbuser/library/parent_dir/randoms_directory\n['12_06_2019_33334', '12_06_2019_31376', '12_06_2019_26803', '12_06_2019_26995', '12_06_2019_23857', '12_06_2019_49498', '12_06_2019_31657']\n",
          "name": "stdout"
        }
      ]
    },
    {
      "metadata": {},
      "cell_type": "markdown",
      "source": "### Path operations"
    },
    {
      "metadata": {
        "trusted": true
      },
      "cell_type": "code",
      "source": "# [ ] Write a program that prompts the user for a file or directory name\n# if it exists in the current working directory, it prints whether it is a file or directory\nimport os, os.path\n\ninput_u = os.getcwd() + '/' + input('File or directory name: ')\nprint(os.listdir())\nprint(input_u)\n\nif os.path.isdir(input_u):\n    print('It is a DIR')\nelif os.path.isfile(input_u):\n    print('It is a FILE')\nelse:\n    print('Dont exist, nor file nor dir')",
      "execution_count": 56,
      "outputs": [
        {
          "output_type": "stream",
          "name": "stdout",
          "text": "File or directory name: joker\n['12_06_2019_33334', '12_06_2019_31376', '12_06_2019_26803', '12_06_2019_26995', '12_06_2019_23857', '12_06_2019_49498', '12_06_2019_31657']\n/home/nbuser/library/parent_dir/randoms_directory/joker\nDont exist, nor file nor dir\n"
        }
      ]
    },
    {
      "metadata": {},
      "cell_type": "markdown",
      "source": "---\n<font size=\"6\" color=\"#B24C00\"  face=\"verdana\"> <B>Module 1 Project</B></font>\n\n## Directory creator\n\n"
    },
    {
      "metadata": {
        "trusted": true
      },
      "cell_type": "code",
      "source": "# [ ] The following program is designed to generate a number of directories.\n# The directory names follow the pattern (MM_DD_YY_randnum), where:\n#     - MM_DD_YY: is today's date as month/day/year\n#     - randnum: is a random integer between 10000 and 50000\n# For example, if today is May 12th, 2016, then the following would be valid names: 05_12_16_11050 or 05_12_16_15001\n#\n# For this task, you should complete the functions:\n# 1) `directory_count()`\n# 2) `name_generator()`\n# 3) `directory_creator(name)`\n# 4) `create()`\n#\n# HINT: You should import all necessary modules\n\nimport os\nfrom datetime import datetime\nimport math\nimport random\n\ndef directory_count():\n    \"\"\"\n    Calculate the number of directories to be generated.\n    \n    I) Get the current minute using appropriate functionality from `datetime`\n    II) Take the square root of ..the current minute + 15\n    III) Round the square root to an integer\n    VI) return the rounded number as the number of directories to be created\n    \n    args: \n          NONE\n    \n    returns: \n         `dir_count`: number of directories to be created \n    \"\"\"\n    #TODO\n    return int(math.sqrt(datetime.today().minute + 15))\n\ndef name_generator():\n    \"\"\"\n    Generate a single directory name using the pattern (MM_DD_YY_randnum).\n    \n    args:\n         NONE\n    \n    returns:\n         `dir_name`: string containing a valid directory name\n    \"\"\"\n    #TODO\n    dt = datetime.today()\n    radnum = random.randint(10000, 50000)\n    return dt.strftime('%m_%d_%Y_') + str(radnum)\n\ndef directory_creator(name):\n    \"\"\"\n    Create a single directory called `name` in the current working directory.\n    \n    args:\n         name: directory to be created\n    \n    returns:\n         NONE\n    \"\"\"\n    #TODO\n    os.mkdir(name)\n\ndef create():\n    \"\"\"\n    Generate the necessary directories.\n    \n    Use `directory_count` to calculate the number of directories, then use `directory_creator` and `name_generator`.\n\n    args:\n         NONE\n    \n    returns:\n         NONE\n    \"\"\"\n    #TODO\n    dir_count = directory_count()\n    for i in range(1, dir_count):\n        directory_creator(name_generator())\n        \n\n# Change working directory to `parent_dir` or `create`\nif(\"parent_dir\" not in os.getcwd()):\n    if os.path.exists(\"./parent_dir\"):\n        print(\"Changing working dir to parent_dir\")\n        os.chdir(\"parent_dir\")\n    else:\n        os.mkdir(os.getcwd() + \"./parent_dir\")\n        print(\"Changing working dir to parent_dir\")\n        os.chdir(\"parent_dir\")\nelse:\n    # so the code can run multiple times \n    # while directory not ending with 'parent_dir' move up the path ..\\\n    while \"parent_dir\" not in os.getcwd()[-11:]:\n        # move up in dir to find 'parent_dir'\n        os.chdir(\"..\")\n        print(\"moved up\", os.getcwd())\n        \n# print the current working directory (should be \"parent_dir\")\nprint(\"The current working directory is:\", os.getcwd())\n\n# check for randoms_directory if not present, create new\nif os.path.exists(os.getcwd() + \"/randoms_directory\") != True:\n    os.mkdir(\"randoms_directory\")\n\n# change the current working directory to randoms_directory\nprint(\"Changing working dir to randoms_directory\")\nos.chdir(\"randoms_directory\")\n# print the current working directory (should be \"randoms_dir\")\nprint(\"The current working directory is:\", os.getcwd())\n\n# create directories inside \"randoms_directory\"\ncreate()\n\n# list the content of the current directory\nprint(\"Current directory content:\", os.listdir())",
      "execution_count": 59,
      "outputs": [
        {
          "output_type": "stream",
          "text": "moved up /home/nbuser/library/parent_dir\nThe current working directory is: /home/nbuser/library/parent_dir\nChanging working dir to randoms_directory\nThe current working directory is: /home/nbuser/library/parent_dir/randoms_directory\nCurrent directory content: ['12_06_2019_11536', '12_06_2019_33334', '12_06_2019_48298', '12_06_2019_31376', '12_06_2019_26803', '12_06_2019_26995', '12_06_2019_23857', '12_06_2019_49498', '12_06_2019_11640', '12_06_2019_31657']\n",
          "name": "stdout"
        }
      ]
    }
  ],
  "metadata": {
    "kernelspec": {
      "name": "python36",
      "display_name": "Python 3.6",
      "language": "python"
    },
    "language_info": {
      "mimetype": "text/x-python",
      "nbconvert_exporter": "python",
      "name": "python",
      "pygments_lexer": "ipython3",
      "version": "3.6.6",
      "file_extension": ".py",
      "codemirror_mode": {
        "version": 3,
        "name": "ipython"
      }
    }
  },
  "nbformat": 4,
  "nbformat_minor": 2
}