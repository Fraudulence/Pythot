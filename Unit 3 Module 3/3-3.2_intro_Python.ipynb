{
  "cells": [
    {
      "metadata": {},
      "cell_type": "markdown",
      "source": "# Section 3.2: Files\n* os.remove, os.unlink\n* os.path.exists, os.path.isdir, os.path.isfile\n* `with`\n\n### Students will be able to:\n* Delete files\n* Check that a file exists\n* Check if a path is a file or directory\n* Handle file exceptions\n* Use `with` statement close an open file after catching an exception"
    },
    {
      "metadata": {},
      "cell_type": "markdown",
      "source": "---\n<font size=\"6\" color=\"#00A0B2\"  face=\"verdana\"> <B>Concepts</B></font>  \n\n## Deleting Files\n[![view video](https://iajupyterprodblobs.blob.core.windows.net/imagecontainer/common/play_video.png)](http://edxinteractivepage.blob.core.windows.net/edxpages/f7cff1a7-5601-48a1-95a6-fd1fdfabd20e.html?details=[{\"src\":\"http://jupyternootbookwams.streaming.mediaservices.windows.net/1d72623a-7acc-41d3-a6cd-24ccad5f8524/DEV330x-3_2a_delete_files.ism/manifest\",\"type\":\"application/vnd.ms-sstr+xml\"}],[{\"src\":\"http://jupyternootbookwams.streaming.mediaservices.windows.net/20ac0aa5-5767-44b6-9291-f3d8beb0877f/DEV330x-3_2a_delete_files.vtt\",\"srclang\":\"en\",\"kind\":\"subtitles\",\"label\":\"english\"}])\n\nIn module 1 you explored the `os` module and used some of its methods to interact with the file system. You changed the working directory, listed the content of a path, created new directories, removed directories, and renamed files and directories. In addition to these utilities, Python's `os` module allows you to remove specific files using the `os.remove(path)` or `os.unlink(path)` functions. Both functions are semantically identical; however, their functionality slightly differs depending on the platform running your program. For now, we will consider them equivalent and use `os.remove(path)` to delete a file."
    },
    {
      "metadata": {},
      "cell_type": "markdown",
      "source": "---\n<font size=\"6\" color=\"#00A0B2\"  face=\"verdana\"> <B>Examples</B></font>\n\n### Removing a file"
    },
    {
      "metadata": {
        "trusted": true
      },
      "cell_type": "code",
      "source": "import os\n\n# Create a file to be deleted\nfile_path = \"parent_dir/tmp_file_to_be_deleted.txt\"\nf = open(file_path, 'w')\nf.close()\n\n# list the content of parent_dir\nprint('Content of \"parent_dir\" after creating the file:')\nprint(os.listdir(\"parent_dir\"))\nprint()\n\n# delete the file\nos.remove(file_path)\n\n# list the content of parent_dir\nprint('Content of \"parent_dir\" after removing the file')\nprint(os.listdir(\"parent_dir\"))\n",
      "execution_count": 4,
      "outputs": [
        {
          "output_type": "stream",
          "text": "Content of \"parent_dir\" after creating the file:\n['files_exercises', 'child1_dir', 'text_file.txt', 'tmp_file_to_be_deleted.txt', 'parent_leaf.txt', 'randoms_directory', 'child2_dir']\n\nContent of \"parent_dir\" after removing the file\n['files_exercises', 'child1_dir', 'text_file.txt', 'parent_leaf.txt', 'randoms_directory', 'child2_dir']\n",
          "name": "stdout"
        }
      ]
    },
    {
      "metadata": {},
      "cell_type": "markdown",
      "source": "---\n<font size=\"6\" color=\"#B24C00\"  face=\"verdana\"> <B>Task 1</B></font>"
    },
    {
      "metadata": {},
      "cell_type": "markdown",
      "source": "## Setting Up the Environment (no coding required)\nThis code segment creates a directory named `files_exercises` that contains five subdirectories named `dir_1`, `dir_2`, ...`dir_5` and 100 text files named sequentially from 0 to 99. The first line of each text file is a random number from 1000 to 9999."
    },
    {
      "metadata": {
        "trusted": true
      },
      "cell_type": "code",
      "source": "# Do not modify or add anything to this code segment.\n# This code segment must be run before attempting any of the tasks in this lesson.\n# It prepares the directories and files necessary to complete the tasks.\n\nimport os, random, shutil\n\n# Navigate to `parent_dir` directory (if not already in it)\ncurrent_path = os.getcwd()\nif (\"parent_dir\" in current_path):\n    nb_path = current_path.split(\"parent_dir\")[0]\nelse:\n    nb_path = current_path\nprint(\"Changing working dir to parent_dir\")\nos.chdir(os.path.join(nb_path,'parent_dir'))\nprint(\"Current working directory:\", os.getcwd())\n\n# Remove the `files_exercises` directory (if it exists)\nif('files_exercises' in os.listdir()):\n    print('Removing \"files_exercises\"')\n    shutil.rmtree('files_exercises')\n    \n# Create a new directory called `files_exercises`\nprint('Making \"files_exercises\"')\nos.mkdir('files_exercises')\n\n# Change the working directory to `files_exercises`\nprint('Changing working directory to \"files_exercises\"')\nos.chdir('files_exercises')\n\n# Display the current working directory to verify you are in the correct location\nprint(\"Current working directory:\", os.getcwd())\n\n# Create 100 text files, the first line of each file is a random number in the range [1000, 9999]\nprint(\"Creating 100 text files\")\nrandom.seed(25000) # to get the same random numbers every time the setup runs\nfor i in range(100):\n    file_name = str(i) + \".txt\"\n    f = open(file_name, 'w')\n    f.write(str(random.randint(1000, 9999)))\n    f.close()\n\n# Create 5 directories\nprint(\"Creating 5 directories\")\nfor i in range(1, 6):\n    os.mkdir(\"dir_\"+str(i))\n\nprint(\"Environment setup completed!\")",
      "execution_count": 5,
      "outputs": [
        {
          "output_type": "stream",
          "text": "Changing working dir to parent_dir\nCurrent working directory: /home/nbuser/library/parent_dir\nRemoving \"files_exercises\"\nMaking \"files_exercises\"\nChanging working directory to \"files_exercises\"\nCurrent working directory: /home/nbuser/library/parent_dir/files_exercises\nCreating 100 text files\nCreating 5 directories\nEnvironment setup completed!\n",
          "name": "stdout"
        }
      ]
    },
    {
      "metadata": {},
      "cell_type": "markdown",
      "source": "## Deleting Files"
    },
    {
      "metadata": {
        "trusted": true
      },
      "cell_type": "code",
      "source": "# [ ] Complete the following program to delete the first 10 files inside `files_exercises` (0.txt, 1.txt ... 9.txt)\n# Make sure the to run the environment setup code before running your own program.\n\nimport os\n\nif ('files_exercises' not in os.getcwd()):\n    print(\"STOP!!!! Run the environment setup code!\")\n\n# list the content of `files_exercises`\nprint('Content of \"files_exercises\" before removing the files')\nprint(os.listdir()) \n\n#TODO: delete the first 10 files\n    \n# list the content of `files_exercises`\nprint('Content of \"files_exercises\" after removing the files')\nprint(os.listdir()) \n\n",
      "execution_count": 6,
      "outputs": [
        {
          "output_type": "stream",
          "text": "Content of \"files_exercises\" before removing the files\n['28.txt', '14.txt', 'dir_2', '6.txt', '71.txt', '42.txt', '51.txt', '23.txt', '40.txt', '77.txt', '5.txt', '96.txt', '47.txt', '38.txt', '32.txt', '65.txt', '93.txt', '37.txt', '61.txt', '34.txt', '4.txt', '26.txt', '13.txt', '10.txt', '9.txt', '82.txt', '86.txt', '16.txt', '41.txt', '57.txt', '8.txt', '36.txt', '17.txt', '24.txt', '92.txt', '2.txt', '48.txt', 'dir_3', 'dir_1', '67.txt', '21.txt', '99.txt', '20.txt', '72.txt', '56.txt', '75.txt', '66.txt', '53.txt', '74.txt', '22.txt', '90.txt', '88.txt', '0.txt', '80.txt', '54.txt', '55.txt', '15.txt', '3.txt', '63.txt', '45.txt', '87.txt', '1.txt', '49.txt', 'dir_4', 'dir_5', '84.txt', '27.txt', '78.txt', '73.txt', '50.txt', '58.txt', '33.txt', '89.txt', '52.txt', '29.txt', '11.txt', '97.txt', '7.txt', '81.txt', '30.txt', '69.txt', '68.txt', '31.txt', '39.txt', '94.txt', '95.txt', '59.txt', '35.txt', '91.txt', '62.txt', '64.txt', '44.txt', '98.txt', '70.txt', '12.txt', '83.txt', '25.txt', '85.txt', '46.txt', '60.txt', '76.txt', '18.txt', '19.txt', '79.txt', '43.txt']\nContent of \"files_exercises\" after removing the files\n['28.txt', '14.txt', 'dir_2', '6.txt', '71.txt', '42.txt', '51.txt', '23.txt', '40.txt', '77.txt', '5.txt', '96.txt', '47.txt', '38.txt', '32.txt', '65.txt', '93.txt', '37.txt', '61.txt', '34.txt', '4.txt', '26.txt', '13.txt', '10.txt', '9.txt', '82.txt', '86.txt', '16.txt', '41.txt', '57.txt', '8.txt', '36.txt', '17.txt', '24.txt', '92.txt', '2.txt', '48.txt', 'dir_3', 'dir_1', '67.txt', '21.txt', '99.txt', '20.txt', '72.txt', '56.txt', '75.txt', '66.txt', '53.txt', '74.txt', '22.txt', '90.txt', '88.txt', '0.txt', '80.txt', '54.txt', '55.txt', '15.txt', '3.txt', '63.txt', '45.txt', '87.txt', '1.txt', '49.txt', 'dir_4', 'dir_5', '84.txt', '27.txt', '78.txt', '73.txt', '50.txt', '58.txt', '33.txt', '89.txt', '52.txt', '29.txt', '11.txt', '97.txt', '7.txt', '81.txt', '30.txt', '69.txt', '68.txt', '31.txt', '39.txt', '94.txt', '95.txt', '59.txt', '35.txt', '91.txt', '62.txt', '64.txt', '44.txt', '98.txt', '70.txt', '12.txt', '83.txt', '25.txt', '85.txt', '46.txt', '60.txt', '76.txt', '18.txt', '19.txt', '79.txt', '43.txt']\n",
          "name": "stdout"
        }
      ]
    },
    {
      "metadata": {},
      "cell_type": "markdown",
      "source": "---\n<font size=\"6\" color=\"#00A0B2\"  face=\"verdana\"> <B>Concepts</B></font>  \n\n\n## Checking File Existence\n[![view video](https://iajupyterprodblobs.blob.core.windows.net/imagecontainer/common/play_video.png)](http://edxinteractivepage.blob.core.windows.net/edxpages/f7cff1a7-5601-48a1-95a6-fd1fdfabd20e.html?details=[{\"src\":\"http://jupyternootbookwams.streaming.mediaservices.windows.net/027dbcb7-2896-4c4e-a08e-2049e8f1293a/DEV330x-3_2b_check_file_existenc.ism/manifest\",\"type\":\"application/vnd.ms-sstr+xml\"}],[{\"src\":\"http://jupyternootbookwams.streaming.mediaservices.windows.net/f75d3d91-4e4d-489b-9406-f81e5e9a05db/DEV330x-3_2b_check_file_existence.vtt\",\"srclang\":\"en\",\"kind\":\"subtitles\",\"label\":\"english\"}])\n\nIn the previous section, you deleted a file assuming that it exists and assuming it is actually a file. In reality, these assumptions are not always true and you should consider them when writing programs that deal with files.\n\n#### Removing a file that doesn't exist\nRaises a `FileNotFoundError` exception. \n\n```python\n# Removing a file that does not exist\nfile_path = \"parent_dir/fictitious_file.txt\"\nos.remove(file_path)\n\n-------------------------------------------------------------------------\nFileNotFoundError                       Traceback (most recent call last)\n<ipython-input-8-9e62af9a8388> in <module>()\n      1 # Removing a file that does not exist\n      2 file_path = \"parent_dir/fictitious_file.txt\"\n----> 3 os.remove(file_path)\n\nFileNotFoundError: [Errno 2] No such file or directory: 'parent_dir/fictitious_file.txt'\n```\n\n#### Removing a directory using `os.remove`\nWhen a directory is passed as an argument for `os.remove` a `PermissionError` is raised.\n\n```python\n# Passing a directory path to os.remove\ndir_path = \"parent_dir\"\nos.remove(dir_path)\n\n-------------------------------------------------------------------------\nPermissionError                         Traceback (most recent call last)\n<ipython-input-9-698c1518adf7> in <module>()\n      1 # Passing a directory path to os.remove\n      2 dir_path = \"parent_dir\"\n----> 3 os.remove(dir_path)\n\nPermissionError: [Errno 1] Operation not permitted: 'parent_dir'\n```\n\n### Simple solution\nIn module 1 you were able to check if a path exists using `os.path.exists(path)`; in addition, you were able to figure out if a `path` is a file or directory using `os.path.isfile` and `os.path.isdir` respectively. You can use these functions to test a path and avoid the exceptions above."
    },
    {
      "metadata": {},
      "cell_type": "markdown",
      "source": "---\n<font size=\"6\" color=\"#00A0B2\"  face=\"verdana\"> <B>Examples</B></font>\n"
    },
    {
      "metadata": {
        "trusted": true
      },
      "cell_type": "code",
      "source": "import os.path\n\nfile_path = \"parent_dir/fictitious_file.txt\"\n\n# Removing a file\n\n# Check if the path exists\nif (os.path.exists(file_path)):\n    if (os.path.isfile(file_path)):\n        os.remove(file_path)\n    else:\n        print(\"Cannot remove a directory\")\nelse:\n    print(\"path does not exist\")",
      "execution_count": 4,
      "outputs": [
        {
          "output_type": "stream",
          "text": "path does not exist\n",
          "name": "stdout"
        }
      ]
    },
    {
      "metadata": {
        "trusted": true
      },
      "cell_type": "code",
      "source": "import os.path\n\nfile_path = \"parent_dir\"\n\n# Removing a file\n\n# Check if the path exists\nif (os.path.exists(file_path)):\n    if (os.path.isfile(file_path)):\n        os.remove(file_path)\n    else:\n        print(\"Cannot remove a directory\")\nelse:\n    print(\"path does not exist\")",
      "execution_count": 5,
      "outputs": [
        {
          "output_type": "stream",
          "text": "path does not exist\n",
          "name": "stdout"
        }
      ]
    },
    {
      "metadata": {},
      "cell_type": "markdown",
      "source": "---\n<font size=\"6\" color=\"#B24C00\"  face=\"verdana\"> <B>Task 2</B></font>\n\n## Checking File Existence\n"
    },
    {
      "metadata": {
        "trusted": true
      },
      "cell_type": "code",
      "source": "# [ ] Write a program to delete all the even numbered files inside `files_exercises`\n# Make sure the to run the environment setup code before running your own program.\n\nimport os\n\nif ('files_exercises' not in os.getcwd()):\n    print(\"STOP!!!! Run the environment setup code!\")\n    \n#TODO: Your code goes here\nfor file in range(1,100):\n    if file%2==0:\n        filePath = str(file)+\".txt\"\n        if os.path.exists(filePath):\n            os.remove(filePath)\n            print(filePath,\"has been removed.\")\nos.listdir()",
      "execution_count": 7,
      "outputs": [
        {
          "output_type": "stream",
          "text": "2.txt has been removed.\n4.txt has been removed.\n6.txt has been removed.\n8.txt has been removed.\n10.txt has been removed.\n12.txt has been removed.\n14.txt has been removed.\n16.txt has been removed.\n18.txt has been removed.\n20.txt has been removed.\n22.txt has been removed.\n24.txt has been removed.\n26.txt has been removed.\n28.txt has been removed.\n30.txt has been removed.\n32.txt has been removed.\n34.txt has been removed.\n36.txt has been removed.\n38.txt has been removed.\n40.txt has been removed.\n42.txt has been removed.\n44.txt has been removed.\n46.txt has been removed.\n48.txt has been removed.\n50.txt has been removed.\n52.txt has been removed.\n54.txt has been removed.\n56.txt has been removed.\n58.txt has been removed.\n60.txt has been removed.\n62.txt has been removed.\n64.txt has been removed.\n66.txt has been removed.\n68.txt has been removed.\n70.txt has been removed.\n72.txt has been removed.\n74.txt has been removed.\n76.txt has been removed.\n78.txt has been removed.\n80.txt has been removed.\n82.txt has been removed.\n84.txt has been removed.\n86.txt has been removed.\n88.txt has been removed.\n90.txt has been removed.\n92.txt has been removed.\n94.txt has been removed.\n96.txt has been removed.\n98.txt has been removed.\n",
          "name": "stdout"
        },
        {
          "output_type": "execute_result",
          "execution_count": 7,
          "data": {
            "text/plain": "['dir_2',\n '71.txt',\n '51.txt',\n '23.txt',\n '77.txt',\n '5.txt',\n '47.txt',\n '65.txt',\n '93.txt',\n '37.txt',\n '61.txt',\n '13.txt',\n '9.txt',\n '41.txt',\n '57.txt',\n '17.txt',\n 'dir_3',\n 'dir_1',\n '67.txt',\n '21.txt',\n '99.txt',\n '75.txt',\n '53.txt',\n '0.txt',\n '55.txt',\n '15.txt',\n '3.txt',\n '63.txt',\n '45.txt',\n '87.txt',\n '1.txt',\n '49.txt',\n 'dir_4',\n 'dir_5',\n '27.txt',\n '73.txt',\n '33.txt',\n '89.txt',\n '29.txt',\n '11.txt',\n '97.txt',\n '7.txt',\n '81.txt',\n '69.txt',\n '31.txt',\n '39.txt',\n '95.txt',\n '59.txt',\n '35.txt',\n '91.txt',\n '83.txt',\n '25.txt',\n '85.txt',\n '19.txt',\n '79.txt',\n '43.txt']"
          },
          "metadata": {}
        }
      ]
    },
    {
      "metadata": {
        "trusted": true
      },
      "cell_type": "code",
      "source": "# [ ] Write a program to delete all the directories inside `files_exercises`\n# Make sure the to run the environment setup code before running your own program.\n\nimport os\n\nif ('files_exercises' not in os.getcwd()):\n    print(\"STOP!!!! Run the environment setup code!\")\n\n#TODO: Your code goes here\nfor item in os.listdir():\n    if os.path.isdir(item):\n        os.rmdir(item)\n        print(item,\"has been removed.\")\nos.listdir()\n",
      "execution_count": 8,
      "outputs": [
        {
          "output_type": "stream",
          "text": "dir_2 has been removed.\ndir_3 has been removed.\ndir_1 has been removed.\ndir_4 has been removed.\ndir_5 has been removed.\n",
          "name": "stdout"
        },
        {
          "output_type": "execute_result",
          "execution_count": 8,
          "data": {
            "text/plain": "['71.txt',\n '51.txt',\n '23.txt',\n '77.txt',\n '5.txt',\n '47.txt',\n '65.txt',\n '93.txt',\n '37.txt',\n '61.txt',\n '13.txt',\n '9.txt',\n '41.txt',\n '57.txt',\n '17.txt',\n '67.txt',\n '21.txt',\n '99.txt',\n '75.txt',\n '53.txt',\n '0.txt',\n '55.txt',\n '15.txt',\n '3.txt',\n '63.txt',\n '45.txt',\n '87.txt',\n '1.txt',\n '49.txt',\n '27.txt',\n '73.txt',\n '33.txt',\n '89.txt',\n '29.txt',\n '11.txt',\n '97.txt',\n '7.txt',\n '81.txt',\n '69.txt',\n '31.txt',\n '39.txt',\n '95.txt',\n '59.txt',\n '35.txt',\n '91.txt',\n '83.txt',\n '25.txt',\n '85.txt',\n '19.txt',\n '79.txt',\n '43.txt']"
          },
          "metadata": {}
        }
      ]
    },
    {
      "metadata": {
        "trusted": true
      },
      "cell_type": "code",
      "source": "# [ ] Write a program to ask the user for a file number, \n# then delete the file if it exists or display an appropriate error message if it does not.\n# Make sure the to run the environment setup code before running your own program.\n\n# Test your program with the following:\n# case 1: user inputs 84, 84.txt should be deleted\n# case 2: user inputs 84 (again), a File does not exist message is printed\n# case 3: user inputs 5, 5.txt should be deleted\n\nimport os\n\nif ('files_exercises' not in os.getcwd()):\n    print(\"STOP!!!! Run the environment setup code!\")\n\n#TODO: Your code goes here\nwhile True:\n    fileNum = input(\"Input a file number to delete.\")\n    filePath = fileNum+'.txt'\n    if os.path.exists(filePath) == False:\n        print(\"File does not exist.\")\n        break\n    elif filePath in os.listdir():\n        os.remove(filePath)\n        print(filePath,\"has been removed.\")\n        os.listdir()",
      "execution_count": 9,
      "outputs": [
        {
          "output_type": "stream",
          "name": "stdout",
          "text": "Input a file number to delete.5\n5.txt has been removed.\nInput a file number to delete.7\n7.txt has been removed.\nInput a file number to delete.7\nFile does not exist.\n"
        }
      ]
    },
    {
      "metadata": {},
      "cell_type": "markdown",
      "source": "---\n<font size=\"6\" color=\"#00A0B2\"  face=\"verdana\"> <B>Concepts</B></font>  \n\n## Handling File Exceptions\n[![view video](https://iajupyterprodblobs.blob.core.windows.net/imagecontainer/common/play_video.png)](http://edxinteractivepage.blob.core.windows.net/edxpages/f7cff1a7-5601-48a1-95a6-fd1fdfabd20e.html?details=[{\"src\":\"http://jupyternootbookwams.streaming.mediaservices.windows.net/b520f3b2-cb14-4093-8308-30ff3bc63f86/DEV330x-3_2c_handling_file_excep.ism/manifest\",\"type\":\"application/vnd.ms-sstr+xml\"}],[{\"src\":\"http://jupyternootbookwams.streaming.mediaservices.windows.net/66061025-1730-40e2-b57b-28f7254de964/DEV330x-3_2c_handling_file_exceptions.vtt\",\"srclang\":\"en\",\"kind\":\"subtitles\",\"label\":\"english\"}])\n\nIn the previous example, you anticipated some errors and tried to avoid them by testing that a path exists and whether it is to a file or directory. However, you still assumed the results of these tests are static and won't change while your program is running. This assumption might lead to errors again. For example, say you test for the existence of a file and determine that the file exists at the given path, and right after that another program moves the file; if your program attempts to remove the file, it will raise a `FileNotFoundError` because the file no longer exists in that location. Of course, this is considered an unhandled exception and your program will stop executing and display the error message as before.\n\nPython's philosophy in this case is to deal with these errors as exceptions and handle them using the techniques you saw in a previous lesson. This way, you can also deal with unexpected exceptions."
    },
    {
      "metadata": {},
      "cell_type": "markdown",
      "source": "---\n<font size=\"6\" color=\"#00A0B2\"  face=\"verdana\"> <B>Examples</B></font>\n\nIn these examples we use exception handling to make sure that a file exists and that it is a file."
    },
    {
      "metadata": {
        "trusted": true
      },
      "cell_type": "code",
      "source": "import os.path\n\nfile_path = \"parent_dir/fictitious_file.txt\"\n\n# Remove a file\n\ntry:\n    os.remove(file_path)\nexcept FileNotFoundError as exception_object:\n    print(\"Cannot find file: \", exception_object)\nexcept PermissionError as exception_object:\n    print(\"Cannot delete a directory: \", exception_object)\nexcept Exception as exception_object:\n    print(\"Unexpected exception: \", exception_object)",
      "execution_count": 9,
      "outputs": [
        {
          "output_type": "stream",
          "text": "Cannot find file:  [Errno 2] No such file or directory: 'parent_dir/fictitious_file.txt'\n",
          "name": "stdout"
        }
      ]
    },
    {
      "metadata": {
        "trusted": true
      },
      "cell_type": "code",
      "source": "import os.path\n\nfile_path = \"parent_dir\"\n\n# Remove a file\n\ntry:\n    os.remove(file_path)\nexcept FileNotFoundError as exception_object:\n    print(\"Cannot find file: \", exception_object)\nexcept PermissionError as exception_object:\n    print(\"Cannot delete a directory: \", exception_object)\nexcept Exception as exception_object:\n    print(\"Unexpected exception: \", exception_object)",
      "execution_count": 10,
      "outputs": [
        {
          "output_type": "stream",
          "text": "Cannot find file:  [Errno 2] No such file or directory: 'parent_dir'\n",
          "name": "stdout"
        }
      ]
    },
    {
      "metadata": {},
      "cell_type": "markdown",
      "source": "---\n<font size=\"6\" color=\"#B24C00\"  face=\"verdana\"> <B>Task 3</B></font>\n\n## Handling File Exceptions\n"
    },
    {
      "metadata": {
        "trusted": true
      },
      "cell_type": "code",
      "source": "# [ ] Write a program to ask the user for a file number, \n# then delete the file if it exists or display an appropriate error message if it does not.\n# Use file exception handling instead of file existence tests.\n# Make sure to run the environment setup code before running your own program.\n\n# Test your program with the following:\n# Case 1: When the user inputs 84, the program should delete the file 84.txt\n# Case 2: When the user inputs 84 (again), the program should print a File Not Found error message\n# Case 3: When the user inputs 5, the program should delete the file 5.txt\n\nimport os\n\nif ('files_exercises' not in os.getcwd()):\n    print(\"STOP!!!! Run the environment setup code!\")\n    \n    \n#TODO: Your code goes here\nwhile True:\n    fileNum = input(\"Input a file number to delete.\")\n    filePath = fileNum+'.txt'\n    try:\n        os.remove(filePath)\n    except FileNotFoundError:\n        print(\"File does not exist.\")\n        break\n    else:\n        print(filePath,\"has been removed\")\n#    if filePath in os.listdir():\n#        os.remove(filePath)\n#        print(filePath,\"has been removed.\")\n#        os.listdir()\n#    elif fileNum.lower() == 'q':\n#        break",
      "execution_count": 13,
      "outputs": [
        {
          "output_type": "stream",
          "name": "stdout",
          "text": "Input a file number to delete.7\n7.txt has been removed\nInput a file number to delete.9\n9.txt has been removed\nInput a file number to delete.7\nFile does not exist.\n"
        }
      ]
    },
    {
      "metadata": {},
      "cell_type": "markdown",
      "source": "---\n<font size=\"6\" color=\"#00A0B2\"  face=\"verdana\"> <B>Concepts</B></font>  \n\n\n## `with` Statements\n[![view video](https://iajupyterprodblobs.blob.core.windows.net/imagecontainer/common/play_video.png)](http://edxinteractivepage.blob.core.windows.net/edxpages/f7cff1a7-5601-48a1-95a6-fd1fdfabd20e.html?details=[{\"src\":\"http://jupyternootbookwams.streaming.mediaservices.windows.net/0533563a-7174-4ca5-a0f1-fc1295503f71/DEV330x-3_2d_with_statement.ism/manifest\",\"type\":\"application/vnd.ms-sstr+xml\"}],[{\"src\":\"http://jupyternootbookwams.streaming.mediaservices.windows.net/a3973afc-8100-4554-a53a-8983e5cc1d11/DEV330x-3_2d_with_statement.vtt\",\"srclang\":\"en\",\"kind\":\"subtitles\",\"label\":\"english\"}])\n\nAfter interacting with a file in Python, it is very important to close the file to ensure that all output is written properly and the resources are freed. Sometimes an exception is raised before reaching the `close()` statement, and the file is kept open. This issue can be resolved by placing the `close()` statement inside a `finally` clause. However, because the process of opening and closing a file is very common, Python provides a succinct `with` statement that performs the same task. The syntax of the `with` statement is:\n\n```python\nwith open(FILE_NAME, MODE) as VARIABLE:\n    code block\n```\n"
    },
    {
      "metadata": {},
      "cell_type": "markdown",
      "source": "---\n<font size=\"6\" color=\"#00A0B2\"  face=\"verdana\"> <B>Examples</B></font>\n\n### Without a `with` statement\nIn this example, you see that the file is still open after the `except` statement because `file.close()` is never reached."
    },
    {
      "metadata": {
        "trusted": true
      },
      "cell_type": "code",
      "source": "file_path = \"parent_dir/text_file.txt\"\n\ntry:\n    file = open(file_path, 'r')\n    x = int(file.readline()) # Raise an exception if lines are not numeric\n    file.close() # Might never be reached if file.write raised an error\nexcept Exception as exception_object:\n    print(\"Unexpected exception:\", exception_object)\n\nprint(\"File is closed?\", file.closed)",
      "execution_count": 1,
      "outputs": [
        {
          "output_type": "stream",
          "text": "Unexpected exception: invalid literal for int() with base 10: ''\nFile is closed? False\n",
          "name": "stdout"
        }
      ]
    },
    {
      "metadata": {},
      "cell_type": "markdown",
      "source": "### Using a `finally` statement\nThe `finally` clause will close the file whether an exception was raised or not."
    },
    {
      "metadata": {
        "trusted": true
      },
      "cell_type": "code",
      "source": "file_path = \"parent_dir/text_file.txt\"\n\ntry:\n    file = open(file_path, 'r')\n    x = int(file.readline()) #raise an exception if lines are not numeric\nexcept Exception as exception_object:\n    print(\"Unexpected exception:\", exception_object)\nfinally:\n    file.close() # will be executed whether an exception was raised or not\n\nprint(\"File is closed?\", file.closed)",
      "execution_count": 2,
      "outputs": [
        {
          "output_type": "stream",
          "text": "Unexpected exception: invalid literal for int() with base 10: ''\nFile is closed? True\n",
          "name": "stdout"
        }
      ]
    },
    {
      "metadata": {},
      "cell_type": "markdown",
      "source": "### Using a `with` statement\nYou need not explicitly close the file; the `with` statement will do it for you."
    },
    {
      "metadata": {
        "trusted": true
      },
      "cell_type": "code",
      "source": "file_path = \"parent_dir/text_file.txt\"\n\ntry:\n    with open(file_path, 'r') as file:\n        x = int(file.readline()) #raise an exception if lines are not numeric\nexcept Exception as exception_object:\n    print(\"Unexpected exception\", exception_object)\n\nprint(\"File is closed?\", file.closed)",
      "execution_count": 3,
      "outputs": [
        {
          "output_type": "stream",
          "text": "Unexpected exception invalid literal for int() with base 10: ''\nFile is closed? True\n",
          "name": "stdout"
        }
      ]
    },
    {
      "metadata": {},
      "cell_type": "markdown",
      "source": "---\n<font size=\"6\" color=\"#B24C00\"  face=\"verdana\"> <B>Task 4</B></font>\n\n## `with` Statements"
    },
    {
      "metadata": {
        "trusted": true
      },
      "cell_type": "code",
      "source": "# [ ] Write a program to print the first line of every file inside `files_exercises`\n# Use a `with` statement to open (and close) every file\n# Make sure the to run the environment setup code before running your own program.\n\n\nimport os\n\nif ('files_exercises' not in os.getcwd()):\n    print(\"STOP!!!! Run the environment setup code!\")\nfor file in range(1,100):\n    try:\n        filePath = str(file)+'.txt'\n        with open(filePath,'r') as file:    \n            x = int(file.readline())\n    except FileNotFoundError:\n        print(\"File not found.\")\nprint(\"File is closed?\",file.closed)\n#TODO: Your code goes here\n\n",
      "execution_count": 12,
      "outputs": [
        {
          "output_type": "stream",
          "text": "File not found.\nFile not found.\nFile not found.\nFile not found.\nFile not found.\nFile not found.\nFile not found.\nFile not found.\nFile not found.\nFile not found.\nFile not found.\nFile not found.\nFile not found.\nFile not found.\nFile not found.\nFile not found.\nFile not found.\nFile not found.\nFile not found.\nFile not found.\nFile not found.\nFile not found.\nFile not found.\nFile not found.\nFile not found.\nFile not found.\nFile not found.\nFile not found.\nFile not found.\nFile not found.\nFile not found.\nFile not found.\nFile not found.\nFile not found.\nFile not found.\nFile not found.\nFile not found.\nFile not found.\nFile not found.\nFile not found.\nFile not found.\nFile not found.\nFile not found.\nFile not found.\nFile not found.\nFile not found.\nFile not found.\nFile not found.\nFile not found.\nFile not found.\nFile not found.\nFile is closed? True\n",
          "name": "stdout"
        }
      ]
    }
  ],
  "metadata": {
    "kernelspec": {
      "name": "python36",
      "display_name": "Python 3.6",
      "language": "python"
    },
    "language_info": {
      "mimetype": "text/x-python",
      "nbconvert_exporter": "python",
      "name": "python",
      "pygments_lexer": "ipython3",
      "version": "3.6.6",
      "file_extension": ".py",
      "codemirror_mode": {
        "version": 3,
        "name": "ipython"
      }
    }
  },
  "nbformat": 4,
  "nbformat_minor": 2
}