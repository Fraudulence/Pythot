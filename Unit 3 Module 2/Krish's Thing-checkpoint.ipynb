{
  "cells": [
    {
      "metadata": {
        "trusted": true
      },
      "cell_type": "code",
      "source": "",
      "execution_count": null,
      "outputs": []
    },
    {
      "metadata": {
        "trusted": true
      },
      "cell_type": "code",
      "source": "",
      "execution_count": null,
      "outputs": []
    },
    {
      "metadata": {
        "trusted": true
      },
      "cell_type": "code",
      "source": "def numbers(list_of_numbers):  \n    finalValues = []\n    finalValues.append(list_of_numbers)\n    #Originally should be list_of_numbers\n    length = len(list_of_numbers)\n    #First for loop looks for next combination of numbers by finding the next value\n    for i in range(0,length-1):\n        tempArray = finalValues[-1][:]\n        temp = tempArray[0]\n        #Second for loop looks for the next combination of numbers by finding the numbers that follow the next value\n        for j in range(0,length-1):\n            tempArray[j] = tempArray[j+1]\n        tempArray[-1] = temp\n        #finalValues variable changes here\n        finalValues.append(tempArray)\n    return finalValues\n\nprint(numbers([1,2,3,4]))",
      "execution_count": 288,
      "outputs": [
        {
          "output_type": "stream",
          "text": "[[1, 2, 3, 4], [2, 3, 4, 1], [3, 4, 1, 2], [4, 1, 2, 3]]\n",
          "name": "stdout"
        }
      ]
    },
    {
      "metadata": {
        "trusted": true
      },
      "cell_type": "code",
      "source": "",
      "execution_count": null,
      "outputs": []
    }
  ],
  "metadata": {
    "kernelspec": {
      "name": "python36",
      "display_name": "Python 3.6",
      "language": "python"
    },
    "language_info": {
      "mimetype": "text/x-python",
      "nbconvert_exporter": "python",
      "name": "python",
      "pygments_lexer": "ipython3",
      "version": "3.6.6",
      "file_extension": ".py",
      "codemirror_mode": {
        "version": 3,
        "name": "ipython"
      }
    }
  },
  "nbformat": 4,
  "nbformat_minor": 2
}