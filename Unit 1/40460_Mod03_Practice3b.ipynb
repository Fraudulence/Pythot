{
  "cells": [
    {
      "metadata": {},
      "cell_type": "markdown",
      "source": "# Lab 3b  \n## Conditionals, Type, and Mathematics Extended   \n\n-----\n\n### Student will be able to\n- Code more than two choices using **`elif`**\n- Gather numeric input using type casting\n- Perform subtraction, multiplication and division operations in code  "
    },
    {
      "metadata": {},
      "cell_type": "markdown",
      "source": "## Tasks"
    },
    {
      "metadata": {},
      "cell_type": "markdown",
      "source": "### Rainbow colors\nAsk for input of a favorite rainbow color first letter: ROYGBIV.\n\nUsing `if`, `elif`, and `else`:  \n- Print the color matching the letter  \n    - R = Red  \n    - O = Orange  \n    - Y = Yellow  \n    - G = Green\n    - B = Blue\n    - I = Indigo\n    - V = Violet\n    - Else print \"no match\"\n"
    },
    {
      "metadata": {
        "trusted": true
      },
      "cell_type": "code",
      "source": "# [ ] complete rainbow colors\ncolor = input(\"Input the first letter of a color from the rainbow.\")\n\nif 'R' in color.upper() or 'O' in color.upper() or 'Y' in color.upper() or 'G' in color.upper() or 'B' in color.upper() or 'I' in color.upper() or 'V' in color.upper():\n    if color.upper() == 'R':\n        print(\"Red\")\n    elif color.upper() == 'O':\n         print(\"Orange\")\n    elif color.upper() == 'Y':\n        print(\"Yellow\")\n    elif color.upper() == 'G':\n         print(\"Green\")\n    elif color.upper() == 'B':\n         print(\"Blue\")\n    elif color.upper() == 'I':\n         print(\"Indigo\")\n    elif color.upper() == 'P':\n        print(\"Purple\")\n    else:\n        print(\"Invalid color.\")\n        ",
      "execution_count": 3,
      "outputs": [
        {
          "output_type": "stream",
          "name": "stdout",
          "text": "Input the first letter of a color from the rainbow.R\nRed\n"
        }
      ]
    },
    {
      "metadata": {
        "trusted": true
      },
      "cell_type": "code",
      "source": "# [ ] make the code above into a function rainbow_color() that has a string parameter, \n# get input and call the function and return the \ndef rainbowColor(color):\n    if 'R' in color.upper() or 'O' in color.upper() or 'Y' in color.upper() or 'G' in color.upper() or 'B' in color.upper() or 'I' in color.upper() or 'V' in color.upper():\n        if color.upper() == 'R':\n            print(\"Red\")\n        elif color.upper() == 'O':\n            print(\"Orange\")\n        elif color.upper() == 'Y':\n            print(\"Yellow\")\n        elif color.upper() == 'G':\n            print(\"Green\")\n        elif color.upper() == 'B':\n            print(\"Blue\")\n        elif color.upper() == 'I':\n            print(\"Indigo\")\n        elif color.upper() == 'P':\n            print(\"Purple\")\n    else:\n        print(\"Invalid color.\")\n\ncolor = input(\"Input the first letter of a color from the rainbow.\")\nrainbowColor(color)",
      "execution_count": 4,
      "outputs": [
        {
          "output_type": "stream",
          "name": "stdout",
          "text": "Input the first letter of a color from the rainbow.Y\nYellow\n"
        }
      ]
    },
    {
      "metadata": {},
      "cell_type": "markdown",
      "source": "# &nbsp;  \n**Create function age_20() that adds or subtracts 20 from your age for a return value based on current age** (use `if`) \n- Call the function with user input and then use the return value in a sentence  \nExample `age_20(25)` returns **5**: \n> \"5 years old, 20 years difference from now\""
    },
    {
      "metadata": {
        "trusted": true
      },
      "cell_type": "code",
      "source": "# [ ] complete age_20()\ndef age20(value):\n    difference = int(value) - 20\n    return str(difference) + \" years old, 20 years difference from now.\"\n    \nage = input(\"Input an age after 20.\")\nage20(age)",
      "execution_count": 5,
      "outputs": [
        {
          "output_type": "stream",
          "name": "stdout",
          "text": "Input an age after 20.35\n"
        },
        {
          "output_type": "execute_result",
          "execution_count": 5,
          "data": {
            "text/plain": "'15 years old, 20 years difference from now.'"
          },
          "metadata": {}
        }
      ]
    },
    {
      "metadata": {},
      "cell_type": "markdown",
      "source": "**Create a function rainbow_or_age that takes a string argument**\n- If argument is a digit return the value of calling age_20() with the str value cast as **`int`** \n- If argument is an alphabetical character return the value of calling rainbow_color() with the str\n- If neither return FALSE"
    },
    {
      "metadata": {
        "trusted": true
      },
      "cell_type": "code",
      "source": "# [ ]  create rainbow_or_age()\ndef rainbowOrAge(whatIsIt):\n    if whatIsIt.isdigit() == True:\n        return age20(value)\n    elif whatIsIt.isalpha() == True:\n        return rainbowColor(value)\n    else:\n        return False\n    \n#value = input(\"Input either an age over 20 or a color of the rainbow.\")\n#rainbowOrAge(value)",
      "execution_count": 13,
      "outputs": [
        {
          "output_type": "stream",
          "name": "stdout",
          "text": "Input either an age over 20 or a color of the rainbow.y\nYellow\n"
        }
      ]
    },
    {
      "metadata": {
        "trusted": true
      },
      "cell_type": "code",
      "source": "# [ ]  add 2 numbers from input using a cast to integer and display the answer \nadd1 = input(\"Input a value.\")\nadd2 = input(\"Input a value.\")\nadd = int(add1) + int(add2)\nprint(add)",
      "execution_count": 17,
      "outputs": [
        {
          "output_type": "stream",
          "name": "stdout",
          "text": "Input a value.4\nInput a value.6\n10\n"
        }
      ]
    },
    {
      "metadata": {
        "trusted": true
      },
      "cell_type": "code",
      "source": "# [ ] Multiply 2 numbers from input using cast and save the answer as part of a string \"the answer is...\"\n# display the string using print\nfactor1 = input(\"Input a value.\")\nfactor2 = input(\"Input a value.\")\nproduct = int(factor1) * int(factor2)\nprint(\"The answer is\",str(product))\n",
      "execution_count": 20,
      "outputs": [
        {
          "output_type": "stream",
          "name": "stdout",
          "text": "Input a value.5\nInput a value.7\nThe answer is 35\n"
        }
      ]
    },
    {
      "metadata": {
        "trusted": true
      },
      "cell_type": "code",
      "source": "# [ ] get input of 2 numbers and display the average: (num1 + num2) divided by 2\nadd1 = input(\"Input a value.\")\nadd2 = input(\"Input a value.\")\navg = (int(add1) + int(add2)) / 2\nprint(\"The answer is\",str(avg))\n",
      "execution_count": 23,
      "outputs": [
        {
          "output_type": "stream",
          "name": "stdout",
          "text": "Input a value.45\nInput a value.7\nThe answer is 26.0\n"
        }
      ]
    },
    {
      "metadata": {
        "trusted": true
      },
      "cell_type": "code",
      "source": "# [ ] get input of 2 numbers and subtract the largest from the smallest (use an if statement to see which is larger)\n# show the answer\nnum1 = input(\"Input a value.\")\nnum2 = input(\"Input a value.\")\nif num1 == num2:\n    difference = int(num1) - int(num2)\nelif num1 > num2:\n    difference = int(num1) - int(num2)\nelif num1 < num2:\n    difference = int(num2) - int(num1)\nelse:\n    print(\"Invalid numbers.\")\nprint(\"The answer is\",difference)\n",
      "execution_count": 26,
      "outputs": [
        {
          "output_type": "stream",
          "name": "stdout",
          "text": "Input a value.5\nInput a value.7\nThe answer is 2\n"
        }
      ]
    },
    {
      "metadata": {
        "trusted": true
      },
      "cell_type": "code",
      "source": "# [ ] Divide a larger number by a smaller number and print the integer part of the result\n# don't divide by zero! if a zero is input make the result zero\n# [ ] cast the answer to an integer to cut off the decimals and print the result\nnum1 = input(\"Input a value.\")\nnum2 = input(\"Input a value.\")\nif int(num1) == 0 and int(num2) == 0:\n    print(\"Cannot divide by 0.\")\nelif int(num1) == 0 or int(num2) == 0:\n    quotient = 0\n    print(\"The answer is\",int(quotient))\nelif num1 == num2:\n    quotient = int(num1) / int(num2)\n    print(\"The answer is\",int(quotient))\nelif num1 > num2:\n    quotient = int(num1) / int(num2)\n    print(\"The answer is\",int(quotient))\nelif num1 < num2:\n    quotient = int(num2) / int(num1)\n    print(\"The answer is\",int(quotient))\nelif num1.isalpha() == False or num2.isalpha() == False:\n    print(\"Invalid numbers.\")\n",
      "execution_count": 43,
      "outputs": [
        {
          "output_type": "stream",
          "name": "stdout",
          "text": "Input a value.8\nInput a value.3\nThe answer is 2\n"
        }
      ]
    },
    {
      "metadata": {},
      "cell_type": "markdown",
      "source": "[Terms of use](http://go.microsoft.com/fwlink/?LinkID=206977) &nbsp; [Privacy & cookies](https://go.microsoft.com/fwlink/?LinkId=521839) &nbsp; © 2017 Microsoft"
    }
  ],
  "metadata": {
    "anaconda-cloud": {},
    "kernelspec": {
      "name": "python3",
      "display_name": "Python 3",
      "language": "python"
    },
    "language_info": {
      "mimetype": "text/x-python",
      "nbconvert_exporter": "python",
      "name": "python",
      "pygments_lexer": "ipython3",
      "version": "3.5.4",
      "file_extension": ".py",
      "codemirror_mode": {
        "version": 3,
        "name": "ipython"
      }
    }
  },
  "nbformat": 4,
  "nbformat_minor": 1
}