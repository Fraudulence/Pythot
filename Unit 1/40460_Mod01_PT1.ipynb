{
  "cells": [
    {
      "metadata": {
        "collapsed": true
      },
      "cell_type": "markdown",
      "source": "#  Module 1 Performance Task  \nCourse 40460: Introduction to Python, Unit 1\n\nThe activity is based on Module 1 and is similar to the Jupyter Notebook for Module 1 practice, which you may have completed.\n\n> **NOTE:** This program requires print output and code syntax used in Module 1.\n\n| Some Assignment Requirements |  \n|:-------------------------------|  \n| **NOTE:** This program requires `print` output and using code syntax used in Module 1 such as variable assignment, `input`, `in` keyword, `.lower()` or `.upper()` method.  |  \n\n\n## Program: Furniture Store  \n\n1. **[ ]** Get user **`input`** for a collection of various furniture pieces  \n Save in a variable called **furniture_set**  \n *Example input*\n &nbsp; &nbsp; &nbsp; enter list of furniture items:&nbsp;\n chair, bed, couch, and end table &nbsp;\n&nbsp;\n\n2. **[ ]** Print **`True`** if \"couch\" is in the **furniture_set** string.  \n**[ ]** Test the code so far.  \n&nbsp;\n3. **[ ]** Modify the print statement to output similar to below.  \n*Example output*\n&nbsp; &nbsp; &nbsp; It is True that \"chair, bed, couch, and end table\" contains \"couch\"\n\nTest the code so far trying without the string \"couch\".  \n&nbsp;  \n4. **[ ]** Repeat the process checking the **furniture_set** for \"sofa\", **challenge** add \"table\" and \"ottoman\".  \n**[ ]** Test your code.  \n&nbsp;  \n  \n5. **[ ] Challenge:** Make your code work for input regardless of case, e.g. - print **`True`** for \"Bed\", \"BED\", or \"beD\".  \n"
    },
    {
      "metadata": {
        "trusted": true
      },
      "cell_type": "code",
      "source": "# Create Furniture Store code\n#Code created by Dylan The Villain Lang\n# [ ] get input for furniture_set variable\nfurnitureSet = input(\"Enter a furniture set. \")\n\n# [ ] print \"True\" message if \"couch\" is in the input or \"False\" message if not\nprint(\"It's\",'couch' in furnitureSet,\"that:\",furnitureSet,\"contains 'couch.'\")\n\n# [ ] print \"True\" message if \"sofa\" is in the input or \"False\" if not\nprint(\"It's\",'sofa' in furnitureSet,\"that:\",furnitureSet,\"contains 'sofa.'\")\n\n# [ ] Challenge: Check if \"table\" is in the input - print message\nprint(\"It's\",'table' in furnitureSet,\"that:\",furnitureSet,\"contains 'table.'\")\n\n\n# [ ] Challenge: Check if \"ottoman\" is in the input - print message\nif furnitureSet.upper() == \"OTTOMAN\" or furnitureSet.lower() == \"ottoman\" or furnitureSet().swapcase == \"oTtOmAn\" or furnitureSet().swapcase == \"OtToMaN\":\n    print(\"It's\",'ottoman' in furnitureSet,\"that:\",furnitureSet,\"contains 'ottoman.'\")\nelse:\n    print(\"It's\",'ottoman' in furnitureSet,\"that:\",furnitureSet,\"contains 'ottoman.'\")\n",
      "execution_count": 6,
      "outputs": [
        {
          "output_type": "stream",
          "name": "stdout",
          "text": "Enter a furniture set. OTTOMAN\nIt's False that: OTTOMAN contains 'couch.'\nIt's False that: OTTOMAN contains 'sofa.'\nIt's False that: OTTOMAN contains 'table.'\nIt's False that: OTTOMAN contains 'ottoman.'\n"
        }
      ]
    },
    {
      "metadata": {},
      "cell_type": "markdown",
      "source": "[Terms of use](http://go.microsoft.com/fwlink/?LinkID=206977) &nbsp; [Privacy & cookies](https://go.microsoft.com/fwlink/?LinkId=521839) &nbsp; © 2017 Microsoft"
    }
  ],
  "metadata": {
    "anaconda-cloud": {},
    "kernelspec": {
      "name": "python3",
      "display_name": "Python 3",
      "language": "python"
    },
    "language_info": {
      "mimetype": "text/x-python",
      "nbconvert_exporter": "python",
      "name": "python",
      "file_extension": ".py",
      "version": "3.5.4",
      "pygments_lexer": "ipython3",
      "codemirror_mode": {
        "version": 3,
        "name": "ipython"
      }
    }
  },
  "nbformat": 4,
  "nbformat_minor": 1
}