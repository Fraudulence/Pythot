{
  "cells": [
    {
      "metadata": {},
      "cell_type": "markdown",
      "source": "# Section 3.5  \n## Conditionals, Type, and Mathematics Extended\n- Conditionals: `elif`  \n- Casting   \n- **Basic math operators**  \n\n-----\n\n### Student will be able to\n- Code more than two choices using `elif`  \n- Gather numeric input using type casting   \n- **Perform subtraction, multiplication and division operations in code** \n"
    },
    {
      "metadata": {
        "collapsed": true
      },
      "cell_type": "markdown",
      "source": "## Concept: Basic Math Operators\n### `+` addition\n### `-` subtraction\n### `*` multiplication\n### `/` division  \n[![view video](https://iajupyterprodblobs.blob.core.windows.net/imagecontainer/common/play_video.png)]( http://edxinteractivepage.blob.core.windows.net/edxpages/f7cff1a7-5601-48a1-95a6-fd1fdfabd20e.html?details=[{\"src\":\"http://jupyternootbookwams.streaming.mediaservices.windows.net/5bc97f7e-3015-4178-ac20-371a5302def1/Unit1_Section5.2-Math-operators.ism/manifest\",\"type\":\"application/vnd.ms-sstr+xml\"}],[{\"src\":\"http://jupyternootbookwams.streaming.mediaservices.windows.net/5bc97f7e-3015-4178-ac20-371a5302def1/Unit1_Section5.2-Math-operators.vtt\",\"srclang\":\"en\",\"kind\":\"subtitles\",\"label\":\"english\"}])"
    },
    {
      "metadata": {
        "collapsed": true
      },
      "cell_type": "markdown",
      "source": "### Examples"
    },
    {
      "metadata": {
        "trusted": false
      },
      "cell_type": "code",
      "source": "# [ ] review and run example\nprint(\"3 + 5 =\",3 + 5)\nprint(\"3 + 5 - 9 =\", 3 + 5 - 9)\nprint(\"48/9 =\", 48/9)\nprint(\"5*5 =\", 5*5)\nprint(\"(14 - 8)*(19/4) =\", (14 - 8)*(19/4))",
      "execution_count": null,
      "outputs": []
    },
    {
      "metadata": {
        "trusted": false
      },
      "cell_type": "code",
      "source": "# [ ] review and run example - 'million_maker'\ndef million_maker():\n    make_big = input(\"enter a non-decimal number you wish were bigger: \")\n    return int(make_big)*1000000\n\nprint(\"Now you have\", million_maker())\n",
      "execution_count": null,
      "outputs": []
    },
    {
      "metadata": {},
      "cell_type": "markdown",
      "source": "## Task 1: Use math operators to solve the set of tasks below"
    },
    {
      "metadata": {
        "trusted": true
      },
      "cell_type": "code",
      "source": "# [ ] print the result of subtracting 15 from 43\nprint(15-43)\n",
      "execution_count": 1,
      "outputs": [
        {
          "output_type": "stream",
          "text": "-28\n",
          "name": "stdout"
        }
      ]
    },
    {
      "metadata": {
        "trusted": true
      },
      "cell_type": "code",
      "source": "# [ ] print the result of multiplying 15 and 43\nprint(15*43)\n",
      "execution_count": 2,
      "outputs": [
        {
          "output_type": "stream",
          "text": "645\n",
          "name": "stdout"
        }
      ]
    },
    {
      "metadata": {
        "trusted": true
      },
      "cell_type": "code",
      "source": "# [ ] print the result of dividing 156 by 12\nprint(156/12)\n",
      "execution_count": 3,
      "outputs": [
        {
          "output_type": "stream",
          "text": "13.0\n",
          "name": "stdout"
        }
      ]
    },
    {
      "metadata": {
        "trusted": true
      },
      "cell_type": "code",
      "source": "# [ ] print the result of dividing 21 by 0.5\nprint(21/.5)\n",
      "execution_count": 4,
      "outputs": [
        {
          "output_type": "stream",
          "text": "42.0\n",
          "name": "stdout"
        }
      ]
    },
    {
      "metadata": {
        "trusted": true
      },
      "cell_type": "code",
      "source": "# [ ] print the result of adding 111 plus 84 and then subtracting 45\nprint(111+84-45)\n",
      "execution_count": 5,
      "outputs": [
        {
          "output_type": "stream",
          "text": "150\n",
          "name": "stdout"
        }
      ]
    },
    {
      "metadata": {
        "trusted": true
      },
      "cell_type": "code",
      "source": "# [ ] print the result of adding 21 and 4 and then multiplying that sum by 4\nprint((21+4)*4)\n",
      "execution_count": 6,
      "outputs": [
        {
          "output_type": "stream",
          "text": "100\n",
          "name": "stdout"
        }
      ]
    },
    {
      "metadata": {
        "collapsed": true
      },
      "cell_type": "markdown",
      "source": "## Task 2: Multiplying calculator function\n- Define function **`multiply()`**, and within the function:\n  - Get user input() of two *strings* made of whole numbers\n  - Cast the input to **`int()`**\n  - Multiply the integers and **return** the equation with result as a **`str()`**\n    - **return** example \n     ```python\n     9 * 13 = 117\n     ```"
    },
    {
      "metadata": {
        "trusted": true
      },
      "cell_type": "code",
      "source": "# [ ] create and test multiply() function\ndef multiply(factor1,factor2):\n    product = int(factor1)*int(factor2)\n    return str(product)\nint1 = input(\"Enter an integer value.\")\nint2 = input(\"Enter an integer value.\")\nmultiply(int1,int2)",
      "execution_count": 3,
      "outputs": [
        {
          "output_type": "stream",
          "name": "stdout",
          "text": "Enter an integer value.5\nEnter an integer value.5\n"
        },
        {
          "output_type": "execute_result",
          "execution_count": 3,
          "data": {
            "text/plain": "'25'"
          },
          "metadata": {}
        }
      ]
    },
    {
      "metadata": {
        "collapsed": true
      },
      "cell_type": "markdown",
      "source": "## Task 3: Improved multiplying calculator function\n### Putting together conditionals, input casting and math\n- #### Update the multiply() function to multiply or divide \n  - Single parameter is **`operator`** with arguments of **`*`** or **`/`** operator\n  - Default operator is \"*\" (multiply)\n  - **Return** the result of multiplication or division\n  - If operator other than **`\"*\"`** or **`\"/\"`**  then **` return \"Invalid Operator\"`**"
    },
    {
      "metadata": {
        "trusted": true
      },
      "cell_type": "code",
      "source": "# [ ] create improved multiply() function and test with /, no argument, and an invalid operator ($)\ndef multiply(operator):\n   # if operator == \"D\":\n       # answer = int(int1)/int(int2)\n #   elif operator == \"M\":\n     #   answer = int(int1)*int(int2)\n  #  return str(answer)\n\n    int1 = input(\"Enter a value\")\n    int2 = input(\"Enter a value\")\n    if operation == \"/\":\n        result = int(int1)/int(int2)\n    elif operation == \"*\":\n        result = int(int1)*int(int2)\n    else:\n        print(\"Invalid operator.\")\n    return str(result)\n\noperation = input(\"Multiply or divide?\")\nmultiply(operation)",
      "execution_count": 2,
      "outputs": [
        {
          "output_type": "stream",
          "name": "stdout",
          "text": "Multiply or divide?/\nEnter a value5\nEnter a value2\n"
        },
        {
          "output_type": "execute_result",
          "execution_count": 2,
          "data": {
            "text/plain": "'2.5'"
          },
          "metadata": {}
        }
      ]
    },
    {
      "metadata": {},
      "cell_type": "markdown",
      "source": "## Task 4: Fix the errors"
    },
    {
      "metadata": {
        "trusted": true
      },
      "cell_type": "code",
      "source": "# Review, run, fix \nstudent_name = input(\"enter name: \").capitalize()\nif student_name.startswith(\"F\"):\n    print(student_name,\"Congratulations, names starting with 'F' get to go first today!\")\nelif student_name.startswith(\"G\"):\n    print(student_name,\"Congratulations, names starting with 'G' get to go second today!\")\nelse:\n    print(student_name, \"please wait for students with names staring with 'F' and 'G' to go first today.\")\n\n",
      "execution_count": 1,
      "outputs": [
        {
          "output_type": "stream",
          "name": "stdout",
          "text": "enter name: Joker\nJoker please wait for students with names staring with 'F' and 'G' to go first today.\n"
        }
      ]
    },
    {
      "metadata": {
        "collapsed": true
      },
      "cell_type": "markdown",
      "source": "[Terms of use](http://go.microsoft.com/fwlink/?LinkID=206977) &nbsp; [Privacy & cookies](https://go.microsoft.com/fwlink/?LinkId=521839) &nbsp; © 2017 Microsoft"
    }
  ],
  "metadata": {
    "anaconda-cloud": {},
    "kernelspec": {
      "name": "python3",
      "display_name": "Python 3",
      "language": "python"
    },
    "language_info": {
      "mimetype": "text/x-python",
      "nbconvert_exporter": "python",
      "name": "python",
      "pygments_lexer": "ipython3",
      "version": "3.5.4",
      "file_extension": ".py",
      "codemirror_mode": {
        "version": 3,
        "name": "ipython"
      }
    }
  },
  "nbformat": 4,
  "nbformat_minor": 1
}