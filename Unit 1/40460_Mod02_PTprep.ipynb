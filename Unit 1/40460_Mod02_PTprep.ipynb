{
  "cells": [
    {
      "metadata": {
        "trusted": true
      },
      "cell_type": "code",
      "source": "#Dylan The Villain Lang\n#Number 1\n#a. def is what helps create the name of a function. It is what starts out a function.\n#b. function is the method in which can be invoked to perform a specific task.\n#c. header is the name of the function.\n#d. parameter is the data that is created in the function, as a means of transferring an argument into a variable specific to the function.\n#e. argument is the data that gets passed into the function to perform a function with the arguments.\n#f. built in functions are preexisting functions that can be called without creating them, as they have already been defined.\n#g. scope is the area of code in which variables can be used.\n#h. sequence is the order in which code is organized and processed (the ideal sequence with functions and function calls is starting the code with defining the function before calling the function).\n#i. hard-coding is the creation of \"fixed\" code that will be defined, no matter what. It is not received by the user, but it's already set in place by the programmer.",
      "execution_count": null,
      "outputs": []
    },
    {
      "metadata": {
        "trusted": true
      },
      "cell_type": "code",
      "source": "",
      "execution_count": null,
      "outputs": []
    },
    {
      "metadata": {
        "trusted": true
      },
      "cell_type": "code",
      "source": "#Numbers 2 and 6a\ndef sayHello():\n    print(\"Hello\")\nsayHello()",
      "execution_count": 4,
      "outputs": [
        {
          "output_type": "stream",
          "text": "Hello\n",
          "name": "stdout"
        }
      ]
    },
    {
      "metadata": {
        "trusted": true
      },
      "cell_type": "code",
      "source": "#Numbers 3, 4, 6b, 6c\ndef sayHello(name):\n    print(\"Hello,\",name)\ninput1 = input(\"Enter a name.\")\nsayHello(input1)",
      "execution_count": 3,
      "outputs": [
        {
          "output_type": "stream",
          "name": "stdout",
          "text": "Enter a name.Joker\nHello, Joker\n"
        }
      ]
    },
    {
      "metadata": {
        "trusted": true
      },
      "cell_type": "code",
      "source": "#Numbers 5, 6d, and 6e\ndef sayHello(name = \"Joe\"):\n    print(\"Hello,\",name)\ninput1 = input(\"Input a name.\")\n#Number 6d\nsayHello()\n#Number 6e\nsayHello(input1)",
      "execution_count": 7,
      "outputs": [
        {
          "output_type": "stream",
          "name": "stdout",
          "text": "Input a name.Joker\nHello, Joe\nHello, Joker\n"
        }
      ]
    },
    {
      "metadata": {
        "trusted": true
      },
      "cell_type": "code",
      "source": "#Number 7 and 8\ndef summation(add1,add2):\n    return int(add1)+int(add2)\nnum1 = input(\"Enter a number to add\")\nnum2 = input(\"Enter a number to add\")\nsummation(num1,num2)",
      "execution_count": 5,
      "outputs": [
        {
          "output_type": "stream",
          "name": "stdout",
          "text": "Enter a number to add4\nEnter a number to add6\n"
        },
        {
          "output_type": "execute_result",
          "execution_count": 5,
          "data": {
            "text/plain": "10"
          },
          "metadata": {}
        }
      ]
    },
    {
      "metadata": {
        "trusted": true
      },
      "cell_type": "code",
      "source": "#Number 9: Results in a NameError.\nsayHellox()\ndef sayHellox():\n    print(\"Hello\")",
      "execution_count": 6,
      "outputs": [
        {
          "output_type": "error",
          "ename": "NameError",
          "evalue": "name 'sayHellox' is not defined",
          "traceback": [
            "\u001b[0;31m---------------------------------------------------------------------------\u001b[0m",
            "\u001b[0;31mNameError\u001b[0m                                 Traceback (most recent call last)",
            "\u001b[0;32m<ipython-input-6-09f7f2c4d741>\u001b[0m in \u001b[0;36m<module>\u001b[0;34m()\u001b[0m\n\u001b[1;32m      1\u001b[0m \u001b[0;31m#Number 9: Results in a NameError.\u001b[0m\u001b[0;34m\u001b[0m\u001b[0;34m\u001b[0m\u001b[0m\n\u001b[0;32m----> 2\u001b[0;31m \u001b[0msayHellox\u001b[0m\u001b[0;34m(\u001b[0m\u001b[0;34m)\u001b[0m\u001b[0;34m\u001b[0m\u001b[0m\n\u001b[0m\u001b[1;32m      3\u001b[0m \u001b[0;32mdef\u001b[0m \u001b[0msayHellox\u001b[0m\u001b[0;34m(\u001b[0m\u001b[0;34m)\u001b[0m\u001b[0;34m:\u001b[0m\u001b[0;34m\u001b[0m\u001b[0m\n\u001b[1;32m      4\u001b[0m     \u001b[0mprint\u001b[0m\u001b[0;34m(\u001b[0m\u001b[0;34m\"Hello\"\u001b[0m\u001b[0;34m)\u001b[0m\u001b[0;34m\u001b[0m\u001b[0m\n",
            "\u001b[0;31mNameError\u001b[0m: name 'sayHellox' is not defined"
          ]
        }
      ]
    },
    {
      "metadata": {
        "trusted": true
      },
      "cell_type": "code",
      "source": "",
      "execution_count": null,
      "outputs": []
    }
  ],
  "metadata": {
    "kernelspec": {
      "name": "python3",
      "display_name": "Python 3",
      "language": "python"
    }
  },
  "nbformat": 4,
  "nbformat_minor": 2
}