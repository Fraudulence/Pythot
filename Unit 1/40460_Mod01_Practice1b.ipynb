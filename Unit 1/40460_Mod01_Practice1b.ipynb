{
  "cells": [
    {
      "metadata": {},
      "cell_type": "markdown",
      "source": "# Lab 1b\n## Strings Practice: Input, Testing, and Formatting\n\n-----\n\n### Student will be able to\n- Gather, store and use string `input()`  \n- Format `print()` output  \n- Test string characteristics  \n- Format string output  \n- Search for a string in a string  "
    },
    {
      "metadata": {},
      "cell_type": "markdown",
      "source": "## input()\nGetting input from users"
    },
    {
      "metadata": {
        "scrolled": true,
        "trusted": true
      },
      "cell_type": "code",
      "source": "# [ ] get user input for a variable named remind_me\nremind_me = input()\n\n# [ ] print the value of the variable remind_me\nprint(remind_me)\n",
      "execution_count": 1,
      "outputs": [
        {
          "output_type": "stream",
          "name": "stdout",
          "text": "Need to study\nNeed to study\n"
        }
      ]
    },
    {
      "metadata": {
        "trusted": true
      },
      "cell_type": "code",
      "source": "# use string addition to print \"remember: \" before the remind_me input string\nprint(\"Remember:\",remind_me)\n",
      "execution_count": 2,
      "outputs": [
        {
          "output_type": "stream",
          "text": "Remember: Need to study\n",
          "name": "stdout"
        }
      ]
    },
    {
      "metadata": {},
      "cell_type": "markdown",
      "source": "### Program: Meeting Details\n#### [ ] Get user **input** for meeting subject and time\n`What is the meeting subject?: plan for graduation`  \n`What is the meeting time?: 3:00 PM on Monday`  \n\n#### [ ] Print **output** with descriptive labels  \n`Meeting Subject: plan for graduation`  \n`Meeting Time:    3:00 PM on Monday`"
    },
    {
      "metadata": {
        "trusted": true
      },
      "cell_type": "code",
      "source": "# [ ] get user input for 2 variables: meeting_subject and meeting_time\nmeeting_subject = input()\nmeeting_time = input()\n\n# [ ] use string addition to print meeting subject and time with labels\nprint(\"I am meeting in order to\",meeting_subject,\"at\",meeting_time)\n\n\n",
      "execution_count": 3,
      "outputs": [
        {
          "output_type": "stream",
          "name": "stdout",
          "text": "study\n5 pm\nI am meeting in order to study at 5 pm\n"
        }
      ]
    },
    {
      "metadata": {
        "collapsed": true
      },
      "cell_type": "markdown",
      "source": "## print() formatting \n### Combining multiple strings separated by commas in the print() function"
    },
    {
      "metadata": {
        "trusted": true
      },
      "cell_type": "code",
      "source": "# [ ] print the combined strings \"Wednesday is\" and \"in the middle of the week\" \nprint(\"Wednesday is\",\"in the middle of the week\")\n",
      "execution_count": 4,
      "outputs": [
        {
          "output_type": "stream",
          "text": "Wednesday is in the middle of the week\n",
          "name": "stdout"
        }
      ]
    },
    {
      "metadata": {
        "trusted": true
      },
      "cell_type": "code",
      "source": "# [ ] print combined string \"Remember to\" and the string variable remind_me from input above\nprint(\"Remember to\",remind_me)\n",
      "execution_count": 5,
      "outputs": [
        {
          "output_type": "stream",
          "text": "Remember to Need to study\n",
          "name": "stdout"
        }
      ]
    },
    {
      "metadata": {
        "trusted": true
      },
      "cell_type": "code",
      "source": "# [ ] Combine 3 variables from above with multiple strings\nprint(remind_me,meeting_subject,meeting_time)\n",
      "execution_count": 6,
      "outputs": [
        {
          "output_type": "stream",
          "text": "Need to study study 5 pm\n",
          "name": "stdout"
        }
      ]
    },
    {
      "metadata": {
        "collapsed": true
      },
      "cell_type": "markdown",
      "source": "### print() quotation marks"
    },
    {
      "metadata": {
        "trusted": true
      },
      "cell_type": "code",
      "source": "# [ ] print a string sentence that will display an Apostrophe (')\nprint(\"I got 'em good\")\n\n",
      "execution_count": 7,
      "outputs": [
        {
          "output_type": "stream",
          "text": "I got 'em good\n",
          "name": "stdout"
        }
      ]
    },
    {
      "metadata": {
        "trusted": true
      },
      "cell_type": "code",
      "source": "# [ ] print a string sentence that will display an Apostrophe (')\nprint(\"I got 'em good\")\n\n\n",
      "execution_count": 8,
      "outputs": [
        {
          "output_type": "stream",
          "text": "I got 'em good\n",
          "name": "stdout"
        }
      ]
    },
    {
      "metadata": {
        "collapsed": true
      },
      "cell_type": "markdown",
      "source": "## Boolean string tests"
    },
    {
      "metadata": {},
      "cell_type": "markdown",
      "source": "### Vehicle tests  \n#### Get user input for a variable named vehicle  \nPrint the following test results:\n- Check True or False if vehicle is All alphabetical characters using .isalpha()  \n- Check True or False if vehicle is only All alphabetical & numeric characters  \n- Check True or False if vehicle is Capitalized (first letter only)  \n- Check True or False if vehicle is All lowercase  \n- **Bonus:** Print description for each test (e.g.- `\"All Alpha: True\"`)"
    },
    {
      "metadata": {
        "trusted": true
      },
      "cell_type": "code",
      "source": "# [ ] complete vehicle tests \nvehicle = input()\nprint(\"All alpha:\",vehicle.isalpha())\nprint(\"All lowercase:\",vehicle.islower())\nprint(\"First letter capitalized:\",vehicle.capitalize() in vehicle)\nprint(\"All alpha and numeric characters:\",vehicle.isalnum())",
      "execution_count": 9,
      "outputs": [
        {
          "output_type": "stream",
          "name": "stdout",
          "text": "Oof\nAll alpha: True\nAll lowercase: False\nFirst letter capitalized: True\nAll alpha and numeric characters: True\n"
        }
      ]
    },
    {
      "metadata": {
        "trusted": true
      },
      "cell_type": "code",
      "source": "# [ ] print True or False if color starts with \"b\" \nprint('b' in color)\n",
      "execution_count": 10,
      "outputs": [
        {
          "output_type": "error",
          "ename": "NameError",
          "evalue": "name 'color' is not defined",
          "traceback": [
            "\u001b[0;31m---------------------------------------------------------------------------\u001b[0m",
            "\u001b[0;31mNameError\u001b[0m                                 Traceback (most recent call last)",
            "\u001b[0;32m<ipython-input-10-cc2126176b79>\u001b[0m in \u001b[0;36m<module>\u001b[0;34m()\u001b[0m\n\u001b[1;32m      1\u001b[0m \u001b[0;31m# [ ] print True or False if color starts with \"b\"\u001b[0m\u001b[0;34m\u001b[0m\u001b[0;34m\u001b[0m\u001b[0m\n\u001b[0;32m----> 2\u001b[0;31m \u001b[0mprint\u001b[0m\u001b[0;34m(\u001b[0m\u001b[0;34m'b'\u001b[0m \u001b[0;32min\u001b[0m \u001b[0mcolor\u001b[0m\u001b[0;34m)\u001b[0m\u001b[0;34m\u001b[0m\u001b[0m\n\u001b[0m",
            "\u001b[0;31mNameError\u001b[0m: name 'color' is not defined"
          ]
        }
      ]
    },
    {
      "metadata": {
        "trusted": true
      },
      "cell_type": "code",
      "source": "",
      "execution_count": null,
      "outputs": []
    },
    {
      "metadata": {},
      "cell_type": "markdown",
      "source": "## String formatting"
    },
    {
      "metadata": {
        "trusted": true
      },
      "cell_type": "code",
      "source": "# [ ] print the string variable capital_this Capitalizing only the first letter\ncapitalize_this = \"the TIME is Noon.\"\nprint(capitalize_this.capitalize())\n",
      "execution_count": null,
      "outputs": []
    },
    {
      "metadata": {
        "trusted": true
      },
      "cell_type": "code",
      "source": "# print the string variable swap_this in swapped case\nswap_this = \"wHO writes LIKE tHIS?\"\nprint(swap_this.swapcase())\n",
      "execution_count": null,
      "outputs": []
    },
    {
      "metadata": {
        "trusted": true
      },
      "cell_type": "code",
      "source": "# print the string variable whisper_this in all lowercase\nwhisper_this = \"Can you hear me?\"\nprint(whisper_this.lower())\n",
      "execution_count": null,
      "outputs": []
    },
    {
      "metadata": {
        "trusted": true
      },
      "cell_type": "code",
      "source": "# print the string variable yell_this in all UPPERCASE\nyell_this = \"Can you hear me Now!?\"\nprint(yell_this.upper())\n",
      "execution_count": null,
      "outputs": []
    },
    {
      "metadata": {
        "trusted": true
      },
      "cell_type": "code",
      "source": "#format input using .upper(), .lower(), .swapcase, .capitalize()\nformat_input = input('enter a string to reformat: ')\nprint(format_input.upper(),format_input.lower(),format_input.swapcase(),format_input.capitalize())\n",
      "execution_count": null,
      "outputs": []
    },
    {
      "metadata": {},
      "cell_type": "markdown",
      "source": "### input() formatting"
    },
    {
      "metadata": {
        "trusted": true
      },
      "cell_type": "code",
      "source": "# [ ] get user input for a variable named color\n# [ ] modify color to be all lowercase and print\ncolor = input()\nprint(color.lower())\n",
      "execution_count": null,
      "outputs": []
    },
    {
      "metadata": {
        "trusted": true
      },
      "cell_type": "code",
      "source": "# [ ] get user input using variable remind_me and format to all **lowercase** and print\n# [ ] test using input with mixed upper and lower cases\nremind_me = input()\nprint(remind_me.lower())\n",
      "execution_count": null,
      "outputs": []
    },
    {
      "metadata": {
        "trusted": true
      },
      "cell_type": "code",
      "source": "# [] get user input for the variable yell_this and format as a \"YELL\" to ALL CAPS\nyellThis = \"YELL\"\nprint(yellThis.upper())\n",
      "execution_count": null,
      "outputs": []
    },
    {
      "metadata": {
        "trusted": true
      },
      "cell_type": "code",
      "source": "",
      "execution_count": null,
      "outputs": []
    },
    {
      "metadata": {},
      "cell_type": "markdown",
      "source": "## \"in\" keyword\n### Boolean: short_str in long_str"
    },
    {
      "metadata": {
        "trusted": true
      },
      "cell_type": "code",
      "source": "# [ ] get user input for the name of some animals in the variable animals_input\nanimals_input = input()\n\n# [ ] print true or false if 'cat' is in the string variable animals_input\nprint('cat' in animals_input)\n",
      "execution_count": null,
      "outputs": []
    },
    {
      "metadata": {
        "trusted": true
      },
      "cell_type": "code",
      "source": "# [ ] get user input for color\ncolor = input()\n\n# [ ] print True or False for starts with \"b\"\nprint('b' in color)\n\n# [ ] print color variable value exactly as input \n#     test with input: \"Blue\", \"BLUE\", \"bLUE\"\nprint(color)\n\n\n",
      "execution_count": null,
      "outputs": []
    },
    {
      "metadata": {},
      "cell_type": "markdown",
      "source": "## Program: Guess what I'm reading\n### short_str in long_str\n\n1. **[ ]** get user **`input`** for a single word describing something that can be read \n save in a variable called **can_read**  \n e.g. - \"website\", \"newspaper\", \"blog\", \"textbook\"  \n &nbsp;  \n2. **[ ]** get user **`input`** for 3 things can be read  \n save in a variable called **can_read_things**  \n&nbsp;  \n\n3. **[ ]** print **`true`** if the **can_read** string is found  \n **in** the **can_read_things** string variable\n  \n*Example of program input and output*  \n[![01 02 practice Allergy-input](https://iajupyterprodblobs.blob.core.windows.net/imagecontainer/guess_reading.gif) ](https://1drv.ms/i/s!Am_KPRosgtaij7A_G6RtDlWZeYA3ZA)\n"
    },
    {
      "metadata": {
        "trusted": true
      },
      "cell_type": "code",
      "source": "",
      "execution_count": null,
      "outputs": []
    },
    {
      "metadata": {
        "trusted": true
      },
      "cell_type": "code",
      "source": "# project: \"guess what I'm reading\"\n\n# 1[ ] get 1 word input for can_read variable\ncan_read = input(\"add 1: \")\n# 2[ ] get 3 things input for can_read_things variable\n\ncan_read_things = input(\"add 3: \")\n#print(can_read in can_read_things)\n#print(can_read)\n\n# 3[ ] print True if can_read is in can_read_things\nprint(\"Item found:\",can_read in can_read_things)\n\n# [] challenge: format the output to read \"item found = True\" (or false)\n# hint: look print formatting exercises\n\n",
      "execution_count": 2,
      "outputs": [
        {
          "output_type": "stream",
          "name": "stdout",
          "text": "add 1: oof\nadd 3: oof,oof,wat\nItem found: True\n"
        }
      ]
    },
    {
      "metadata": {},
      "cell_type": "markdown",
      "source": "## Program: Allergy Check\n\n1. **[ ]** get user **`input`** for categories of food eaten in the last 24 hours  \n save in a variable called **input_test**  \n *Example input*\n [![01 02 practice Allergy-input](https://iajupyterprodblobs.blob.core.windows.net/imagecontainer/eaten_input.gif) ](https://1drv.ms/i/s!Am_KPRosgtaij65qzFD5CGvv95-ijg)\n&nbsp;  \n2. **[ ]** Print **`True`** if \"dairy\" is in the **input_test** string.  \n**[ ]** Test the code so far.  \n&nbsp;\n3. **[ ]** Modify the print statement to output similar to below.  \n*Example output*\n[![01 02 Allergy output](https://iajupyterprodblobs.blob.core.windows.net/imagecontainer/eaten_output.gif) ](https://1drv.ms/i/s!Am_KPRosgtaij65rET-wmlpCdMX7CQ)  \nTest the code so far trying input including and without the string \"dairy\".  \n&nbsp;  \n\n4. **[ ]** Repeat the process checking the input for \"nuts\", **challenge** add \"Seafood\" and \"chocolate\".  \n**[ ]** Test your code  \n&nbsp;  \n  \n5. **[ ] Challenge:** Make your code work for input regardless of case, e.g. - print **`True`** for \"Nuts\", \"NuTs\", \"NUTS\" or \"nuts\".  \n"
    },
    {
      "metadata": {
        "trusted": true
      },
      "cell_type": "code",
      "source": "# Create Allergy check code\n\n# [ ] get input for input_test variable\ninput_test = input()\n\n# [ ] print \"True\" message if \"dairy\" is in the input or False message if not\nprint(\"It is\",'dairy' in input_test,\"that:\",input_test,\"contains 'dairy'\")\n\n# [ ] print True message if \"nuts\" is in the input or False if not\nprint(\"It is\",'nuts' in input_test,\"that:\",input_test,\"contains 'nuts'\")\n\n# [ ] Challenge: Check if \"seafood\" is in the input - print message\nprint(\"It is\",'seafood' in input_test,\"that:\",input_test,\"contains 'seafood'\")\n\n\n# [ ] Challenge: Check if \"chocolate\" is in the input - print message\n#print(\"Chocolate:\",'chocolate' or 'CHOCOLATE' or 'Chocolate' or 'cHoCoLaTe' or 'ChOcAlAtE' in input_test.lower() or in input_test.capitalize() or in input_test.upper or in input_test.swapcase()\nprint(\"It is\",'chocolate' in input_test,\"that:\",input_test,\"contains 'chocolate'\")\n",
      "execution_count": 4,
      "outputs": [
        {
          "output_type": "stream",
          "name": "stdout",
          "text": "what\nIt is False that: what contains 'dairy'\nIt is False that: what contains 'nuts'\nIt is False that: what contains 'seafood'\nIt is False that: what contains 'chocolate'\n"
        }
      ]
    },
    {
      "metadata": {},
      "cell_type": "markdown",
      "source": "[Terms of use](http://go.microsoft.com/fwlink/?LinkID=206977) &nbsp; [Privacy & cookies](https://go.microsoft.com/fwlink/?LinkId=521839) &nbsp; © 2017 Microsoft"
    }
  ],
  "metadata": {
    "anaconda-cloud": {},
    "kernelspec": {
      "name": "python3",
      "display_name": "Python 3",
      "language": "python"
    },
    "language_info": {
      "mimetype": "text/x-python",
      "nbconvert_exporter": "python",
      "name": "python",
      "pygments_lexer": "ipython3",
      "version": "3.5.4",
      "file_extension": ".py",
      "codemirror_mode": {
        "version": 3,
        "name": "ipython"
      }
    }
  },
  "nbformat": 4,
  "nbformat_minor": 1
}